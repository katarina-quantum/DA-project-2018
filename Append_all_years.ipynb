{
 "cells": [
  {
   "cell_type": "code",
   "execution_count": 1,
   "metadata": {},
   "outputs": [],
   "source": [
    "import pandas as pd\n",
    "import numpy as np"
   ]
  },
  {
   "cell_type": "markdown",
   "metadata": {},
   "source": [
    "##### Ted nacitame data za vsechny roky"
   ]
  },
  {
   "cell_type": "code",
   "execution_count": 2,
   "metadata": {},
   "outputs": [],
   "source": [
    "Lab2018 = pd.read_csv('years/year_2018.csv',  encoding='utf-8')"
   ]
  },
  {
   "cell_type": "code",
   "execution_count": 3,
   "metadata": {},
   "outputs": [],
   "source": [
    "Lab2017 = pd.read_csv('years/year_2017.csv',  encoding='utf-8')"
   ]
  },
  {
   "cell_type": "code",
   "execution_count": 4,
   "metadata": {},
   "outputs": [],
   "source": [
    "Lab2016 = pd.read_csv('years/year_2016.csv',  encoding='utf-8')"
   ]
  },
  {
   "cell_type": "code",
   "execution_count": 5,
   "metadata": {},
   "outputs": [],
   "source": [
    "Lab2015 = pd.read_csv('years/year_2015.csv',  encoding='utf-8')"
   ]
  },
  {
   "cell_type": "code",
   "execution_count": 6,
   "metadata": {},
   "outputs": [],
   "source": [
    "Lab2014 = pd.read_csv('years/year_2014.csv',  encoding='utf-8')"
   ]
  },
  {
   "cell_type": "code",
   "execution_count": 7,
   "metadata": {},
   "outputs": [],
   "source": [
    "Lab2013 = pd.read_csv('years/year_2013.csv',  encoding='utf-8')"
   ]
  },
  {
   "cell_type": "code",
   "execution_count": 8,
   "metadata": {},
   "outputs": [],
   "source": [
    "Lab2012 = pd.read_csv('years/year_2012.csv',  encoding='utf-8')"
   ]
  },
  {
   "cell_type": "markdown",
   "metadata": {},
   "source": [
    "### V roce 2012 a 2011 pouzivali jiny nazvy dvou sloupcu. Misto \"ATC7\" pouzivali \"ATC\". A misto \"Počet definovaných denních dávek/balení\" pouzivali jiny slovosled: \"Počet denních definovaných dávek/ balení\". Aby nam to nedelalo problem pri pripojeni tabulek,  musime prejmenovat."
   ]
  },
  {
   "cell_type": "code",
   "execution_count": 9,
   "metadata": {},
   "outputs": [],
   "source": [
    "Lab2012 = Lab2012.rename(index=str, columns={'ATC': 'ATC7', 'Počet denních definovaných dávek/ balení':'Počet definovaných denních dávek/balení'})"
   ]
  },
  {
   "cell_type": "code",
   "execution_count": 10,
   "metadata": {},
   "outputs": [],
   "source": [
    "Lab2011 = pd.read_csv('years/year_2011.csv',  encoding='utf-8')"
   ]
  },
  {
   "cell_type": "code",
   "execution_count": 11,
   "metadata": {},
   "outputs": [],
   "source": [
    "Lab2011 = Lab2011.rename(index=str, columns={'ATC': 'ATC7', 'Počet denních definovaných dávek/ balení':'Počet definovaných denních dávek/balení'})"
   ]
  },
  {
   "cell_type": "code",
   "execution_count": 12,
   "metadata": {},
   "outputs": [
    {
     "data": {
      "text/plain": [
       "(2097296, 15)"
      ]
     },
     "execution_count": 12,
     "metadata": {},
     "output_type": "execute_result"
    }
   ],
   "source": [
    "all_years = pd.concat([Lab2011, Lab2012, Lab2013, Lab2014, Lab2015, Lab2016, Lab2017, Lab2018], ignore_index = True)\n",
    "all_years.shape"
   ]
  },
  {
   "cell_type": "code",
   "execution_count": 13,
   "metadata": {},
   "outputs": [
    {
     "data": {
      "text/plain": [
       "2097296"
      ]
     },
     "execution_count": 13,
     "metadata": {},
     "output_type": "execute_result"
    }
   ],
   "source": [
    "Lab2011.shape[0] + Lab2012.shape[0]+Lab2013.shape[0] + Lab2014.shape[0]+Lab2015.shape[0] + Lab2016.shape[0]+Lab2017.shape[0] + Lab2018.shape[0]"
   ]
  },
  {
   "cell_type": "code",
   "execution_count": 14,
   "metadata": {},
   "outputs": [
    {
     "data": {
      "text/html": [
       "<div>\n",
       "<style scoped>\n",
       "    .dataframe tbody tr th:only-of-type {\n",
       "        vertical-align: middle;\n",
       "    }\n",
       "\n",
       "    .dataframe tbody tr th {\n",
       "        vertical-align: top;\n",
       "    }\n",
       "\n",
       "    .dataframe thead th {\n",
       "        text-align: right;\n",
       "    }\n",
       "</style>\n",
       "<table border=\"1\" class=\"dataframe\">\n",
       "  <thead>\n",
       "    <tr style=\"text-align: right;\">\n",
       "      <th></th>\n",
       "      <th>Období</th>\n",
       "      <th>Typ odběratele</th>\n",
       "      <th>ATC7</th>\n",
       "      <th>Kód SÚKL</th>\n",
       "      <th>Název přípravku</th>\n",
       "      <th>Doplněk názvu</th>\n",
       "      <th>Držitel registračního rozhodnutí</th>\n",
       "      <th>Země</th>\n",
       "      <th>Typ pohybu</th>\n",
       "      <th>Počet balení/M</th>\n",
       "      <th>Cena za balení bez obch. přirážky a DPH</th>\n",
       "      <th>Celkem finance za všechna balení bez obch. přirážky a DPH</th>\n",
       "      <th>Počet definovaných denních dávek/balení</th>\n",
       "      <th>Počet denních definovaných dávek/balení celkem</th>\n",
       "      <th>Způsob výdeje</th>\n",
       "    </tr>\n",
       "  </thead>\n",
       "  <tbody>\n",
       "    <tr>\n",
       "      <th>0</th>\n",
       "      <td>2011.01</td>\n",
       "      <td>LEKARNA</td>\n",
       "      <td>A01A</td>\n",
       "      <td>53907.0</td>\n",
       "      <td>SEPTOMIXINE</td>\n",
       "      <td>STM PST 1X7.5GM</td>\n",
       "      <td>SPH</td>\n",
       "      <td>F</td>\n",
       "      <td>D</td>\n",
       "      <td>60.0</td>\n",
       "      <td>999.65</td>\n",
       "      <td>59979.00</td>\n",
       "      <td>NaN</td>\n",
       "      <td>NaN</td>\n",
       "      <td>R</td>\n",
       "    </tr>\n",
       "    <tr>\n",
       "      <th>1</th>\n",
       "      <td>2011.01</td>\n",
       "      <td>DISTRIBUTOR_CR</td>\n",
       "      <td>A01AA01</td>\n",
       "      <td>211.0</td>\n",
       "      <td>NATRIUM FLUORATUM SLOVAKOFARMA</td>\n",
       "      <td>POR TBL NOB 250X0.55MG</td>\n",
       "      <td>ZEH</td>\n",
       "      <td>SK</td>\n",
       "      <td>D</td>\n",
       "      <td>2322.0</td>\n",
       "      <td>NaN</td>\n",
       "      <td>NaN</td>\n",
       "      <td>125.0</td>\n",
       "      <td>290250.0</td>\n",
       "      <td>F</td>\n",
       "    </tr>\n",
       "    <tr>\n",
       "      <th>2</th>\n",
       "      <td>2011.01</td>\n",
       "      <td>LEKARNA</td>\n",
       "      <td>A01AA01</td>\n",
       "      <td>211.0</td>\n",
       "      <td>NATRIUM FLUORATUM SLOVAKOFARMA</td>\n",
       "      <td>POR TBL NOB 250X0.55MG</td>\n",
       "      <td>ZEH</td>\n",
       "      <td>SK</td>\n",
       "      <td>D</td>\n",
       "      <td>3249.0</td>\n",
       "      <td>65.37</td>\n",
       "      <td>212387.13</td>\n",
       "      <td>125.0</td>\n",
       "      <td>406125.0</td>\n",
       "      <td>F</td>\n",
       "    </tr>\n",
       "  </tbody>\n",
       "</table>\n",
       "</div>"
      ],
      "text/plain": [
       "    Období  Typ odběratele     ATC7  Kód SÚKL                 Název přípravku  \\\n",
       "0  2011.01         LEKARNA     A01A   53907.0                     SEPTOMIXINE   \n",
       "1  2011.01  DISTRIBUTOR_CR  A01AA01     211.0  NATRIUM FLUORATUM SLOVAKOFARMA   \n",
       "2  2011.01         LEKARNA  A01AA01     211.0  NATRIUM FLUORATUM SLOVAKOFARMA   \n",
       "\n",
       "            Doplněk názvu Držitel registračního rozhodnutí Země Typ pohybu  \\\n",
       "0         STM PST 1X7.5GM                              SPH    F          D   \n",
       "1  POR TBL NOB 250X0.55MG                              ZEH   SK          D   \n",
       "2  POR TBL NOB 250X0.55MG                              ZEH   SK          D   \n",
       "\n",
       "   Počet balení/M  Cena za balení bez obch. přirážky a DPH  \\\n",
       "0            60.0                                   999.65   \n",
       "1          2322.0                                      NaN   \n",
       "2          3249.0                                    65.37   \n",
       "\n",
       "   Celkem finance za všechna balení bez obch. přirážky a DPH  \\\n",
       "0                                           59979.00           \n",
       "1                                                NaN           \n",
       "2                                          212387.13           \n",
       "\n",
       "   Počet definovaných denních dávek/balení  \\\n",
       "0                                      NaN   \n",
       "1                                    125.0   \n",
       "2                                    125.0   \n",
       "\n",
       "   Počet denních definovaných dávek/balení celkem Způsob výdeje  \n",
       "0                                             NaN             R  \n",
       "1                                        290250.0             F  \n",
       "2                                        406125.0             F  "
      ]
     },
     "execution_count": 14,
     "metadata": {},
     "output_type": "execute_result"
    }
   ],
   "source": [
    "all_years.head(3)"
   ]
  },
  {
   "cell_type": "code",
   "execution_count": 15,
   "metadata": {},
   "outputs": [
    {
     "data": {
      "text/html": [
       "<div>\n",
       "<style scoped>\n",
       "    .dataframe tbody tr th:only-of-type {\n",
       "        vertical-align: middle;\n",
       "    }\n",
       "\n",
       "    .dataframe tbody tr th {\n",
       "        vertical-align: top;\n",
       "    }\n",
       "\n",
       "    .dataframe thead th {\n",
       "        text-align: right;\n",
       "    }\n",
       "</style>\n",
       "<table border=\"1\" class=\"dataframe\">\n",
       "  <thead>\n",
       "    <tr style=\"text-align: right;\">\n",
       "      <th></th>\n",
       "      <th>Období</th>\n",
       "      <th>Typ odběratele</th>\n",
       "      <th>ATC7</th>\n",
       "      <th>Kód SÚKL</th>\n",
       "      <th>Název přípravku</th>\n",
       "      <th>Doplněk názvu</th>\n",
       "      <th>Držitel registračního rozhodnutí</th>\n",
       "      <th>Země</th>\n",
       "      <th>Typ pohybu</th>\n",
       "      <th>Počet balení/M</th>\n",
       "      <th>Cena za balení bez obch. přirážky a DPH</th>\n",
       "      <th>Celkem finance za všechna balení bez obch. přirážky a DPH</th>\n",
       "      <th>Počet definovaných denních dávek/balení</th>\n",
       "      <th>Počet denních definovaných dávek/balení celkem</th>\n",
       "      <th>Způsob výdeje</th>\n",
       "    </tr>\n",
       "  </thead>\n",
       "  <tbody>\n",
       "    <tr>\n",
       "      <th>2097293</th>\n",
       "      <td>2018.03</td>\n",
       "      <td>LEKARNA</td>\n",
       "      <td>V12</td>\n",
       "      <td>72175.0</td>\n",
       "      <td>ZINCUM METALLICUM</td>\n",
       "      <td>3CH-200CH GRA 1X4G</td>\n",
       "      <td>BNM</td>\n",
       "      <td>F</td>\n",
       "      <td>D</td>\n",
       "      <td>300.0</td>\n",
       "      <td>58.798867</td>\n",
       "      <td>17639.66</td>\n",
       "      <td>NaN</td>\n",
       "      <td>NaN</td>\n",
       "      <td>R</td>\n",
       "    </tr>\n",
       "    <tr>\n",
       "      <th>2097294</th>\n",
       "      <td>2018.03</td>\n",
       "      <td>LEKARNA</td>\n",
       "      <td>V12</td>\n",
       "      <td>72175.0</td>\n",
       "      <td>ZINCUM METALLICUM</td>\n",
       "      <td>3CH-200CH GRA 1X4G</td>\n",
       "      <td>BNM</td>\n",
       "      <td>F</td>\n",
       "      <td>V</td>\n",
       "      <td>-10.0</td>\n",
       "      <td>61.625000</td>\n",
       "      <td>-616.25</td>\n",
       "      <td>NaN</td>\n",
       "      <td>NaN</td>\n",
       "      <td>R</td>\n",
       "    </tr>\n",
       "    <tr>\n",
       "      <th>2097295</th>\n",
       "      <td>NaN</td>\n",
       "      <td>NaN</td>\n",
       "      <td>NaN</td>\n",
       "      <td>NaN</td>\n",
       "      <td>NaN</td>\n",
       "      <td>NaN</td>\n",
       "      <td>NaN</td>\n",
       "      <td>NaN</td>\n",
       "      <td>NaN</td>\n",
       "      <td>NaN</td>\n",
       "      <td>NaN</td>\n",
       "      <td>NaN</td>\n",
       "      <td>NaN</td>\n",
       "      <td>NaN</td>\n",
       "      <td>NaN</td>\n",
       "    </tr>\n",
       "  </tbody>\n",
       "</table>\n",
       "</div>"
      ],
      "text/plain": [
       "          Období Typ odběratele ATC7  Kód SÚKL    Název přípravku  \\\n",
       "2097293  2018.03        LEKARNA  V12   72175.0  ZINCUM METALLICUM   \n",
       "2097294  2018.03        LEKARNA  V12   72175.0  ZINCUM METALLICUM   \n",
       "2097295      NaN            NaN  NaN       NaN                NaN   \n",
       "\n",
       "              Doplněk názvu Držitel registračního rozhodnutí Země Typ pohybu  \\\n",
       "2097293  3CH-200CH GRA 1X4G                              BNM    F          D   \n",
       "2097294  3CH-200CH GRA 1X4G                              BNM    F          V   \n",
       "2097295                 NaN                              NaN  NaN        NaN   \n",
       "\n",
       "         Počet balení/M  Cena za balení bez obch. přirážky a DPH  \\\n",
       "2097293           300.0                                58.798867   \n",
       "2097294           -10.0                                61.625000   \n",
       "2097295             NaN                                      NaN   \n",
       "\n",
       "         Celkem finance za všechna balení bez obch. přirážky a DPH  \\\n",
       "2097293                                           17639.66           \n",
       "2097294                                            -616.25           \n",
       "2097295                                                NaN           \n",
       "\n",
       "         Počet definovaných denních dávek/balení  \\\n",
       "2097293                                      NaN   \n",
       "2097294                                      NaN   \n",
       "2097295                                      NaN   \n",
       "\n",
       "         Počet denních definovaných dávek/balení celkem Způsob výdeje  \n",
       "2097293                                             NaN             R  \n",
       "2097294                                             NaN             R  \n",
       "2097295                                             NaN           NaN  "
      ]
     },
     "execution_count": 15,
     "metadata": {},
     "output_type": "execute_result"
    }
   ],
   "source": [
    "all_years.tail(3)"
   ]
  },
  {
   "cell_type": "markdown",
   "metadata": {},
   "source": [
    "### Exportujeme to!"
   ]
  },
  {
   "cell_type": "code",
   "execution_count": 16,
   "metadata": {},
   "outputs": [],
   "source": [
    "all_years.to_csv('years/all_years.csv', index = False, encoding='utf-8')"
   ]
  }
 ],
 "metadata": {
  "kernelspec": {
   "display_name": "Python 3",
   "language": "python",
   "name": "python3"
  },
  "language_info": {
   "codemirror_mode": {
    "name": "ipython",
    "version": 3
   },
   "file_extension": ".py",
   "mimetype": "text/x-python",
   "name": "python",
   "nbconvert_exporter": "python",
   "pygments_lexer": "ipython3",
   "version": "3.6.4"
  }
 },
 "nbformat": 4,
 "nbformat_minor": 2
}
