{
 "cells": [
  {
   "cell_type": "code",
   "execution_count": 1,
   "metadata": {},
   "outputs": [],
   "source": [
    "import pandas as pd\n",
    "import numpy as np"
   ]
  },
  {
   "cell_type": "code",
   "execution_count": 2,
   "metadata": {},
   "outputs": [],
   "source": [
    "pd.options.mode.chained_assignment = None #aby nebylo zbytečné varování"
   ]
  },
  {
   "cell_type": "code",
   "execution_count": 3,
   "metadata": {},
   "outputs": [
    {
     "data": {
      "text/html": [
       "<div>\n",
       "<style scoped>\n",
       "    .dataframe tbody tr th:only-of-type {\n",
       "        vertical-align: middle;\n",
       "    }\n",
       "\n",
       "    .dataframe tbody tr th {\n",
       "        vertical-align: top;\n",
       "    }\n",
       "\n",
       "    .dataframe thead th {\n",
       "        text-align: right;\n",
       "    }\n",
       "</style>\n",
       "<table border=\"1\" class=\"dataframe\">\n",
       "  <thead>\n",
       "    <tr style=\"text-align: right;\">\n",
       "      <th></th>\n",
       "      <th>Období</th>\n",
       "      <th>Typ odběratele</th>\n",
       "      <th>ATC7</th>\n",
       "      <th>Kód SÚKL</th>\n",
       "      <th>Název přípravku</th>\n",
       "      <th>Doplněk názvu</th>\n",
       "      <th>Držitel registračního rozhodnutí</th>\n",
       "      <th>Země</th>\n",
       "      <th>Typ pohybu</th>\n",
       "      <th>Počet balení/M</th>\n",
       "      <th>Cena za balení bez obch. přirážky a DPH</th>\n",
       "      <th>Celkem finance za všechna balení bez obch. přirážky a DPH</th>\n",
       "      <th>Počet definovaných denních dávek/balení</th>\n",
       "      <th>Počet denních definovaných dávek/balení celkem</th>\n",
       "      <th>Způsob výdeje</th>\n",
       "    </tr>\n",
       "  </thead>\n",
       "  <tbody>\n",
       "    <tr>\n",
       "      <th>2097293</th>\n",
       "      <td>2018.03</td>\n",
       "      <td>LEKARNA</td>\n",
       "      <td>V12</td>\n",
       "      <td>72175.0</td>\n",
       "      <td>ZINCUM METALLICUM</td>\n",
       "      <td>3CH-200CH GRA 1X4G</td>\n",
       "      <td>BNM</td>\n",
       "      <td>F</td>\n",
       "      <td>D</td>\n",
       "      <td>300.0</td>\n",
       "      <td>58.798867</td>\n",
       "      <td>17639.66</td>\n",
       "      <td>NaN</td>\n",
       "      <td>NaN</td>\n",
       "      <td>R</td>\n",
       "    </tr>\n",
       "    <tr>\n",
       "      <th>2097294</th>\n",
       "      <td>2018.03</td>\n",
       "      <td>LEKARNA</td>\n",
       "      <td>V12</td>\n",
       "      <td>72175.0</td>\n",
       "      <td>ZINCUM METALLICUM</td>\n",
       "      <td>3CH-200CH GRA 1X4G</td>\n",
       "      <td>BNM</td>\n",
       "      <td>F</td>\n",
       "      <td>V</td>\n",
       "      <td>-10.0</td>\n",
       "      <td>61.625000</td>\n",
       "      <td>-616.25</td>\n",
       "      <td>NaN</td>\n",
       "      <td>NaN</td>\n",
       "      <td>R</td>\n",
       "    </tr>\n",
       "    <tr>\n",
       "      <th>2097295</th>\n",
       "      <td>NaN</td>\n",
       "      <td>NaN</td>\n",
       "      <td>NaN</td>\n",
       "      <td>NaN</td>\n",
       "      <td>NaN</td>\n",
       "      <td>NaN</td>\n",
       "      <td>NaN</td>\n",
       "      <td>NaN</td>\n",
       "      <td>NaN</td>\n",
       "      <td>NaN</td>\n",
       "      <td>NaN</td>\n",
       "      <td>NaN</td>\n",
       "      <td>NaN</td>\n",
       "      <td>NaN</td>\n",
       "      <td>NaN</td>\n",
       "    </tr>\n",
       "  </tbody>\n",
       "</table>\n",
       "</div>"
      ],
      "text/plain": [
       "          Období Typ odběratele ATC7  Kód SÚKL    Název přípravku  \\\n",
       "2097293  2018.03        LEKARNA  V12   72175.0  ZINCUM METALLICUM   \n",
       "2097294  2018.03        LEKARNA  V12   72175.0  ZINCUM METALLICUM   \n",
       "2097295      NaN            NaN  NaN       NaN                NaN   \n",
       "\n",
       "              Doplněk názvu Držitel registračního rozhodnutí Země Typ pohybu  \\\n",
       "2097293  3CH-200CH GRA 1X4G                              BNM    F          D   \n",
       "2097294  3CH-200CH GRA 1X4G                              BNM    F          V   \n",
       "2097295                 NaN                              NaN  NaN        NaN   \n",
       "\n",
       "         Počet balení/M  Cena za balení bez obch. přirážky a DPH  \\\n",
       "2097293           300.0                                58.798867   \n",
       "2097294           -10.0                                61.625000   \n",
       "2097295             NaN                                      NaN   \n",
       "\n",
       "         Celkem finance za všechna balení bez obch. přirážky a DPH  \\\n",
       "2097293                                           17639.66           \n",
       "2097294                                            -616.25           \n",
       "2097295                                                NaN           \n",
       "\n",
       "         Počet definovaných denních dávek/balení  \\\n",
       "2097293                                      NaN   \n",
       "2097294                                      NaN   \n",
       "2097295                                      NaN   \n",
       "\n",
       "         Počet denních definovaných dávek/balení celkem Způsob výdeje  \n",
       "2097293                                             NaN             R  \n",
       "2097294                                             NaN             R  \n",
       "2097295                                             NaN           NaN  "
      ]
     },
     "execution_count": 3,
     "metadata": {},
     "output_type": "execute_result"
    }
   ],
   "source": [
    "soubor = pd.read_csv('years/all_years.csv',  encoding='utf-8')\n",
    "soubor.tail(3)"
   ]
  },
  {
   "cell_type": "markdown",
   "metadata": {},
   "source": [
    "#### Pro nás je důležité, aby ve sloupci \"Období\"  nebyly prázdné hodnoty. Prověříme! "
   ]
  },
  {
   "cell_type": "code",
   "execution_count": 4,
   "metadata": {},
   "outputs": [
    {
     "data": {
      "text/html": [
       "<div>\n",
       "<style scoped>\n",
       "    .dataframe tbody tr th:only-of-type {\n",
       "        vertical-align: middle;\n",
       "    }\n",
       "\n",
       "    .dataframe tbody tr th {\n",
       "        vertical-align: top;\n",
       "    }\n",
       "\n",
       "    .dataframe thead th {\n",
       "        text-align: right;\n",
       "    }\n",
       "</style>\n",
       "<table border=\"1\" class=\"dataframe\">\n",
       "  <thead>\n",
       "    <tr style=\"text-align: right;\">\n",
       "      <th></th>\n",
       "      <th>Období</th>\n",
       "      <th>Typ odběratele</th>\n",
       "      <th>ATC7</th>\n",
       "      <th>Kód SÚKL</th>\n",
       "      <th>Název přípravku</th>\n",
       "      <th>Doplněk názvu</th>\n",
       "      <th>Držitel registračního rozhodnutí</th>\n",
       "      <th>Země</th>\n",
       "      <th>Typ pohybu</th>\n",
       "      <th>Počet balení/M</th>\n",
       "      <th>Cena za balení bez obch. přirážky a DPH</th>\n",
       "      <th>Celkem finance za všechna balení bez obch. přirážky a DPH</th>\n",
       "      <th>Počet definovaných denních dávek/balení</th>\n",
       "      <th>Počet denních definovaných dávek/balení celkem</th>\n",
       "      <th>Způsob výdeje</th>\n",
       "    </tr>\n",
       "  </thead>\n",
       "  <tbody>\n",
       "    <tr>\n",
       "      <th>1636443</th>\n",
       "      <td>NaN</td>\n",
       "      <td>NaN</td>\n",
       "      <td>NaN</td>\n",
       "      <td>NaN</td>\n",
       "      <td>NaN</td>\n",
       "      <td>NaN</td>\n",
       "      <td>NaN</td>\n",
       "      <td>NaN</td>\n",
       "      <td>NaN</td>\n",
       "      <td>NaN</td>\n",
       "      <td>NaN</td>\n",
       "      <td>NaN</td>\n",
       "      <td>NaN</td>\n",
       "      <td>NaN</td>\n",
       "      <td>NaN</td>\n",
       "    </tr>\n",
       "    <tr>\n",
       "      <th>1660562</th>\n",
       "      <td>NaN</td>\n",
       "      <td>NaN</td>\n",
       "      <td>NaN</td>\n",
       "      <td>NaN</td>\n",
       "      <td>NaN</td>\n",
       "      <td>NaN</td>\n",
       "      <td>NaN</td>\n",
       "      <td>NaN</td>\n",
       "      <td>NaN</td>\n",
       "      <td>NaN</td>\n",
       "      <td>NaN</td>\n",
       "      <td>NaN</td>\n",
       "      <td>NaN</td>\n",
       "      <td>NaN</td>\n",
       "      <td>NaN</td>\n",
       "    </tr>\n",
       "    <tr>\n",
       "      <th>1684857</th>\n",
       "      <td>NaN</td>\n",
       "      <td>NaN</td>\n",
       "      <td>NaN</td>\n",
       "      <td>NaN</td>\n",
       "      <td>NaN</td>\n",
       "      <td>NaN</td>\n",
       "      <td>NaN</td>\n",
       "      <td>NaN</td>\n",
       "      <td>NaN</td>\n",
       "      <td>NaN</td>\n",
       "      <td>NaN</td>\n",
       "      <td>NaN</td>\n",
       "      <td>NaN</td>\n",
       "      <td>NaN</td>\n",
       "      <td>NaN</td>\n",
       "    </tr>\n",
       "  </tbody>\n",
       "</table>\n",
       "</div>"
      ],
      "text/plain": [
       "         Období Typ odběratele ATC7  Kód SÚKL Název přípravku Doplněk názvu  \\\n",
       "1636443     NaN            NaN  NaN       NaN             NaN           NaN   \n",
       "1660562     NaN            NaN  NaN       NaN             NaN           NaN   \n",
       "1684857     NaN            NaN  NaN       NaN             NaN           NaN   \n",
       "\n",
       "        Držitel registračního rozhodnutí Země Typ pohybu  Počet balení/M  \\\n",
       "1636443                              NaN  NaN        NaN             NaN   \n",
       "1660562                              NaN  NaN        NaN             NaN   \n",
       "1684857                              NaN  NaN        NaN             NaN   \n",
       "\n",
       "         Cena za balení bez obch. přirážky a DPH  \\\n",
       "1636443                                      NaN   \n",
       "1660562                                      NaN   \n",
       "1684857                                      NaN   \n",
       "\n",
       "         Celkem finance za všechna balení bez obch. přirážky a DPH  \\\n",
       "1636443                                                NaN           \n",
       "1660562                                                NaN           \n",
       "1684857                                                NaN           \n",
       "\n",
       "         Počet definovaných denních dávek/balení  \\\n",
       "1636443                                      NaN   \n",
       "1660562                                      NaN   \n",
       "1684857                                      NaN   \n",
       "\n",
       "         Počet denních definovaných dávek/balení celkem Způsob výdeje  \n",
       "1636443                                             NaN           NaN  \n",
       "1660562                                             NaN           NaN  \n",
       "1684857                                             NaN           NaN  "
      ]
     },
     "execution_count": 4,
     "metadata": {},
     "output_type": "execute_result"
    }
   ],
   "source": [
    "soubor[soubor['Období'].isnull()].head(3)"
   ]
  },
  {
   "cell_type": "markdown",
   "metadata": {},
   "source": [
    "#### Kolik máme prázdných řádků?"
   ]
  },
  {
   "cell_type": "code",
   "execution_count": 5,
   "metadata": {},
   "outputs": [
    {
     "data": {
      "text/plain": [
       "20"
      ]
     },
     "execution_count": 5,
     "metadata": {},
     "output_type": "execute_result"
    }
   ],
   "source": [
    "soubor[soubor['Období'].isnull()].shape[0]"
   ]
  },
  {
   "cell_type": "markdown",
   "metadata": {},
   "source": [
    "#### Ty řádky odstraníme pomocí funkce \"dropna\", ale napřed prověřime, kolik zůstane řádků po odstranění:"
   ]
  },
  {
   "cell_type": "code",
   "execution_count": 6,
   "metadata": {},
   "outputs": [
    {
     "data": {
      "text/plain": [
       "2097276"
      ]
     },
     "execution_count": 6,
     "metadata": {},
     "output_type": "execute_result"
    }
   ],
   "source": [
    "len(soubor.dropna(axis=0, how='all'))"
   ]
  },
  {
   "cell_type": "code",
   "execution_count": 7,
   "metadata": {},
   "outputs": [
    {
     "data": {
      "text/plain": [
       "2097296"
      ]
     },
     "execution_count": 7,
     "metadata": {},
     "output_type": "execute_result"
    }
   ],
   "source": [
    "soubor.shape[0]"
   ]
  },
  {
   "cell_type": "markdown",
   "metadata": {},
   "source": [
    "#### Rozdíl je 20 řádků. To sedí! Vytvoříme nový soubor, aby se nám nic neztratilo."
   ]
  },
  {
   "cell_type": "code",
   "execution_count": 8,
   "metadata": {},
   "outputs": [],
   "source": [
    "soubor1 = soubor.dropna(axis=0, how='all') #0 označuje 'index' a 'all' nám odstraní ty řádky, které jsou prázdné 'NaN'"
   ]
  },
  {
   "cell_type": "code",
   "execution_count": 9,
   "metadata": {},
   "outputs": [
    {
     "data": {
      "text/plain": [
       "0"
      ]
     },
     "execution_count": 9,
     "metadata": {},
     "output_type": "execute_result"
    }
   ],
   "source": [
    "soubor1[soubor1['Období'].isnull()].shape[0]"
   ]
  },
  {
   "cell_type": "code",
   "execution_count": 10,
   "metadata": {},
   "outputs": [
    {
     "data": {
      "text/plain": [
       "(2097276, 15)"
      ]
     },
     "execution_count": 10,
     "metadata": {},
     "output_type": "execute_result"
    }
   ],
   "source": [
    "soubor1.shape"
   ]
  },
  {
   "cell_type": "code",
   "execution_count": 11,
   "metadata": {},
   "outputs": [
    {
     "data": {
      "text/html": [
       "<div>\n",
       "<style scoped>\n",
       "    .dataframe tbody tr th:only-of-type {\n",
       "        vertical-align: middle;\n",
       "    }\n",
       "\n",
       "    .dataframe tbody tr th {\n",
       "        vertical-align: top;\n",
       "    }\n",
       "\n",
       "    .dataframe thead th {\n",
       "        text-align: right;\n",
       "    }\n",
       "</style>\n",
       "<table border=\"1\" class=\"dataframe\">\n",
       "  <thead>\n",
       "    <tr style=\"text-align: right;\">\n",
       "      <th></th>\n",
       "      <th>Období</th>\n",
       "      <th>Typ odběratele</th>\n",
       "      <th>ATC7</th>\n",
       "      <th>Kód SÚKL</th>\n",
       "      <th>Název přípravku</th>\n",
       "      <th>Doplněk názvu</th>\n",
       "      <th>Držitel registračního rozhodnutí</th>\n",
       "      <th>Země</th>\n",
       "      <th>Typ pohybu</th>\n",
       "      <th>Počet balení/M</th>\n",
       "      <th>Cena za balení bez obch. přirážky a DPH</th>\n",
       "      <th>Celkem finance za všechna balení bez obch. přirážky a DPH</th>\n",
       "      <th>Počet definovaných denních dávek/balení</th>\n",
       "      <th>Počet denních definovaných dávek/balení celkem</th>\n",
       "      <th>Způsob výdeje</th>\n",
       "    </tr>\n",
       "  </thead>\n",
       "  <tbody>\n",
       "  </tbody>\n",
       "</table>\n",
       "</div>"
      ],
      "text/plain": [
       "Empty DataFrame\n",
       "Columns: [Období, Typ odběratele, ATC7, Kód SÚKL, Název přípravku, Doplněk názvu, Držitel registračního rozhodnutí, Země, Typ pohybu, Počet balení/M, Cena za balení bez obch. přirážky a DPH, Celkem finance za všechna balení bez obch. přirážky a DPH, Počet definovaných denních dávek/balení, Počet denních definovaných dávek/balení celkem, Způsob výdeje]\n",
       "Index: []"
      ]
     },
     "execution_count": 11,
     "metadata": {},
     "output_type": "execute_result"
    }
   ],
   "source": [
    "# Zjistit duplikátní hodnoty\n",
    "soubor1[soubor1.duplicated(keep = 'first')]"
   ]
  },
  {
   "cell_type": "markdown",
   "metadata": {},
   "source": [
    "#### Bohužel sloupce \"Období\" v EXCEL souborech nebyli zapsané ve formátu \"Datum\". Proto při nahrávání a spojení tabulek jsou tyto sloupce ve formatu \"Float\" - desetinné číslo. "
   ]
  },
  {
   "cell_type": "markdown",
   "metadata": {},
   "source": [
    "##### Ale my chceme místo \"YYYY.MM\" mít \"YYYY-MM-DD\", kde DD bude vždy 01 (první den měsíce). Proto napřed z našeho formátu \"YYYY.MM\" uděláme jiný formát \"YYYYMM01\" tak, že vynásobíme 10000 a přidáme 1. Pak převedeme formát na celé číslo."
   ]
  },
  {
   "cell_type": "code",
   "execution_count": 12,
   "metadata": {},
   "outputs": [
    {
     "data": {
      "text/html": [
       "<div>\n",
       "<style scoped>\n",
       "    .dataframe tbody tr th:only-of-type {\n",
       "        vertical-align: middle;\n",
       "    }\n",
       "\n",
       "    .dataframe tbody tr th {\n",
       "        vertical-align: top;\n",
       "    }\n",
       "\n",
       "    .dataframe thead th {\n",
       "        text-align: right;\n",
       "    }\n",
       "</style>\n",
       "<table border=\"1\" class=\"dataframe\">\n",
       "  <thead>\n",
       "    <tr style=\"text-align: right;\">\n",
       "      <th></th>\n",
       "      <th>Období</th>\n",
       "      <th>Typ odběratele</th>\n",
       "      <th>ATC7</th>\n",
       "      <th>Kód SÚKL</th>\n",
       "      <th>Název přípravku</th>\n",
       "      <th>Doplněk názvu</th>\n",
       "      <th>Držitel registračního rozhodnutí</th>\n",
       "      <th>Země</th>\n",
       "      <th>Typ pohybu</th>\n",
       "      <th>Počet balení/M</th>\n",
       "      <th>Cena za balení bez obch. přirážky a DPH</th>\n",
       "      <th>Celkem finance za všechna balení bez obch. přirážky a DPH</th>\n",
       "      <th>Počet definovaných denních dávek/balení</th>\n",
       "      <th>Počet denních definovaných dávek/balení celkem</th>\n",
       "      <th>Způsob výdeje</th>\n",
       "    </tr>\n",
       "  </thead>\n",
       "  <tbody>\n",
       "    <tr>\n",
       "      <th>0</th>\n",
       "      <td>20110101</td>\n",
       "      <td>LEKARNA</td>\n",
       "      <td>A01A</td>\n",
       "      <td>53907.0</td>\n",
       "      <td>SEPTOMIXINE</td>\n",
       "      <td>STM PST 1X7.5GM</td>\n",
       "      <td>SPH</td>\n",
       "      <td>F</td>\n",
       "      <td>D</td>\n",
       "      <td>60.0</td>\n",
       "      <td>999.65</td>\n",
       "      <td>59979.0</td>\n",
       "      <td>NaN</td>\n",
       "      <td>NaN</td>\n",
       "      <td>R</td>\n",
       "    </tr>\n",
       "  </tbody>\n",
       "</table>\n",
       "</div>"
      ],
      "text/plain": [
       "     Období Typ odběratele  ATC7  Kód SÚKL Název přípravku    Doplněk názvu  \\\n",
       "0  20110101        LEKARNA  A01A   53907.0     SEPTOMIXINE  STM PST 1X7.5GM   \n",
       "\n",
       "  Držitel registračního rozhodnutí Země Typ pohybu  Počet balení/M  \\\n",
       "0                              SPH    F          D            60.0   \n",
       "\n",
       "   Cena za balení bez obch. přirážky a DPH  \\\n",
       "0                                   999.65   \n",
       "\n",
       "   Celkem finance za všechna balení bez obch. přirážky a DPH  \\\n",
       "0                                            59979.0           \n",
       "\n",
       "   Počet definovaných denních dávek/balení  \\\n",
       "0                                      NaN   \n",
       "\n",
       "   Počet denních definovaných dávek/balení celkem Způsob výdeje  \n",
       "0                                             NaN             R  "
      ]
     },
     "execution_count": 12,
     "metadata": {},
     "output_type": "execute_result"
    }
   ],
   "source": [
    "soubor1['Období'] = ((soubor1['Období'])*10000+1).astype(np.int)\n",
    "soubor1.head(1)"
   ]
  },
  {
   "cell_type": "code",
   "execution_count": 13,
   "metadata": {},
   "outputs": [
    {
     "data": {
      "text/plain": [
       "dtype('int32')"
      ]
     },
     "execution_count": 13,
     "metadata": {},
     "output_type": "execute_result"
    }
   ],
   "source": [
    "soubor1['Období'].dtype"
   ]
  },
  {
   "cell_type": "markdown",
   "metadata": {},
   "source": [
    "##### Super, podařilo se. Teď můžeme naše celá čísla převést na formát \"datum\" a podívame se na výsledek:"
   ]
  },
  {
   "cell_type": "code",
   "execution_count": 14,
   "metadata": {
    "scrolled": true
   },
   "outputs": [
    {
     "data": {
      "text/html": [
       "<div>\n",
       "<style scoped>\n",
       "    .dataframe tbody tr th:only-of-type {\n",
       "        vertical-align: middle;\n",
       "    }\n",
       "\n",
       "    .dataframe tbody tr th {\n",
       "        vertical-align: top;\n",
       "    }\n",
       "\n",
       "    .dataframe thead th {\n",
       "        text-align: right;\n",
       "    }\n",
       "</style>\n",
       "<table border=\"1\" class=\"dataframe\">\n",
       "  <thead>\n",
       "    <tr style=\"text-align: right;\">\n",
       "      <th></th>\n",
       "      <th>Období</th>\n",
       "      <th>Typ odběratele</th>\n",
       "      <th>ATC7</th>\n",
       "      <th>Kód SÚKL</th>\n",
       "      <th>Název přípravku</th>\n",
       "      <th>Doplněk názvu</th>\n",
       "      <th>Držitel registračního rozhodnutí</th>\n",
       "      <th>Země</th>\n",
       "      <th>Typ pohybu</th>\n",
       "      <th>Počet balení/M</th>\n",
       "      <th>Cena za balení bez obch. přirážky a DPH</th>\n",
       "      <th>Celkem finance za všechna balení bez obch. přirážky a DPH</th>\n",
       "      <th>Počet definovaných denních dávek/balení</th>\n",
       "      <th>Počet denních definovaných dávek/balení celkem</th>\n",
       "      <th>Způsob výdeje</th>\n",
       "    </tr>\n",
       "  </thead>\n",
       "  <tbody>\n",
       "    <tr>\n",
       "      <th>2097292</th>\n",
       "      <td>2018-03-01</td>\n",
       "      <td>DISTRIBUTOR_CR</td>\n",
       "      <td>V12</td>\n",
       "      <td>72175.0</td>\n",
       "      <td>ZINCUM METALLICUM</td>\n",
       "      <td>3CH-200CH GRA 1X4G</td>\n",
       "      <td>BNM</td>\n",
       "      <td>F</td>\n",
       "      <td>D</td>\n",
       "      <td>448.0</td>\n",
       "      <td>NaN</td>\n",
       "      <td>NaN</td>\n",
       "      <td>NaN</td>\n",
       "      <td>NaN</td>\n",
       "      <td>R</td>\n",
       "    </tr>\n",
       "    <tr>\n",
       "      <th>2097293</th>\n",
       "      <td>2018-03-01</td>\n",
       "      <td>LEKARNA</td>\n",
       "      <td>V12</td>\n",
       "      <td>72175.0</td>\n",
       "      <td>ZINCUM METALLICUM</td>\n",
       "      <td>3CH-200CH GRA 1X4G</td>\n",
       "      <td>BNM</td>\n",
       "      <td>F</td>\n",
       "      <td>D</td>\n",
       "      <td>300.0</td>\n",
       "      <td>58.798867</td>\n",
       "      <td>17639.66</td>\n",
       "      <td>NaN</td>\n",
       "      <td>NaN</td>\n",
       "      <td>R</td>\n",
       "    </tr>\n",
       "    <tr>\n",
       "      <th>2097294</th>\n",
       "      <td>2018-03-01</td>\n",
       "      <td>LEKARNA</td>\n",
       "      <td>V12</td>\n",
       "      <td>72175.0</td>\n",
       "      <td>ZINCUM METALLICUM</td>\n",
       "      <td>3CH-200CH GRA 1X4G</td>\n",
       "      <td>BNM</td>\n",
       "      <td>F</td>\n",
       "      <td>V</td>\n",
       "      <td>-10.0</td>\n",
       "      <td>61.625000</td>\n",
       "      <td>-616.25</td>\n",
       "      <td>NaN</td>\n",
       "      <td>NaN</td>\n",
       "      <td>R</td>\n",
       "    </tr>\n",
       "  </tbody>\n",
       "</table>\n",
       "</div>"
      ],
      "text/plain": [
       "            Období  Typ odběratele ATC7  Kód SÚKL    Název přípravku  \\\n",
       "2097292 2018-03-01  DISTRIBUTOR_CR  V12   72175.0  ZINCUM METALLICUM   \n",
       "2097293 2018-03-01         LEKARNA  V12   72175.0  ZINCUM METALLICUM   \n",
       "2097294 2018-03-01         LEKARNA  V12   72175.0  ZINCUM METALLICUM   \n",
       "\n",
       "              Doplněk názvu Držitel registračního rozhodnutí Země Typ pohybu  \\\n",
       "2097292  3CH-200CH GRA 1X4G                              BNM    F          D   \n",
       "2097293  3CH-200CH GRA 1X4G                              BNM    F          D   \n",
       "2097294  3CH-200CH GRA 1X4G                              BNM    F          V   \n",
       "\n",
       "         Počet balení/M  Cena za balení bez obch. přirážky a DPH  \\\n",
       "2097292           448.0                                      NaN   \n",
       "2097293           300.0                                58.798867   \n",
       "2097294           -10.0                                61.625000   \n",
       "\n",
       "         Celkem finance za všechna balení bez obch. přirážky a DPH  \\\n",
       "2097292                                                NaN           \n",
       "2097293                                           17639.66           \n",
       "2097294                                            -616.25           \n",
       "\n",
       "         Počet definovaných denních dávek/balení  \\\n",
       "2097292                                      NaN   \n",
       "2097293                                      NaN   \n",
       "2097294                                      NaN   \n",
       "\n",
       "         Počet denních definovaných dávek/balení celkem Způsob výdeje  \n",
       "2097292                                             NaN             R  \n",
       "2097293                                             NaN             R  \n",
       "2097294                                             NaN             R  "
      ]
     },
     "execution_count": 14,
     "metadata": {},
     "output_type": "execute_result"
    }
   ],
   "source": [
    "soubor1['Období'] = pd.to_datetime(soubor1['Období'], format='%Y%m%d', errors='ignore')\n",
    "soubor1.tail(3)"
   ]
  },
  {
   "cell_type": "markdown",
   "metadata": {},
   "source": [
    "#### Uložíme výsledek do csv souboru s názvem 'clean_data_years'"
   ]
  },
  {
   "cell_type": "code",
   "execution_count": 15,
   "metadata": {},
   "outputs": [],
   "source": [
    "soubor1.to_csv('clean_data_years.csv', encoding = 'utf-8')"
   ]
  },
  {
   "cell_type": "markdown",
   "metadata": {},
   "source": [
    "### ATC jsem vybrala tak, že jsem si našla některé léky prodejné v lékárných v kategirii chřipka a nachlazení ( rýma, bolest těla, kašel, horečka). Pokud se jeden přípravek objevil v kontrétní ATC skupině, tak jsem rovnou celou příslušnou ATC skupinu zařadila do našeho výběru.\n"
   ]
  },
  {
   "cell_type": "code",
   "execution_count": 16,
   "metadata": {},
   "outputs": [
    {
     "data": {
      "text/plain": [
       "array(['LEKARNA', 'DISTRIBUTOR_CR', 'VETERINARNI_LEKAR', 'LEKAR',\n",
       "       'DISTRIBUTOR_EU', 'ZDRAVOTNICKE_ZARIZENI', 'OBCHODNI_ZASTUPCE',\n",
       "       'ZAHRANICI', 'PRODEJCE_VLP', 'DISTRIBUTOR_MIMO_EU',\n",
       "       'OSOBA_POSKYTUJICI_ZDRAVOTNI_PECI', 'HYGIENICKA_STANICE',\n",
       "       'TRANSFUZNI_SLUZBA'], dtype=object)"
      ]
     },
     "execution_count": 16,
     "metadata": {},
     "output_type": "execute_result"
    }
   ],
   "source": [
    "soubor1['Typ odběratele'].unique() #Zkontrolujeme, jestli se během let nezměnilo názvosloví ve sloupci 'Typ odběratele'"
   ]
  },
  {
   "cell_type": "code",
   "execution_count": 17,
   "metadata": {
    "scrolled": true
   },
   "outputs": [
    {
     "data": {
      "text/plain": [
       "(1350626, 15)"
      ]
     },
     "execution_count": 17,
     "metadata": {},
     "output_type": "execute_result"
    }
   ],
   "source": [
    "# Kromě vybraných ATC skupin pro naši analýzu je ještě třeba vybrat ze sloupce 'Typ odběratele' odpovídající odběratele, u kterých dochází k výdeji přímo pacientům.\n",
    "clean_data_years_filter = soubor1[soubor1[\"Typ odběratele\"].isin(['LEKARNA', 'VETERINARNI_LEKAR', 'PRODEJCE_VLP','HYGIENICKA_STANICE',\n",
    "                                          'ZDRAVOTNICKE_ZARIZENI','LEKAR','OSOBA_POSKYTUJICI_ZDRAVOTNI_PECI'])]\n",
    "clean_data_years_filter.shape"
   ]
  },
  {
   "cell_type": "code",
   "execution_count": 18,
   "metadata": {},
   "outputs": [
    {
     "data": {
      "text/plain": [
       "(87958, 15)"
      ]
     },
     "execution_count": 18,
     "metadata": {},
     "output_type": "execute_result"
    }
   ],
   "source": [
    "# Předešlou podnímku si zkopírujeme do buňky a použijeme ji na výběr daných skupin ATC ze souboru clean_data_years.csv\n",
    "clean_data_years_filter2= clean_data_years_filter [clean_data_years_filter[\"ATC7\"].isin(['M01AE','M01AE01','M01AE02','M01AE03','M01AE04','M01AE05','M01AE06','M01AE07','M01AE08',\n",
    "'M01AE09','M01AE10','M01AE11','M01AE12','M01AE13','M01AE14','M01AE15','M01AE16','M01AE17','M01AE18','M01AE51','M01AE52',\n",
    "'M01AE53','M01AE56','N02B','N02BA','N02BA01','N02BA02','N02BA03','N02BA04','N02BA05','N02BA06','N02BA07','N02BA08',\n",
    "'N02BA09','N02BA10','N02BA11','N02BA12','N02BA14','N02BA15','N02BA16','N02BA51','N02BA55','N02BA57','N02BA59','N02BA65',\n",
    "'N02BA71','N02BA75','N02BA77','N02BA79','N02BE','N02BE01','N02BE03','N02BE04','N02BE05','N02BE51','N02BE53','N02BE54',\n",
    "'N02BE71','N02BE73','N02BE74','R','R01','R01A','R01AA','R01AA02','R01AA03','R01AA04','R01AA05','R01AA06','R01AA07','R01AA08',\n",
    "'R01AA09','R01AA10','R01AA11','R01AA12','R01AA13','R01AA14','R01AA15','R01AB','R01AB01','R01AB02','R01AB03','R01AB05',\n",
    "'R01AB06','R01AB07','R01AB08','R01AD','R01AD01','R01AD02','R01AD03','R01AD04','R01AD05','R01AD06','R01AD07','R01AD08',\n",
    "'R01AD09','R01AD11','R01AD12','R01AD13','R01AD52','R01AD53','R01AD57','R01AD58','R01AD60','R05','R05C','R05CA','R05CA01',\n",
    "'R05CA02','R05CA03','R05CA04','R05CA05','R05CA06','R05CA07','R05CA08','R05CA09','R05CA10','R05CA11','R05CA12','R05CA13',\n",
    "'R05CB','R05CB01','R05CB02','R05CB03','R05CB04','R05CB05','R05CB06','R05CB07','R05CB08','R05CB09','R05CB10','R05CB11',\n",
    "'R05CB13','R05CB14','R05CB15','R05CB16','R05D','R05DA','R05DA01','R05DA03','R05DA04','R05DA05','R05DA06','R05DA07','R05DA08',\n",
    "'R05DA09','R05DA10','R05DA11','R05DA12','R05DA20','R05DB','R05DB01','R05DB02','R05DB03','R05DB04','R05DB05','R05DB07',\n",
    "'R05DB09','R05DB10','R05DB11','R05DB12','R05DB13','R05DB14','R05DB15','R05DB16','R05DB17','R05DB18','R05DB19','R05DB20',\n",
    "'R05DB21','R05DB22','R05DB23','R05DB24','R05DB25','R05DB26','R05DB27','R05DB28','R05F','R05FB','R05FB01','R05FB02','R05X',\n",
    "'V11'])]\n",
    "clean_data_years_filter2.shape"
   ]
  },
  {
   "cell_type": "markdown",
   "metadata": {},
   "source": [
    "Vytvořily jsme konečný soubor, který obsahuje distribuci LP za definované období a je vyfiltrován podle potřebných ATC a Typu odběratele."
   ]
  },
  {
   "cell_type": "code",
   "execution_count": 19,
   "metadata": {},
   "outputs": [],
   "source": [
    "clean_data_years_filter2.to_csv('clean_data_years_filter.csv', index = False, encoding = 'utf-8')"
   ]
  }
 ],
 "metadata": {
  "kernelspec": {
   "display_name": "Python 3",
   "language": "python",
   "name": "python3"
  },
  "language_info": {
   "codemirror_mode": {
    "name": "ipython",
    "version": 3
   },
   "file_extension": ".py",
   "mimetype": "text/x-python",
   "name": "python",
   "nbconvert_exporter": "python",
   "pygments_lexer": "ipython3",
   "version": "3.6.4"
  }
 },
 "nbformat": 4,
 "nbformat_minor": 2
}
