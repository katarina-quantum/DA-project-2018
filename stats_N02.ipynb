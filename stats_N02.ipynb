{
 "cells": [
  {
   "cell_type": "code",
   "execution_count": 1,
   "metadata": {},
   "outputs": [],
   "source": [
    "import pandas as pd\n",
    "import numpy as np"
   ]
  },
  {
   "cell_type": "code",
   "execution_count": 2,
   "metadata": {
    "scrolled": true
   },
   "outputs": [
    {
     "data": {
      "text/html": [
       "<div>\n",
       "<style scoped>\n",
       "    .dataframe tbody tr th:only-of-type {\n",
       "        vertical-align: middle;\n",
       "    }\n",
       "\n",
       "    .dataframe tbody tr th {\n",
       "        vertical-align: top;\n",
       "    }\n",
       "\n",
       "    .dataframe thead th {\n",
       "        text-align: right;\n",
       "    }\n",
       "</style>\n",
       "<table border=\"1\" class=\"dataframe\">\n",
       "  <thead>\n",
       "    <tr style=\"text-align: right;\">\n",
       "      <th></th>\n",
       "      <th>Období</th>\n",
       "      <th>Typ odběratele</th>\n",
       "      <th>ATC7</th>\n",
       "      <th>Kód SÚKL</th>\n",
       "      <th>Název přípravku</th>\n",
       "      <th>Doplněk názvu</th>\n",
       "      <th>Držitel registračního rozhodnutí</th>\n",
       "      <th>Země</th>\n",
       "      <th>Typ pohybu</th>\n",
       "      <th>Počet balení/M</th>\n",
       "      <th>Cena za balení bez obch. přirážky a DPH</th>\n",
       "      <th>Celkem finance za všechna balení bez obch. přirážky a DPH</th>\n",
       "      <th>Počet definovaných denních dávek/balení</th>\n",
       "      <th>Počet denních definovaných dávek/balení celkem</th>\n",
       "      <th>Způsob výdeje</th>\n",
       "    </tr>\n",
       "  </thead>\n",
       "  <tbody>\n",
       "    <tr>\n",
       "      <th>0</th>\n",
       "      <td>2011-01-01</td>\n",
       "      <td>LEKAR</td>\n",
       "      <td>M01AE01</td>\n",
       "      <td>125526.0</td>\n",
       "      <td>APO-IBUPROFEN 400 MG</td>\n",
       "      <td>POR TBL FLM 100X400MG</td>\n",
       "      <td>ATX</td>\n",
       "      <td>NL</td>\n",
       "      <td>D</td>\n",
       "      <td>10.0</td>\n",
       "      <td>82.83</td>\n",
       "      <td>828.3</td>\n",
       "      <td>33.3333</td>\n",
       "      <td>333.0</td>\n",
       "      <td>F</td>\n",
       "    </tr>\n",
       "    <tr>\n",
       "      <th>1</th>\n",
       "      <td>2011-01-01</td>\n",
       "      <td>LEKARNA</td>\n",
       "      <td>M01AE01</td>\n",
       "      <td>125526.0</td>\n",
       "      <td>APO-IBUPROFEN 400 MG</td>\n",
       "      <td>POR TBL FLM 100X400MG</td>\n",
       "      <td>ATX</td>\n",
       "      <td>NL</td>\n",
       "      <td>D</td>\n",
       "      <td>71070.0</td>\n",
       "      <td>82.83</td>\n",
       "      <td>5886728.1</td>\n",
       "      <td>33.3333</td>\n",
       "      <td>2368998.0</td>\n",
       "      <td>F</td>\n",
       "    </tr>\n",
       "  </tbody>\n",
       "</table>\n",
       "</div>"
      ],
      "text/plain": [
       "       Období Typ odběratele     ATC7  Kód SÚKL       Název přípravku  \\\n",
       "0  2011-01-01          LEKAR  M01AE01  125526.0  APO-IBUPROFEN 400 MG   \n",
       "1  2011-01-01        LEKARNA  M01AE01  125526.0  APO-IBUPROFEN 400 MG   \n",
       "\n",
       "           Doplněk názvu Držitel registračního rozhodnutí Země Typ pohybu  \\\n",
       "0  POR TBL FLM 100X400MG                              ATX   NL          D   \n",
       "1  POR TBL FLM 100X400MG                              ATX   NL          D   \n",
       "\n",
       "   Počet balení/M  Cena za balení bez obch. přirážky a DPH  \\\n",
       "0            10.0                                    82.83   \n",
       "1         71070.0                                    82.83   \n",
       "\n",
       "   Celkem finance za všechna balení bez obch. přirážky a DPH  \\\n",
       "0                                              828.3           \n",
       "1                                          5886728.1           \n",
       "\n",
       "   Počet definovaných denních dávek/balení  \\\n",
       "0                                  33.3333   \n",
       "1                                  33.3333   \n",
       "\n",
       "   Počet denních definovaných dávek/balení celkem Způsob výdeje  \n",
       "0                                           333.0             F  \n",
       "1                                       2368998.0             F  "
      ]
     },
     "execution_count": 2,
     "metadata": {},
     "output_type": "execute_result"
    }
   ],
   "source": [
    "soubor = pd.read_csv('clean_data_years_filter.csv',  encoding='utf-8')\n",
    "soubor.head(2)"
   ]
  },
  {
   "cell_type": "markdown",
   "metadata": {},
   "source": [
    "###### \"clean_data_years_filter.csv\" obsahuje data, kde:"
   ]
  },
  {
   "cell_type": "markdown",
   "metadata": {},
   "source": [
    "###### \"Typ odběratele\":\n",
    "'LEKARNA', 'VETERINARNI_LEKAR', 'PRODEJCE_VLP','HYGIENICKA_STANICE', 'ZDRAVOTNICKE_ZARIZENI', 'LEKAR', 'OSOBA_POSKYTUJICI_ZDRAVOTNI_PECI'"
   ]
  },
  {
   "cell_type": "markdown",
   "metadata": {},
   "source": [
    "###### Abychom nic nepokazily, vytvorime novou tabulku \"soubor1\" a přejmenujeme poslední sloupec"
   ]
  },
  {
   "cell_type": "code",
   "execution_count": 3,
   "metadata": {},
   "outputs": [],
   "source": [
    "soubor1 = soubor.loc[:,['Období', 'ATC7', 'Počet denních definovaných dávek/balení celkem']]"
   ]
  },
  {
   "cell_type": "code",
   "execution_count": 4,
   "metadata": {},
   "outputs": [
    {
     "data": {
      "text/html": [
       "<div>\n",
       "<style scoped>\n",
       "    .dataframe tbody tr th:only-of-type {\n",
       "        vertical-align: middle;\n",
       "    }\n",
       "\n",
       "    .dataframe tbody tr th {\n",
       "        vertical-align: top;\n",
       "    }\n",
       "\n",
       "    .dataframe thead th {\n",
       "        text-align: right;\n",
       "    }\n",
       "</style>\n",
       "<table border=\"1\" class=\"dataframe\">\n",
       "  <thead>\n",
       "    <tr style=\"text-align: right;\">\n",
       "      <th></th>\n",
       "      <th>Období</th>\n",
       "      <th>ATC7</th>\n",
       "      <th>DDD_total</th>\n",
       "    </tr>\n",
       "  </thead>\n",
       "  <tbody>\n",
       "    <tr>\n",
       "      <th>0</th>\n",
       "      <td>2011-01-01</td>\n",
       "      <td>M01AE01</td>\n",
       "      <td>333.0</td>\n",
       "    </tr>\n",
       "    <tr>\n",
       "      <th>1</th>\n",
       "      <td>2011-01-01</td>\n",
       "      <td>M01AE01</td>\n",
       "      <td>2368998.0</td>\n",
       "    </tr>\n",
       "    <tr>\n",
       "      <th>2</th>\n",
       "      <td>2011-01-01</td>\n",
       "      <td>M01AE01</td>\n",
       "      <td>-45533.0</td>\n",
       "    </tr>\n",
       "    <tr>\n",
       "      <th>3</th>\n",
       "      <td>2011-01-01</td>\n",
       "      <td>M01AE01</td>\n",
       "      <td>600.0</td>\n",
       "    </tr>\n",
       "    <tr>\n",
       "      <th>4</th>\n",
       "      <td>2011-01-01</td>\n",
       "      <td>M01AE01</td>\n",
       "      <td>20.0</td>\n",
       "    </tr>\n",
       "  </tbody>\n",
       "</table>\n",
       "</div>"
      ],
      "text/plain": [
       "       Období     ATC7  DDD_total\n",
       "0  2011-01-01  M01AE01      333.0\n",
       "1  2011-01-01  M01AE01  2368998.0\n",
       "2  2011-01-01  M01AE01   -45533.0\n",
       "3  2011-01-01  M01AE01      600.0\n",
       "4  2011-01-01  M01AE01       20.0"
      ]
     },
     "execution_count": 4,
     "metadata": {},
     "output_type": "execute_result"
    }
   ],
   "source": [
    "soubor1 = soubor1.rename(index=str, columns={'Počet denních definovaných dávek/balení celkem': 'DDD_total'})\n",
    "soubor1.head()"
   ]
  },
  {
   "cell_type": "markdown",
   "metadata": {},
   "source": [
    "### Zkusime spojit jednotlive ATC do vyssi urovni molekuly. \n",
    "\n",
    "Proto napred socteme vsechny ATC, nazev kterych se zacina s N02:\n",
    "\n",
    "Jsou:  'N02B', 'N02BA', 'N02BA01','N02BA02', 'N02BA03','N02BA04', 'N02BA05', 'N02BA06','N02BA07', 'N02BA08', 'N02BA09', 'N02BA10', 'N02BA11', 'N02BA12', 'N02BA14', 'N02BA15', 'N02BA16', 'N02BA51', 'N02BA55', 'N02BA57', 'N02BA59', 'N02BA65', 'N02BA71', 'N02BA75', 'N02BA77', 'N02BA79', 'N02BE', 'N02BE01', 'N02BE03', 'N02BE04', 'N02BE05', 'N02BE51', 'N02BE53', 'N02BE54', 'N02BE71', 'N02BE73', 'N02BE74'\n",
    "\n",
    "\n",
    "\n",
    "\n",
    "\n",
    "\n"
   ]
  },
  {
   "cell_type": "markdown",
   "metadata": {},
   "source": [
    "### Jako další krok bylo třeba seskupit všechny léky obsahující stejnou molekulu ATC. \n",
    "Stejné ATC totiž může být základem pro různé léky. Použily jsme metodu groupby, pomocí které jsme vytvořily součet napříč jednotlivými ATC za každý měsíc. Protože k tomuto výpočtu z původních patnácti sloupců v tabulce nám vystačí tři, jsme do syntaxe zapsaly jen “Období”, “ATC” a “DDD_total”. "
   ]
  },
  {
   "cell_type": "code",
   "execution_count": 5,
   "metadata": {
    "scrolled": true
   },
   "outputs": [
    {
     "data": {
      "text/plain": [
       "(19168, 3)"
      ]
     },
     "execution_count": 5,
     "metadata": {},
     "output_type": "execute_result"
    }
   ],
   "source": [
    "soubor1[soubor1['ATC7'].str.startswith('N02')].shape"
   ]
  },
  {
   "cell_type": "code",
   "execution_count": 6,
   "metadata": {
    "scrolled": false
   },
   "outputs": [
    {
     "data": {
      "text/html": [
       "<div>\n",
       "<style scoped>\n",
       "    .dataframe tbody tr th:only-of-type {\n",
       "        vertical-align: middle;\n",
       "    }\n",
       "\n",
       "    .dataframe tbody tr th {\n",
       "        vertical-align: top;\n",
       "    }\n",
       "\n",
       "    .dataframe thead th {\n",
       "        text-align: right;\n",
       "    }\n",
       "</style>\n",
       "<table border=\"1\" class=\"dataframe\">\n",
       "  <thead>\n",
       "    <tr style=\"text-align: right;\">\n",
       "      <th></th>\n",
       "      <th>Období</th>\n",
       "      <th>ATC7</th>\n",
       "      <th>DDD_total</th>\n",
       "    </tr>\n",
       "  </thead>\n",
       "  <tbody>\n",
       "    <tr>\n",
       "      <th>87352</th>\n",
       "      <td>2018-03-01</td>\n",
       "      <td>N02BE51</td>\n",
       "      <td>NaN</td>\n",
       "    </tr>\n",
       "    <tr>\n",
       "      <th>87353</th>\n",
       "      <td>2018-03-01</td>\n",
       "      <td>N02BE51</td>\n",
       "      <td>NaN</td>\n",
       "    </tr>\n",
       "    <tr>\n",
       "      <th>87354</th>\n",
       "      <td>2018-03-01</td>\n",
       "      <td>N02BE51</td>\n",
       "      <td>NaN</td>\n",
       "    </tr>\n",
       "  </tbody>\n",
       "</table>\n",
       "</div>"
      ],
      "text/plain": [
       "           Období     ATC7  DDD_total\n",
       "87352  2018-03-01  N02BE51        NaN\n",
       "87353  2018-03-01  N02BE51        NaN\n",
       "87354  2018-03-01  N02BE51        NaN"
      ]
     },
     "execution_count": 6,
     "metadata": {},
     "output_type": "execute_result"
    }
   ],
   "source": [
    "leky_N02 = soubor1[soubor1['ATC7'].str.startswith('N02')]\n",
    "leky_N02.tail(3)"
   ]
  },
  {
   "cell_type": "code",
   "execution_count": 7,
   "metadata": {
    "scrolled": false
   },
   "outputs": [
    {
     "data": {
      "text/html": [
       "<div>\n",
       "<style scoped>\n",
       "    .dataframe tbody tr th:only-of-type {\n",
       "        vertical-align: middle;\n",
       "    }\n",
       "\n",
       "    .dataframe tbody tr th {\n",
       "        vertical-align: top;\n",
       "    }\n",
       "\n",
       "    .dataframe thead th {\n",
       "        text-align: right;\n",
       "    }\n",
       "</style>\n",
       "<table border=\"1\" class=\"dataframe\">\n",
       "  <thead>\n",
       "    <tr style=\"text-align: right;\">\n",
       "      <th></th>\n",
       "      <th>Období</th>\n",
       "      <th>DDD_total</th>\n",
       "    </tr>\n",
       "    <tr>\n",
       "      <th>Období</th>\n",
       "      <th></th>\n",
       "      <th></th>\n",
       "    </tr>\n",
       "  </thead>\n",
       "  <tbody>\n",
       "    <tr>\n",
       "      <th>2017-11-01</th>\n",
       "      <td>2017-11-01</td>\n",
       "      <td>3.550867e+06</td>\n",
       "    </tr>\n",
       "    <tr>\n",
       "      <th>2017-12-01</th>\n",
       "      <td>2017-12-01</td>\n",
       "      <td>2.783926e+06</td>\n",
       "    </tr>\n",
       "    <tr>\n",
       "      <th>2018-01-01</th>\n",
       "      <td>2018-01-01</td>\n",
       "      <td>4.502959e+06</td>\n",
       "    </tr>\n",
       "    <tr>\n",
       "      <th>2018-02-01</th>\n",
       "      <td>2018-02-01</td>\n",
       "      <td>5.323285e+06</td>\n",
       "    </tr>\n",
       "    <tr>\n",
       "      <th>2018-03-01</th>\n",
       "      <td>2018-03-01</td>\n",
       "      <td>4.917765e+06</td>\n",
       "    </tr>\n",
       "  </tbody>\n",
       "</table>\n",
       "</div>"
      ],
      "text/plain": [
       "                Období     DDD_total\n",
       "Období                              \n",
       "2017-11-01  2017-11-01  3.550867e+06\n",
       "2017-12-01  2017-12-01  2.783926e+06\n",
       "2018-01-01  2018-01-01  4.502959e+06\n",
       "2018-02-01  2018-02-01  5.323285e+06\n",
       "2018-03-01  2018-03-01  4.917765e+06"
      ]
     },
     "execution_count": 7,
     "metadata": {},
     "output_type": "execute_result"
    }
   ],
   "source": [
    "leky_N02 = leky_N02.groupby(['Období']).agg({'Období':'first', 'DDD_total':'sum'})\n",
    "leky_N02.tail()"
   ]
  },
  {
   "cell_type": "code",
   "execution_count": 8,
   "metadata": {},
   "outputs": [
    {
     "data": {
      "text/plain": [
       "(87, 2)"
      ]
     },
     "execution_count": 8,
     "metadata": {},
     "output_type": "execute_result"
    }
   ],
   "source": [
    "leky_N02.shape"
   ]
  },
  {
   "cell_type": "code",
   "execution_count": 9,
   "metadata": {},
   "outputs": [
    {
     "data": {
      "text/plain": [
       "Index(['Období', 'DDD_total'], dtype='object')"
      ]
     },
     "execution_count": 9,
     "metadata": {},
     "output_type": "execute_result"
    }
   ],
   "source": [
    "leky_N02.columns"
   ]
  },
  {
   "cell_type": "code",
   "execution_count": 10,
   "metadata": {},
   "outputs": [],
   "source": [
    "# Exportujeme\n",
    "leky_N02.to_csv('leky/leky_N02.csv', encoding = 'utf-8')"
   ]
  },
  {
   "cell_type": "code",
   "execution_count": 11,
   "metadata": {},
   "outputs": [],
   "source": [
    "leky_N02['Období'] = pd.to_datetime(leky_N02['Období'])"
   ]
  },
  {
   "cell_type": "code",
   "execution_count": 12,
   "metadata": {},
   "outputs": [],
   "source": [
    "leky_N02['year'] = leky_N02['Období'].dt.year.astype(np.int)"
   ]
  },
  {
   "cell_type": "code",
   "execution_count": 13,
   "metadata": {},
   "outputs": [],
   "source": [
    "leky_N02['month'] = leky_N02['Období'].dt.month.astype(np.int)"
   ]
  },
  {
   "cell_type": "code",
   "execution_count": 14,
   "metadata": {},
   "outputs": [],
   "source": [
    "leky_N02['quater'] = leky_N02['Období'].dt.quarter.astype(np.int)\n",
    "#DatetimeIndex.quarter"
   ]
  },
  {
   "cell_type": "markdown",
   "metadata": {},
   "source": [
    "#### Pro statistický model jsme potřebovaly vytvořit “trend”. Náš nejstarší rok je označen nulou a každý další je o jednotku vyšší."
   ]
  },
  {
   "cell_type": "code",
   "execution_count": 15,
   "metadata": {},
   "outputs": [],
   "source": [
    "leky_N02['trend'] = leky_N02['year']-2011"
   ]
  },
  {
   "cell_type": "code",
   "execution_count": 16,
   "metadata": {},
   "outputs": [
    {
     "data": {
      "text/html": [
       "<div>\n",
       "<style scoped>\n",
       "    .dataframe tbody tr th:only-of-type {\n",
       "        vertical-align: middle;\n",
       "    }\n",
       "\n",
       "    .dataframe tbody tr th {\n",
       "        vertical-align: top;\n",
       "    }\n",
       "\n",
       "    .dataframe thead th {\n",
       "        text-align: right;\n",
       "    }\n",
       "</style>\n",
       "<table border=\"1\" class=\"dataframe\">\n",
       "  <thead>\n",
       "    <tr style=\"text-align: right;\">\n",
       "      <th></th>\n",
       "      <th>Období</th>\n",
       "      <th>DDD_total</th>\n",
       "      <th>year</th>\n",
       "      <th>month</th>\n",
       "      <th>quater</th>\n",
       "      <th>trend</th>\n",
       "    </tr>\n",
       "    <tr>\n",
       "      <th>Období</th>\n",
       "      <th></th>\n",
       "      <th></th>\n",
       "      <th></th>\n",
       "      <th></th>\n",
       "      <th></th>\n",
       "      <th></th>\n",
       "    </tr>\n",
       "  </thead>\n",
       "  <tbody>\n",
       "    <tr>\n",
       "      <th>2018-01-01</th>\n",
       "      <td>2018-01-01</td>\n",
       "      <td>4.502959e+06</td>\n",
       "      <td>2018</td>\n",
       "      <td>1</td>\n",
       "      <td>1</td>\n",
       "      <td>7</td>\n",
       "    </tr>\n",
       "    <tr>\n",
       "      <th>2018-02-01</th>\n",
       "      <td>2018-02-01</td>\n",
       "      <td>5.323285e+06</td>\n",
       "      <td>2018</td>\n",
       "      <td>2</td>\n",
       "      <td>1</td>\n",
       "      <td>7</td>\n",
       "    </tr>\n",
       "    <tr>\n",
       "      <th>2018-03-01</th>\n",
       "      <td>2018-03-01</td>\n",
       "      <td>4.917765e+06</td>\n",
       "      <td>2018</td>\n",
       "      <td>3</td>\n",
       "      <td>1</td>\n",
       "      <td>7</td>\n",
       "    </tr>\n",
       "  </tbody>\n",
       "</table>\n",
       "</div>"
      ],
      "text/plain": [
       "               Období     DDD_total  year  month  quater  trend\n",
       "Období                                                         \n",
       "2018-01-01 2018-01-01  4.502959e+06  2018      1       1      7\n",
       "2018-02-01 2018-02-01  5.323285e+06  2018      2       1      7\n",
       "2018-03-01 2018-03-01  4.917765e+06  2018      3       1      7"
      ]
     },
     "execution_count": 16,
     "metadata": {},
     "output_type": "execute_result"
    }
   ],
   "source": [
    "leky_N02.tail(3)"
   ]
  },
  {
   "cell_type": "markdown",
   "metadata": {},
   "source": [
    "### Statistický model\n",
    "Pro použití statistického modelu jsme potřebovaly vytvořit další sloupce pro rok, měsíc a kvartál pomocí metody knihovny pandas “.to_datetime”."
   ]
  },
  {
   "cell_type": "markdown",
   "metadata": {},
   "source": [
    "Program vnímá čísla měsíců (1–12) a kvartálů (1–4) jako hodnoty, což se nedá využít pro náš stats model. Aby program nevnímal číslo měsíců a kvartálů jako hodnotu, je třeba použít binární systém jedniček a nul.\n",
    "\n",
    "### Proto použijeme metodu “.get_dummies” na sloupce “month” a “quater”."
   ]
  },
  {
   "cell_type": "code",
   "execution_count": 17,
   "metadata": {},
   "outputs": [
    {
     "data": {
      "text/html": [
       "<div>\n",
       "<style scoped>\n",
       "    .dataframe tbody tr th:only-of-type {\n",
       "        vertical-align: middle;\n",
       "    }\n",
       "\n",
       "    .dataframe tbody tr th {\n",
       "        vertical-align: top;\n",
       "    }\n",
       "\n",
       "    .dataframe thead th {\n",
       "        text-align: right;\n",
       "    }\n",
       "</style>\n",
       "<table border=\"1\" class=\"dataframe\">\n",
       "  <thead>\n",
       "    <tr style=\"text-align: right;\">\n",
       "      <th></th>\n",
       "      <th>quater_1</th>\n",
       "      <th>quater_2</th>\n",
       "      <th>quater_3</th>\n",
       "      <th>quater_4</th>\n",
       "    </tr>\n",
       "    <tr>\n",
       "      <th>Období</th>\n",
       "      <th></th>\n",
       "      <th></th>\n",
       "      <th></th>\n",
       "      <th></th>\n",
       "    </tr>\n",
       "  </thead>\n",
       "  <tbody>\n",
       "    <tr>\n",
       "      <th>2011-01-01</th>\n",
       "      <td>1</td>\n",
       "      <td>0</td>\n",
       "      <td>0</td>\n",
       "      <td>0</td>\n",
       "    </tr>\n",
       "    <tr>\n",
       "      <th>2011-02-01</th>\n",
       "      <td>1</td>\n",
       "      <td>0</td>\n",
       "      <td>0</td>\n",
       "      <td>0</td>\n",
       "    </tr>\n",
       "    <tr>\n",
       "      <th>2011-03-01</th>\n",
       "      <td>1</td>\n",
       "      <td>0</td>\n",
       "      <td>0</td>\n",
       "      <td>0</td>\n",
       "    </tr>\n",
       "  </tbody>\n",
       "</table>\n",
       "</div>"
      ],
      "text/plain": [
       "            quater_1  quater_2  quater_3  quater_4\n",
       "Období                                            \n",
       "2011-01-01         1         0         0         0\n",
       "2011-02-01         1         0         0         0\n",
       "2011-03-01         1         0         0         0"
      ]
     },
     "execution_count": 17,
     "metadata": {},
     "output_type": "execute_result"
    }
   ],
   "source": [
    "Q1 = pd.get_dummies(leky_N02['quater'], prefix='quater')\n",
    "Q1.head(3)"
   ]
  },
  {
   "cell_type": "code",
   "execution_count": 18,
   "metadata": {
    "scrolled": true
   },
   "outputs": [
    {
     "data": {
      "text/html": [
       "<div>\n",
       "<style scoped>\n",
       "    .dataframe tbody tr th:only-of-type {\n",
       "        vertical-align: middle;\n",
       "    }\n",
       "\n",
       "    .dataframe tbody tr th {\n",
       "        vertical-align: top;\n",
       "    }\n",
       "\n",
       "    .dataframe thead th {\n",
       "        text-align: right;\n",
       "    }\n",
       "</style>\n",
       "<table border=\"1\" class=\"dataframe\">\n",
       "  <thead>\n",
       "    <tr style=\"text-align: right;\">\n",
       "      <th></th>\n",
       "      <th>month_1</th>\n",
       "      <th>month_2</th>\n",
       "      <th>month_3</th>\n",
       "      <th>month_4</th>\n",
       "      <th>month_5</th>\n",
       "      <th>month_6</th>\n",
       "      <th>month_7</th>\n",
       "      <th>month_8</th>\n",
       "      <th>month_9</th>\n",
       "      <th>month_10</th>\n",
       "      <th>month_11</th>\n",
       "      <th>month_12</th>\n",
       "    </tr>\n",
       "    <tr>\n",
       "      <th>Období</th>\n",
       "      <th></th>\n",
       "      <th></th>\n",
       "      <th></th>\n",
       "      <th></th>\n",
       "      <th></th>\n",
       "      <th></th>\n",
       "      <th></th>\n",
       "      <th></th>\n",
       "      <th></th>\n",
       "      <th></th>\n",
       "      <th></th>\n",
       "      <th></th>\n",
       "    </tr>\n",
       "  </thead>\n",
       "  <tbody>\n",
       "    <tr>\n",
       "      <th>2011-01-01</th>\n",
       "      <td>1</td>\n",
       "      <td>0</td>\n",
       "      <td>0</td>\n",
       "      <td>0</td>\n",
       "      <td>0</td>\n",
       "      <td>0</td>\n",
       "      <td>0</td>\n",
       "      <td>0</td>\n",
       "      <td>0</td>\n",
       "      <td>0</td>\n",
       "      <td>0</td>\n",
       "      <td>0</td>\n",
       "    </tr>\n",
       "    <tr>\n",
       "      <th>2011-02-01</th>\n",
       "      <td>0</td>\n",
       "      <td>1</td>\n",
       "      <td>0</td>\n",
       "      <td>0</td>\n",
       "      <td>0</td>\n",
       "      <td>0</td>\n",
       "      <td>0</td>\n",
       "      <td>0</td>\n",
       "      <td>0</td>\n",
       "      <td>0</td>\n",
       "      <td>0</td>\n",
       "      <td>0</td>\n",
       "    </tr>\n",
       "    <tr>\n",
       "      <th>2011-03-01</th>\n",
       "      <td>0</td>\n",
       "      <td>0</td>\n",
       "      <td>1</td>\n",
       "      <td>0</td>\n",
       "      <td>0</td>\n",
       "      <td>0</td>\n",
       "      <td>0</td>\n",
       "      <td>0</td>\n",
       "      <td>0</td>\n",
       "      <td>0</td>\n",
       "      <td>0</td>\n",
       "      <td>0</td>\n",
       "    </tr>\n",
       "    <tr>\n",
       "      <th>2011-04-01</th>\n",
       "      <td>0</td>\n",
       "      <td>0</td>\n",
       "      <td>0</td>\n",
       "      <td>1</td>\n",
       "      <td>0</td>\n",
       "      <td>0</td>\n",
       "      <td>0</td>\n",
       "      <td>0</td>\n",
       "      <td>0</td>\n",
       "      <td>0</td>\n",
       "      <td>0</td>\n",
       "      <td>0</td>\n",
       "    </tr>\n",
       "    <tr>\n",
       "      <th>2011-05-01</th>\n",
       "      <td>0</td>\n",
       "      <td>0</td>\n",
       "      <td>0</td>\n",
       "      <td>0</td>\n",
       "      <td>1</td>\n",
       "      <td>0</td>\n",
       "      <td>0</td>\n",
       "      <td>0</td>\n",
       "      <td>0</td>\n",
       "      <td>0</td>\n",
       "      <td>0</td>\n",
       "      <td>0</td>\n",
       "    </tr>\n",
       "  </tbody>\n",
       "</table>\n",
       "</div>"
      ],
      "text/plain": [
       "            month_1  month_2  month_3  month_4  month_5  month_6  month_7  \\\n",
       "Období                                                                      \n",
       "2011-01-01        1        0        0        0        0        0        0   \n",
       "2011-02-01        0        1        0        0        0        0        0   \n",
       "2011-03-01        0        0        1        0        0        0        0   \n",
       "2011-04-01        0        0        0        1        0        0        0   \n",
       "2011-05-01        0        0        0        0        1        0        0   \n",
       "\n",
       "            month_8  month_9  month_10  month_11  month_12  \n",
       "Období                                                      \n",
       "2011-01-01        0        0         0         0         0  \n",
       "2011-02-01        0        0         0         0         0  \n",
       "2011-03-01        0        0         0         0         0  \n",
       "2011-04-01        0        0         0         0         0  \n",
       "2011-05-01        0        0         0         0         0  "
      ]
     },
     "execution_count": 18,
     "metadata": {},
     "output_type": "execute_result"
    }
   ],
   "source": [
    "M1 = pd.get_dummies(leky_N02['month'], prefix='month')\n",
    "M1.head()"
   ]
  },
  {
   "cell_type": "markdown",
   "metadata": {},
   "source": [
    "### Ted to spojime do jednoho dataframu \"model_df\"\n",
    "https://pandas.pydata.org/pandas-docs/stable/merging.html"
   ]
  },
  {
   "cell_type": "code",
   "execution_count": 19,
   "metadata": {},
   "outputs": [
    {
     "data": {
      "text/html": [
       "<div>\n",
       "<style scoped>\n",
       "    .dataframe tbody tr th:only-of-type {\n",
       "        vertical-align: middle;\n",
       "    }\n",
       "\n",
       "    .dataframe tbody tr th {\n",
       "        vertical-align: top;\n",
       "    }\n",
       "\n",
       "    .dataframe thead th {\n",
       "        text-align: right;\n",
       "    }\n",
       "</style>\n",
       "<table border=\"1\" class=\"dataframe\">\n",
       "  <thead>\n",
       "    <tr style=\"text-align: right;\">\n",
       "      <th></th>\n",
       "      <th>Období</th>\n",
       "      <th>DDD_total</th>\n",
       "      <th>year</th>\n",
       "      <th>month</th>\n",
       "      <th>quater</th>\n",
       "      <th>trend</th>\n",
       "      <th>month_1</th>\n",
       "      <th>month_2</th>\n",
       "      <th>month_3</th>\n",
       "      <th>month_4</th>\n",
       "      <th>...</th>\n",
       "      <th>month_7</th>\n",
       "      <th>month_8</th>\n",
       "      <th>month_9</th>\n",
       "      <th>month_10</th>\n",
       "      <th>month_11</th>\n",
       "      <th>month_12</th>\n",
       "      <th>quater_1</th>\n",
       "      <th>quater_2</th>\n",
       "      <th>quater_3</th>\n",
       "      <th>quater_4</th>\n",
       "    </tr>\n",
       "    <tr>\n",
       "      <th>Období</th>\n",
       "      <th></th>\n",
       "      <th></th>\n",
       "      <th></th>\n",
       "      <th></th>\n",
       "      <th></th>\n",
       "      <th></th>\n",
       "      <th></th>\n",
       "      <th></th>\n",
       "      <th></th>\n",
       "      <th></th>\n",
       "      <th></th>\n",
       "      <th></th>\n",
       "      <th></th>\n",
       "      <th></th>\n",
       "      <th></th>\n",
       "      <th></th>\n",
       "      <th></th>\n",
       "      <th></th>\n",
       "      <th></th>\n",
       "      <th></th>\n",
       "      <th></th>\n",
       "    </tr>\n",
       "  </thead>\n",
       "  <tbody>\n",
       "    <tr>\n",
       "      <th>2011-01-01</th>\n",
       "      <td>2011-01-01</td>\n",
       "      <td>5386347.0</td>\n",
       "      <td>2011</td>\n",
       "      <td>1</td>\n",
       "      <td>1</td>\n",
       "      <td>0</td>\n",
       "      <td>1</td>\n",
       "      <td>0</td>\n",
       "      <td>0</td>\n",
       "      <td>0</td>\n",
       "      <td>...</td>\n",
       "      <td>0</td>\n",
       "      <td>0</td>\n",
       "      <td>0</td>\n",
       "      <td>0</td>\n",
       "      <td>0</td>\n",
       "      <td>0</td>\n",
       "      <td>1</td>\n",
       "      <td>0</td>\n",
       "      <td>0</td>\n",
       "      <td>0</td>\n",
       "    </tr>\n",
       "    <tr>\n",
       "      <th>2011-02-01</th>\n",
       "      <td>2011-02-01</td>\n",
       "      <td>4883015.0</td>\n",
       "      <td>2011</td>\n",
       "      <td>2</td>\n",
       "      <td>1</td>\n",
       "      <td>0</td>\n",
       "      <td>0</td>\n",
       "      <td>1</td>\n",
       "      <td>0</td>\n",
       "      <td>0</td>\n",
       "      <td>...</td>\n",
       "      <td>0</td>\n",
       "      <td>0</td>\n",
       "      <td>0</td>\n",
       "      <td>0</td>\n",
       "      <td>0</td>\n",
       "      <td>0</td>\n",
       "      <td>1</td>\n",
       "      <td>0</td>\n",
       "      <td>0</td>\n",
       "      <td>0</td>\n",
       "    </tr>\n",
       "    <tr>\n",
       "      <th>2011-03-01</th>\n",
       "      <td>2011-03-01</td>\n",
       "      <td>4549898.0</td>\n",
       "      <td>2011</td>\n",
       "      <td>3</td>\n",
       "      <td>1</td>\n",
       "      <td>0</td>\n",
       "      <td>0</td>\n",
       "      <td>0</td>\n",
       "      <td>1</td>\n",
       "      <td>0</td>\n",
       "      <td>...</td>\n",
       "      <td>0</td>\n",
       "      <td>0</td>\n",
       "      <td>0</td>\n",
       "      <td>0</td>\n",
       "      <td>0</td>\n",
       "      <td>0</td>\n",
       "      <td>1</td>\n",
       "      <td>0</td>\n",
       "      <td>0</td>\n",
       "      <td>0</td>\n",
       "    </tr>\n",
       "  </tbody>\n",
       "</table>\n",
       "<p>3 rows × 22 columns</p>\n",
       "</div>"
      ],
      "text/plain": [
       "               Období  DDD_total  year  month  quater  trend  month_1  \\\n",
       "Období                                                                  \n",
       "2011-01-01 2011-01-01  5386347.0  2011      1       1      0        1   \n",
       "2011-02-01 2011-02-01  4883015.0  2011      2       1      0        0   \n",
       "2011-03-01 2011-03-01  4549898.0  2011      3       1      0        0   \n",
       "\n",
       "            month_2  month_3  month_4    ...     month_7  month_8  month_9  \\\n",
       "Období                                   ...                                 \n",
       "2011-01-01        0        0        0    ...           0        0        0   \n",
       "2011-02-01        1        0        0    ...           0        0        0   \n",
       "2011-03-01        0        1        0    ...           0        0        0   \n",
       "\n",
       "            month_10  month_11  month_12  quater_1  quater_2  quater_3  \\\n",
       "Období                                                                   \n",
       "2011-01-01         0         0         0         1         0         0   \n",
       "2011-02-01         0         0         0         1         0         0   \n",
       "2011-03-01         0         0         0         1         0         0   \n",
       "\n",
       "            quater_4  \n",
       "Období                \n",
       "2011-01-01         0  \n",
       "2011-02-01         0  \n",
       "2011-03-01         0  \n",
       "\n",
       "[3 rows x 22 columns]"
      ]
     },
     "execution_count": 19,
     "metadata": {},
     "output_type": "execute_result"
    }
   ],
   "source": [
    "model_N02 = pd.concat([leky_N02, M1, Q1], axis=1, join_axes=[leky_N02.index])\n",
    "model_N02.head(3)"
   ]
  },
  {
   "cell_type": "code",
   "execution_count": 20,
   "metadata": {},
   "outputs": [
    {
     "name": "stdout",
     "output_type": "stream",
     "text": [
      "<class 'pandas.core.frame.DataFrame'>\n",
      "Index: 87 entries, 2011-01-01 to 2018-03-01\n",
      "Data columns (total 22 columns):\n",
      "Období       87 non-null datetime64[ns]\n",
      "DDD_total    87 non-null float64\n",
      "year         87 non-null int32\n",
      "month        87 non-null int32\n",
      "quater       87 non-null int32\n",
      "trend        87 non-null int32\n",
      "month_1      87 non-null uint8\n",
      "month_2      87 non-null uint8\n",
      "month_3      87 non-null uint8\n",
      "month_4      87 non-null uint8\n",
      "month_5      87 non-null uint8\n",
      "month_6      87 non-null uint8\n",
      "month_7      87 non-null uint8\n",
      "month_8      87 non-null uint8\n",
      "month_9      87 non-null uint8\n",
      "month_10     87 non-null uint8\n",
      "month_11     87 non-null uint8\n",
      "month_12     87 non-null uint8\n",
      "quater_1     87 non-null uint8\n",
      "quater_2     87 non-null uint8\n",
      "quater_3     87 non-null uint8\n",
      "quater_4     87 non-null uint8\n",
      "dtypes: datetime64[ns](1), float64(1), int32(4), uint8(16)\n",
      "memory usage: 4.8+ KB\n"
     ]
    }
   ],
   "source": [
    "model_N02.info()"
   ]
  },
  {
   "cell_type": "code",
   "execution_count": 21,
   "metadata": {
    "scrolled": true
   },
   "outputs": [
    {
     "name": "stderr",
     "output_type": "stream",
     "text": [
      "C:\\Users\\Katerina\\Anaconda3\\lib\\site-packages\\statsmodels\\compat\\pandas.py:56: FutureWarning: The pandas.core.datetools module is deprecated and will be removed in a future version. Please use the pandas.tseries module instead.\n",
      "  from pandas.core import datetools\n"
     ]
    }
   ],
   "source": [
    "import statsmodels.api as sm\n",
    "import statsmodels.formula.api as smf"
   ]
  },
  {
   "cell_type": "markdown",
   "metadata": {},
   "source": [
    "Pouzijeme agregacni funkce a udelame soucet za kazdy mesic:"
   ]
  },
  {
   "cell_type": "code",
   "execution_count": 22,
   "metadata": {},
   "outputs": [
    {
     "name": "stdout",
     "output_type": "stream",
     "text": [
      "                            OLS Regression Results                            \n",
      "==============================================================================\n",
      "Dep. Variable:              DDD_total   R-squared:                       0.301\n",
      "Model:                            OLS   Adj. R-squared:                  0.267\n",
      "Method:                 Least Squares   F-statistic:                     8.837\n",
      "Date:                Sun, 20 May 2018   Prob (F-statistic):           5.54e-06\n",
      "Time:                        19:21:03   Log-Likelihood:                -1311.3\n",
      "No. Observations:                  87   AIC:                             2633.\n",
      "Df Residuals:                      82   BIC:                             2645.\n",
      "Df Model:                           4                                         \n",
      "Covariance Type:            nonrobust                                         \n",
      "==============================================================================\n",
      "                 coef    std err          t      P>|t|      [0.025      0.975]\n",
      "------------------------------------------------------------------------------\n",
      "Intercept   3.811e+06   2.34e+05     16.278      0.000    3.35e+06    4.28e+06\n",
      "trend      -4.253e+04   4.51e+04     -0.944      0.348   -1.32e+05    4.71e+04\n",
      "quater_1    7.709e+05   2.63e+05      2.934      0.004    2.48e+05    1.29e+06\n",
      "quater_2   -7.165e+05    2.7e+05     -2.650      0.010   -1.25e+06   -1.79e+05\n",
      "quater_3   -3.358e+05    2.7e+05     -1.242      0.218   -8.74e+05    2.02e+05\n",
      "==============================================================================\n",
      "Omnibus:                        3.259   Durbin-Watson:                   2.119\n",
      "Prob(Omnibus):                  0.196   Jarque-Bera (JB):                2.778\n",
      "Skew:                           0.434   Prob(JB):                        0.249\n",
      "Kurtosis:                       3.118   Cond. No.                         17.4\n",
      "==============================================================================\n",
      "\n",
      "Warnings:\n",
      "[1] Standard Errors assume that the covariance matrix of the errors is correctly specified.\n"
     ]
    }
   ],
   "source": [
    "resultsN02 = smf.ols('DDD_total ~ trend + quater_1 + quater_2 + quater_3', data=model_N02).fit()\n",
    "print(resultsN02.summary())"
   ]
  },
  {
   "cell_type": "code",
   "execution_count": 23,
   "metadata": {
    "scrolled": true
   },
   "outputs": [
    {
     "name": "stdout",
     "output_type": "stream",
     "text": [
      "                            OLS Regression Results                            \n",
      "==============================================================================\n",
      "Dep. Variable:              DDD_total   R-squared:                       0.619\n",
      "Model:                            OLS   Adj. R-squared:                  0.558\n",
      "Method:                 Least Squares   F-statistic:                     10.04\n",
      "Date:                Sun, 20 May 2018   Prob (F-statistic):           2.51e-11\n",
      "Time:                        19:21:03   Log-Likelihood:                -1284.9\n",
      "No. Observations:                  87   AIC:                             2596.\n",
      "Df Residuals:                      74   BIC:                             2628.\n",
      "Df Model:                          12                                         \n",
      "Covariance Type:            nonrobust                                         \n",
      "==============================================================================\n",
      "                 coef    std err          t      P>|t|      [0.025      0.975]\n",
      "------------------------------------------------------------------------------\n",
      "Intercept   3.732e+06   2.78e+05     13.432      0.000    3.18e+06    4.29e+06\n",
      "trend      -4.253e+04    3.5e+04     -1.215      0.228   -1.12e+05    2.72e+04\n",
      "month_1     1.195e+06   3.53e+05      3.388      0.001    4.92e+05     1.9e+06\n",
      "month_2     1.024e+06   3.53e+05      2.903      0.005    3.21e+05    1.73e+06\n",
      "month_3     3.327e+05   3.53e+05      0.943      0.349    -3.7e+05    1.04e+06\n",
      "month_4     -9.01e+05   3.64e+05     -2.477      0.016   -1.63e+06   -1.76e+05\n",
      "month_5    -8.514e+05   3.64e+05     -2.341      0.022   -1.58e+06   -1.27e+05\n",
      "month_6    -1.587e+05   3.64e+05     -0.436      0.664   -8.83e+05    5.66e+05\n",
      "month_7    -1.604e+06   3.64e+05     -4.408      0.000   -2.33e+06   -8.79e+05\n",
      "month_8    -9.842e+04   3.64e+05     -0.271      0.787   -8.23e+05    6.26e+05\n",
      "month_9      9.33e+05   3.64e+05      2.565      0.012    2.08e+05    1.66e+06\n",
      "month_10    1.879e+05   3.64e+05      0.517      0.607   -5.37e+05    9.13e+05\n",
      "month_11    5.051e+04   3.64e+05      0.139      0.890   -6.74e+05    7.75e+05\n",
      "==============================================================================\n",
      "Omnibus:                        2.065   Durbin-Watson:                   2.016\n",
      "Prob(Omnibus):                  0.356   Jarque-Bera (JB):                1.642\n",
      "Skew:                           0.333   Prob(JB):                        0.440\n",
      "Kurtosis:                       3.101   Cond. No.                         49.0\n",
      "==============================================================================\n",
      "\n",
      "Warnings:\n",
      "[1] Standard Errors assume that the covariance matrix of the errors is correctly specified.\n"
     ]
    }
   ],
   "source": [
    "results_N02 = smf.ols('DDD_total ~ trend + month_1 + month_2 + month_3 + month_4 + month_5 + month_6 + month_7 + month_8 + month_9 + month_10 + month_11', data=model_N02).fit()\n",
    "print(results_N02.summary())"
   ]
  }
 ],
 "metadata": {
  "kernelspec": {
   "display_name": "Python 3",
   "language": "python",
   "name": "python3"
  },
  "language_info": {
   "codemirror_mode": {
    "name": "ipython",
    "version": 3
   },
   "file_extension": ".py",
   "mimetype": "text/x-python",
   "name": "python",
   "nbconvert_exporter": "python",
   "pygments_lexer": "ipython3",
   "version": "3.6.4"
  }
 },
 "nbformat": 4,
 "nbformat_minor": 2
}
