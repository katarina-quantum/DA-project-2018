{
 "cells": [
  {
   "cell_type": "markdown",
   "metadata": {},
   "source": [
    "##### Začneme tím, že naimportujeme knihovny:"
   ]
  },
  {
   "cell_type": "code",
   "execution_count": 1,
   "metadata": {},
   "outputs": [],
   "source": [
    "import pandas as pd\n",
    "import numpy as np\n",
    "from bs4 import BeautifulSoup\n",
    "import requests"
   ]
  },
  {
   "cell_type": "markdown",
   "metadata": {},
   "source": [
    "##### V dalším kroku budeme stahovat soubory od roku 2018 z webu SÚKL a postupně budeme přidávat starší soubory."
   ]
  },
  {
   "cell_type": "code",
   "execution_count": 2,
   "metadata": {},
   "outputs": [],
   "source": [
    "response = requests.get('http://www.sukl.cz/2018')"
   ]
  },
  {
   "cell_type": "code",
   "execution_count": 3,
   "metadata": {},
   "outputs": [],
   "source": [
    "soup = BeautifulSoup(response.text, \"lxml\")"
   ]
  },
  {
   "cell_type": "markdown",
   "metadata": {},
   "source": [
    "Odkazy v HTML začínají písmenkem \"a\" a mají atribut \"href\".  Zároveň na stránce http://www.sukl.cz/2018 vidíme, že názvy složek začínají slovem \"Distribuce\":"
   ]
  },
  {
   "cell_type": "code",
   "execution_count": 4,
   "metadata": {},
   "outputs": [],
   "source": [
    "links = soup.find_all('a')"
   ]
  },
  {
   "cell_type": "code",
   "execution_count": 5,
   "metadata": {},
   "outputs": [
    {
     "name": "stdout",
     "output_type": "stream",
     "text": [
      "http://www.sukl.cz/file/87404_1_1\n",
      "http://www.sukl.cz/file/87628_1_1\n",
      "http://www.sukl.cz/file/87831_1_1\n"
     ]
    }
   ],
   "source": [
    "for slovo in links:\n",
    "    \n",
    "    if slovo.text.startswith('DistribuceLP_'):\n",
    "        x ='http://www.sukl.cz' + slovo.attrs['href'] #Po několika pokusech jsme zjistily, že potřebujeme přidat 'http://www.sukl.cz'\n",
    "        print(x) #Vytiskneme každý odkaz, abychom mohly prověřit, jestli opravdu fungují"
   ]
  },
  {
   "cell_type": "markdown",
   "metadata": {},
   "source": [
    "##### Vytvoříme seznam \"our_list\" a nahrajeme do něj odpovídající odkazy:"
   ]
  },
  {
   "cell_type": "code",
   "execution_count": 6,
   "metadata": {},
   "outputs": [
    {
     "name": "stdout",
     "output_type": "stream",
     "text": [
      "['http://www.sukl.cz/file/87404_1_1', 'http://www.sukl.cz/file/87628_1_1', 'http://www.sukl.cz/file/87831_1_1']\n"
     ]
    }
   ],
   "source": [
    "our_list = ['']\n",
    "i = 0\n",
    "for slovo in links:\n",
    "    if slovo.text.startswith('DistribuceLP_'):\n",
    "        x ='http://www.sukl.cz' + slovo.attrs['href']\n",
    "        if i == 0:\n",
    "            our_list[i] = x\n",
    "        else:\n",
    "            our_list.append(x)\n",
    "        i+=1\n",
    "print(our_list)"
   ]
  },
  {
   "cell_type": "markdown",
   "metadata": {},
   "source": [
    "##### Vytvoříme seznam \"our_files\", do kterého nahrajeme každý ze souborů s pomocí seznamu odkazů:"
   ]
  },
  {
   "cell_type": "code",
   "execution_count": 7,
   "metadata": {},
   "outputs": [],
   "source": [
    "our_files = [ pd.read_excel(x, encoding='utf-8') for x in our_list ]\n"
   ]
  },
  {
   "cell_type": "markdown",
   "metadata": {},
   "source": [
    "##### Abychom mohly prověřit, jestli je všechno jak má být, vypíšeme počet řádků v každém ze souborů a pak jejich součet:"
   ]
  },
  {
   "cell_type": "code",
   "execution_count": 8,
   "metadata": {},
   "outputs": [
    {
     "data": {
      "text/plain": [
       "[24090, 23931, 24133]"
      ]
     },
     "execution_count": 8,
     "metadata": {},
     "output_type": "execute_result"
    }
   ],
   "source": [
    "number_of_rows =[0,0,0] #Vidíme, že v roce 2018 máme jen 3 soubory. Pro předchozí roky budeme používat seznam obsahující 12 čísel (protože 12 měsíců)\n",
    "\n",
    "for i in range(0, len(our_files)):\n",
    "    number_of_rows[i] = our_files[i].shape[0]\n",
    "number_of_rows"
   ]
  },
  {
   "cell_type": "code",
   "execution_count": 9,
   "metadata": {},
   "outputs": [
    {
     "data": {
      "text/plain": [
       "72154"
      ]
     },
     "execution_count": 9,
     "metadata": {},
     "output_type": "execute_result"
    }
   ],
   "source": [
    "sum(number_of_rows) "
   ]
  },
  {
   "cell_type": "markdown",
   "metadata": {},
   "source": [
    "##### Teď konečně spojíme složky. Víme, že mají stejnou strukturu (počet a názvy sloupců), proto nahrajeme soubory jeden za druhým. Budeme postupovat podle vzoru:"
   ]
  },
  {
   "cell_type": "markdown",
   "metadata": {},
   "source": [
    "year_201x = pd.concat([our_files[0], our_files[1], \"a tak dale\" ], ignore_index = True) "
   ]
  },
  {
   "cell_type": "markdown",
   "metadata": {},
   "source": [
    "Samozřejmě pro rok 2018 není potřeba psát cyklus, ale bude se hodit pro ostatní roky, kde máme více složek:"
   ]
  },
  {
   "cell_type": "code",
   "execution_count": 10,
   "metadata": {
    "scrolled": true
   },
   "outputs": [
    {
     "data": {
      "text/html": [
       "<div>\n",
       "<style scoped>\n",
       "    .dataframe tbody tr th:only-of-type {\n",
       "        vertical-align: middle;\n",
       "    }\n",
       "\n",
       "    .dataframe tbody tr th {\n",
       "        vertical-align: top;\n",
       "    }\n",
       "\n",
       "    .dataframe thead th {\n",
       "        text-align: right;\n",
       "    }\n",
       "</style>\n",
       "<table border=\"1\" class=\"dataframe\">\n",
       "  <thead>\n",
       "    <tr style=\"text-align: right;\">\n",
       "      <th></th>\n",
       "      <th>Období</th>\n",
       "      <th>Typ odběratele</th>\n",
       "      <th>ATC7</th>\n",
       "      <th>Kód SÚKL</th>\n",
       "      <th>Název přípravku</th>\n",
       "      <th>Doplněk názvu</th>\n",
       "      <th>Držitel registračního rozhodnutí</th>\n",
       "      <th>Země</th>\n",
       "      <th>Typ pohybu</th>\n",
       "      <th>Počet balení/M</th>\n",
       "      <th>Cena za balení bez obch. přirážky a DPH</th>\n",
       "      <th>Celkem finance za všechna balení bez obch. přirážky a DPH</th>\n",
       "      <th>Počet definovaných denních dávek/balení</th>\n",
       "      <th>Počet denních definovaných dávek/balení celkem</th>\n",
       "      <th>Způsob výdeje</th>\n",
       "    </tr>\n",
       "  </thead>\n",
       "  <tbody>\n",
       "    <tr>\n",
       "      <th>0</th>\n",
       "      <td>2018.01</td>\n",
       "      <td>DISTRIBUTOR_CR</td>\n",
       "      <td>A01A</td>\n",
       "      <td>53907.0</td>\n",
       "      <td>SEPTOMIXINE</td>\n",
       "      <td>286MG/G+190000IU/G STM PST 7,5G</td>\n",
       "      <td>SPH</td>\n",
       "      <td>F</td>\n",
       "      <td>D</td>\n",
       "      <td>15.0</td>\n",
       "      <td>NaN</td>\n",
       "      <td>NaN</td>\n",
       "      <td>NaN</td>\n",
       "      <td>NaN</td>\n",
       "      <td>R</td>\n",
       "    </tr>\n",
       "    <tr>\n",
       "      <th>1</th>\n",
       "      <td>2018.01</td>\n",
       "      <td>LEKARNA</td>\n",
       "      <td>A01A</td>\n",
       "      <td>53907.0</td>\n",
       "      <td>SEPTOMIXINE</td>\n",
       "      <td>286MG/G+190000IU/G STM PST 7,5G</td>\n",
       "      <td>SPH</td>\n",
       "      <td>F</td>\n",
       "      <td>D</td>\n",
       "      <td>53.0</td>\n",
       "      <td>1157.554340</td>\n",
       "      <td>61350.38</td>\n",
       "      <td>NaN</td>\n",
       "      <td>NaN</td>\n",
       "      <td>R</td>\n",
       "    </tr>\n",
       "    <tr>\n",
       "      <th>2</th>\n",
       "      <td>2018.01</td>\n",
       "      <td>DISTRIBUTOR_CR</td>\n",
       "      <td>A01AA01</td>\n",
       "      <td>208774.0</td>\n",
       "      <td>ZYMAFLUOR</td>\n",
       "      <td>0,25MG TBL NOB 200</td>\n",
       "      <td>MHS</td>\n",
       "      <td>CZ</td>\n",
       "      <td>D</td>\n",
       "      <td>2359.0</td>\n",
       "      <td>NaN</td>\n",
       "      <td>NaN</td>\n",
       "      <td>100.0</td>\n",
       "      <td>235900.0</td>\n",
       "      <td>F</td>\n",
       "    </tr>\n",
       "    <tr>\n",
       "      <th>3</th>\n",
       "      <td>2018.01</td>\n",
       "      <td>LEKARNA</td>\n",
       "      <td>A01AA01</td>\n",
       "      <td>208774.0</td>\n",
       "      <td>ZYMAFLUOR</td>\n",
       "      <td>0,25MG TBL NOB 200</td>\n",
       "      <td>MHS</td>\n",
       "      <td>CZ</td>\n",
       "      <td>D</td>\n",
       "      <td>1715.0</td>\n",
       "      <td>94.806134</td>\n",
       "      <td>162592.52</td>\n",
       "      <td>100.0</td>\n",
       "      <td>171500.0</td>\n",
       "      <td>F</td>\n",
       "    </tr>\n",
       "    <tr>\n",
       "      <th>4</th>\n",
       "      <td>2018.01</td>\n",
       "      <td>LEKARNA</td>\n",
       "      <td>A01AA01</td>\n",
       "      <td>208774.0</td>\n",
       "      <td>ZYMAFLUOR</td>\n",
       "      <td>0,25MG TBL NOB 200</td>\n",
       "      <td>MHS</td>\n",
       "      <td>CZ</td>\n",
       "      <td>V</td>\n",
       "      <td>-8.0</td>\n",
       "      <td>94.800000</td>\n",
       "      <td>-758.40</td>\n",
       "      <td>100.0</td>\n",
       "      <td>-800.0</td>\n",
       "      <td>F</td>\n",
       "    </tr>\n",
       "  </tbody>\n",
       "</table>\n",
       "</div>"
      ],
      "text/plain": [
       "    Období  Typ odběratele     ATC7  Kód SÚKL Název přípravku  \\\n",
       "0  2018.01  DISTRIBUTOR_CR     A01A   53907.0     SEPTOMIXINE   \n",
       "1  2018.01         LEKARNA     A01A   53907.0     SEPTOMIXINE   \n",
       "2  2018.01  DISTRIBUTOR_CR  A01AA01  208774.0       ZYMAFLUOR   \n",
       "3  2018.01         LEKARNA  A01AA01  208774.0       ZYMAFLUOR   \n",
       "4  2018.01         LEKARNA  A01AA01  208774.0       ZYMAFLUOR   \n",
       "\n",
       "                     Doplněk názvu Držitel registračního rozhodnutí Země  \\\n",
       "0  286MG/G+190000IU/G STM PST 7,5G                              SPH    F   \n",
       "1  286MG/G+190000IU/G STM PST 7,5G                              SPH    F   \n",
       "2               0,25MG TBL NOB 200                              MHS   CZ   \n",
       "3               0,25MG TBL NOB 200                              MHS   CZ   \n",
       "4               0,25MG TBL NOB 200                              MHS   CZ   \n",
       "\n",
       "  Typ pohybu  Počet balení/M  Cena za balení bez obch. přirážky a DPH  \\\n",
       "0          D            15.0                                      NaN   \n",
       "1          D            53.0                              1157.554340   \n",
       "2          D          2359.0                                      NaN   \n",
       "3          D          1715.0                                94.806134   \n",
       "4          V            -8.0                                94.800000   \n",
       "\n",
       "   Celkem finance za všechna balení bez obch. přirážky a DPH  \\\n",
       "0                                                NaN           \n",
       "1                                           61350.38           \n",
       "2                                                NaN           \n",
       "3                                          162592.52           \n",
       "4                                            -758.40           \n",
       "\n",
       "   Počet definovaných denních dávek/balení  \\\n",
       "0                                      NaN   \n",
       "1                                      NaN   \n",
       "2                                    100.0   \n",
       "3                                    100.0   \n",
       "4                                    100.0   \n",
       "\n",
       "   Počet denních definovaných dávek/balení celkem Způsob výdeje  \n",
       "0                                             NaN             R  \n",
       "1                                             NaN             R  \n",
       "2                                        235900.0             F  \n",
       "3                                        171500.0             F  \n",
       "4                                          -800.0             F  "
      ]
     },
     "execution_count": 10,
     "metadata": {},
     "output_type": "execute_result"
    }
   ],
   "source": [
    "for i in range(1, len(our_files)):\n",
    "    our_files[i] = pd.concat([our_files[i-1], our_files[i]], ignore_index = True)\n",
    "year_2018 = our_files[i]\n",
    "year_2018.head()"
   ]
  },
  {
   "cell_type": "markdown",
   "metadata": {},
   "source": [
    "Zkontrolujeme, jestli je počet řádků stejný, jako v \"sum(number_of_rows)\", což dělá 72154 řádků pro rok 2018"
   ]
  },
  {
   "cell_type": "code",
   "execution_count": 11,
   "metadata": {},
   "outputs": [
    {
     "data": {
      "text/plain": [
       "(72154, 15)"
      ]
     },
     "execution_count": 11,
     "metadata": {},
     "output_type": "execute_result"
    }
   ],
   "source": [
    "year_2018.shape"
   ]
  },
  {
   "cell_type": "markdown",
   "metadata": {},
   "source": [
    "##### Hurá! Tuto část máme hotovou. Stejným způsobem tak můžeme vytvořit tabulky \"year_2017\" až po \"year_2011\":"
   ]
  },
  {
   "cell_type": "code",
   "execution_count": 12,
   "metadata": {},
   "outputs": [],
   "source": [
    "year_2018.to_csv('years/year_2018.csv',  encoding='utf-8')"
   ]
  },
  {
   "cell_type": "markdown",
   "metadata": {},
   "source": [
    "Až budeme mít hotovou tabulku za každý rok, spojíme je jedním příkazem dohromady."
   ]
  }
 ],
 "metadata": {
  "kernelspec": {
   "display_name": "Python 3",
   "language": "python",
   "name": "python3"
  },
  "language_info": {
   "codemirror_mode": {
    "name": "ipython",
    "version": 3
   },
   "file_extension": ".py",
   "mimetype": "text/x-python",
   "name": "python",
   "nbconvert_exporter": "python",
   "pygments_lexer": "ipython3",
   "version": "3.6.4"
  }
 },
 "nbformat": 4,
 "nbformat_minor": 2
}
