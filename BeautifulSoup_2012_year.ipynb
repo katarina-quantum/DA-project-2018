{
 "cells": [
  {
   "cell_type": "markdown",
   "metadata": {},
   "source": [
    "##### Začneme tím, že na-import-ujeme knihovny:"
   ]
  },
  {
   "cell_type": "code",
   "execution_count": 1,
   "metadata": {},
   "outputs": [],
   "source": [
    "import pandas as pd\n",
    "import numpy as np\n",
    "from bs4 import BeautifulSoup\n",
    "import requests"
   ]
  },
  {
   "cell_type": "markdown",
   "metadata": {},
   "source": [
    "##### Začneme stahování od roku 2018 a postupně budeme přidávat starší soubory."
   ]
  },
  {
   "cell_type": "code",
   "execution_count": 2,
   "metadata": {},
   "outputs": [],
   "source": [
    "response = requests.get('http://www.sukl.cz/2012')"
   ]
  },
  {
   "cell_type": "code",
   "execution_count": 3,
   "metadata": {},
   "outputs": [],
   "source": [
    "soup = BeautifulSoup(response.text, \"lxml\")"
   ]
  },
  {
   "cell_type": "markdown",
   "metadata": {},
   "source": [
    "Odkazy v HTML se začínají písmenkem a mají atribut \"href\".  Zároveň při prvním pohledu na stránku http://www.sukl.cz/2018 vidíme, že názvy složek, které potřebujeme se začínají slovem \"Distribuce\":"
   ]
  },
  {
   "cell_type": "code",
   "execution_count": 4,
   "metadata": {},
   "outputs": [],
   "source": [
    "links = soup.find_all('a')"
   ]
  },
  {
   "cell_type": "code",
   "execution_count": 5,
   "metadata": {},
   "outputs": [
    {
     "name": "stdout",
     "output_type": "stream",
     "text": [
      "http://www.sukl.cz/file/74315_1_1\n",
      "http://www.sukl.cz/file/74314_1_1\n",
      "http://www.sukl.cz/file/74313_1_1\n",
      "http://www.sukl.cz/file/74312_1_1\n",
      "http://www.sukl.cz/file/74311_1_1\n",
      "http://www.sukl.cz/file/74310_1_1\n",
      "http://www.sukl.cz/file/74309_1_1\n",
      "http://www.sukl.cz/file/74308_1_1\n",
      "http://www.sukl.cz/file/74307_1_1\n",
      "http://www.sukl.cz/file/74306_1_1\n",
      "http://www.sukl.cz/file/74305_1_1\n",
      "http://www.sukl.cz/file/76216_1_1\n"
     ]
    }
   ],
   "source": [
    "for slovo in links:\n",
    "    \n",
    "    if slovo.text.startswith('DistribuceLP_'):\n",
    "        x ='http://www.sukl.cz' + slovo.attrs['href'] #Po několika pokusů jsme zjistily, že potřebujeme přidat 'http://www.sukl.cz'\n",
    "        print(x) #Vytiskneme každý odkaz, abychom mohly prověřit, jestli opravdu fungují"
   ]
  },
  {
   "cell_type": "markdown",
   "metadata": {},
   "source": [
    "##### Vytvoříme seznam a nahrajeme do toho naší odkazy:"
   ]
  },
  {
   "cell_type": "code",
   "execution_count": 6,
   "metadata": {},
   "outputs": [
    {
     "name": "stdout",
     "output_type": "stream",
     "text": [
      "['http://www.sukl.cz/file/74315_1_1', 'http://www.sukl.cz/file/74314_1_1', 'http://www.sukl.cz/file/74313_1_1', 'http://www.sukl.cz/file/74312_1_1', 'http://www.sukl.cz/file/74311_1_1', 'http://www.sukl.cz/file/74310_1_1', 'http://www.sukl.cz/file/74309_1_1', 'http://www.sukl.cz/file/74308_1_1', 'http://www.sukl.cz/file/74307_1_1', 'http://www.sukl.cz/file/74306_1_1', 'http://www.sukl.cz/file/74305_1_1', 'http://www.sukl.cz/file/76216_1_1']\n"
     ]
    }
   ],
   "source": [
    "our_list = ['']\n",
    "i = 0\n",
    "for slovo in links:\n",
    "    if slovo.text.startswith('DistribuceLP_'):\n",
    "        x ='http://www.sukl.cz' + slovo.attrs['href']\n",
    "        if i == 0:\n",
    "            our_list[i] = x\n",
    "        else:\n",
    "            our_list.append(x)\n",
    "        i+=1\n",
    "print(our_list)"
   ]
  },
  {
   "cell_type": "markdown",
   "metadata": {},
   "source": [
    "##### Vytvoříme seznam \"our_files\", do kterého nahrajeme každý ze souboru s pomocí seznamu odkazů:"
   ]
  },
  {
   "cell_type": "code",
   "execution_count": 7,
   "metadata": {},
   "outputs": [],
   "source": [
    "our_files = [ pd.read_excel(x, encoding='utf-8') for x in our_list ]"
   ]
  },
  {
   "cell_type": "code",
   "execution_count": 8,
   "metadata": {},
   "outputs": [],
   "source": [
    "our_filesX = our_files"
   ]
  },
  {
   "cell_type": "markdown",
   "metadata": {},
   "source": [
    "##### Abychom mohly prověřit, jestli všechno je správně, vypišeme počet řádků v každém že souborů a pak součet:"
   ]
  },
  {
   "cell_type": "code",
   "execution_count": 9,
   "metadata": {},
   "outputs": [
    {
     "data": {
      "text/plain": [
       "[22656,\n",
       " 22815,\n",
       " 23021,\n",
       " 22629,\n",
       " 23175,\n",
       " 23136,\n",
       " 23041,\n",
       " 23248,\n",
       " 23115,\n",
       " 24088,\n",
       " 24212,\n",
       " 23370]"
      ]
     },
     "execution_count": 9,
     "metadata": {},
     "output_type": "execute_result"
    }
   ],
   "source": [
    "number_of_rows =[0]*12 #budeme používat seznam obsahující 12 čísel (protože 12 měsíců)\n",
    "\n",
    "for i in range(0, len(our_files)):\n",
    "    number_of_rows[i] = our_files[i].shape[0]\n",
    "number_of_rows"
   ]
  },
  {
   "cell_type": "code",
   "execution_count": 10,
   "metadata": {},
   "outputs": [
    {
     "data": {
      "text/plain": [
       "278506"
      ]
     },
     "execution_count": 10,
     "metadata": {},
     "output_type": "execute_result"
    }
   ],
   "source": [
    "sum(number_of_rows) "
   ]
  },
  {
   "cell_type": "markdown",
   "metadata": {},
   "source": [
    "### Vsimly jsme si, ze tabulky pro rok 2011 a 2012 nemaji prvni sloupec \"Obdobi\" a proto pridame ten sloupec ke kazde z tabulek. Abychom zachovaly stejné netradiční formát datumu, vyplnily ten sloupec jako “201x.MM”, kde x značí rok 1 (2011) nebo 2 (2012) a MM značí měsíc. "
   ]
  },
  {
   "cell_type": "markdown",
   "metadata": {},
   "source": [
    "Abychom zachovaly stejné netradiční formát datumu, přidaly jsme do tabulek sloupec a vyplnily ho jako “201x.MM”, kde x značí rok 2011 nebo 2012 a MM značí měsíc. Pro vyplnění období uvnitř cyklu jsme použily metodu “.format”, která automaticky doplňovala číslo měsíců. (Pozn.: Chtěly jsme prvně spojit tabulky a následně až řešit problém špatného formátu.)"
   ]
  },
  {
   "cell_type": "code",
   "execution_count": 11,
   "metadata": {},
   "outputs": [],
   "source": [
    "for i in range(0, len(our_files)):\n",
    "    our_files[i].insert(loc=0, column='Období', value='2012.{:02d}'.format(i+1))"
   ]
  },
  {
   "cell_type": "markdown",
   "metadata": {},
   "source": [
    "##### Teď konečně spojíme složky. Víme, že mají stejnou strukturu (počet a názvy sloupců), proto nahrajeme soubory jeden za druhým. Budeme postupovat podle vzoru:"
   ]
  },
  {
   "cell_type": "markdown",
   "metadata": {},
   "source": [
    "year_201x = pd.concat([our_files[0], our_files[1], \"a tak dale\" ], ignore_index = True), kde x je 2012 anebo 2012"
   ]
  },
  {
   "cell_type": "code",
   "execution_count": 12,
   "metadata": {},
   "outputs": [
    {
     "data": {
      "text/html": [
       "<div>\n",
       "<style scoped>\n",
       "    .dataframe tbody tr th:only-of-type {\n",
       "        vertical-align: middle;\n",
       "    }\n",
       "\n",
       "    .dataframe tbody tr th {\n",
       "        vertical-align: top;\n",
       "    }\n",
       "\n",
       "    .dataframe thead th {\n",
       "        text-align: right;\n",
       "    }\n",
       "</style>\n",
       "<table border=\"1\" class=\"dataframe\">\n",
       "  <thead>\n",
       "    <tr style=\"text-align: right;\">\n",
       "      <th></th>\n",
       "      <th>Období</th>\n",
       "      <th>Typ odběratele</th>\n",
       "      <th>ATC</th>\n",
       "      <th>Kód SÚKL</th>\n",
       "      <th>Název přípravku</th>\n",
       "      <th>Doplněk názvu</th>\n",
       "      <th>Držitel registračního rozhodnutí</th>\n",
       "      <th>Země</th>\n",
       "      <th>Typ pohybu</th>\n",
       "      <th>Počet balení/M</th>\n",
       "      <th>Cena za balení bez obch. přirážky a DPH</th>\n",
       "      <th>Celkem finance za všechna balení bez obch. přirážky a DPH</th>\n",
       "      <th>Počet denních definovaných dávek/ balení</th>\n",
       "      <th>Počet denních definovaných dávek/balení celkem</th>\n",
       "      <th>Způsob výdeje</th>\n",
       "    </tr>\n",
       "  </thead>\n",
       "  <tbody>\n",
       "    <tr>\n",
       "      <th>0</th>\n",
       "      <td>2012.01</td>\n",
       "      <td>LEKARNA</td>\n",
       "      <td>A01A</td>\n",
       "      <td>53907</td>\n",
       "      <td>SEPTOMIXINE</td>\n",
       "      <td>STM PST 1X7.5GM</td>\n",
       "      <td>SPH</td>\n",
       "      <td>F</td>\n",
       "      <td>D</td>\n",
       "      <td>49</td>\n",
       "      <td>897.26</td>\n",
       "      <td>43965.74</td>\n",
       "      <td>NaN</td>\n",
       "      <td>NaN</td>\n",
       "      <td>R</td>\n",
       "    </tr>\n",
       "    <tr>\n",
       "      <th>1</th>\n",
       "      <td>2012.01</td>\n",
       "      <td>DISTRIBUTOR_CR</td>\n",
       "      <td>A01AA01</td>\n",
       "      <td>211</td>\n",
       "      <td>NATRIUM FLUORATUM SLOVAKOFARMA</td>\n",
       "      <td>POR TBL NOB 250X0.55MG</td>\n",
       "      <td>ZEH</td>\n",
       "      <td>SK</td>\n",
       "      <td>D</td>\n",
       "      <td>2839</td>\n",
       "      <td>NaN</td>\n",
       "      <td>NaN</td>\n",
       "      <td>125.0</td>\n",
       "      <td>354875.0</td>\n",
       "      <td>F</td>\n",
       "    </tr>\n",
       "    <tr>\n",
       "      <th>2</th>\n",
       "      <td>2012.01</td>\n",
       "      <td>LEKARNA</td>\n",
       "      <td>A01AA01</td>\n",
       "      <td>211</td>\n",
       "      <td>NATRIUM FLUORATUM SLOVAKOFARMA</td>\n",
       "      <td>POR TBL NOB 250X0.55MG</td>\n",
       "      <td>ZEH</td>\n",
       "      <td>SK</td>\n",
       "      <td>D</td>\n",
       "      <td>2853</td>\n",
       "      <td>60.79</td>\n",
       "      <td>173433.87</td>\n",
       "      <td>125.0</td>\n",
       "      <td>356625.0</td>\n",
       "      <td>F</td>\n",
       "    </tr>\n",
       "    <tr>\n",
       "      <th>3</th>\n",
       "      <td>2012.01</td>\n",
       "      <td>LEKARNA</td>\n",
       "      <td>A01AA01</td>\n",
       "      <td>211</td>\n",
       "      <td>NATRIUM FLUORATUM SLOVAKOFARMA</td>\n",
       "      <td>POR TBL NOB 250X0.55MG</td>\n",
       "      <td>ZEH</td>\n",
       "      <td>SK</td>\n",
       "      <td>V</td>\n",
       "      <td>-28</td>\n",
       "      <td>60.79</td>\n",
       "      <td>-1702.12</td>\n",
       "      <td>125.0</td>\n",
       "      <td>-3500.0</td>\n",
       "      <td>F</td>\n",
       "    </tr>\n",
       "    <tr>\n",
       "      <th>4</th>\n",
       "      <td>2012.01</td>\n",
       "      <td>VETERINARNI_LEKAR</td>\n",
       "      <td>A01AA01</td>\n",
       "      <td>211</td>\n",
       "      <td>NATRIUM FLUORATUM SLOVAKOFARMA</td>\n",
       "      <td>POR TBL NOB 250X0.55MG</td>\n",
       "      <td>ZEH</td>\n",
       "      <td>SK</td>\n",
       "      <td>D</td>\n",
       "      <td>4</td>\n",
       "      <td>60.79</td>\n",
       "      <td>243.16</td>\n",
       "      <td>125.0</td>\n",
       "      <td>500.0</td>\n",
       "      <td>F</td>\n",
       "    </tr>\n",
       "  </tbody>\n",
       "</table>\n",
       "</div>"
      ],
      "text/plain": [
       "    Období     Typ odběratele      ATC  Kód SÚKL  \\\n",
       "0  2012.01            LEKARNA     A01A     53907   \n",
       "1  2012.01     DISTRIBUTOR_CR  A01AA01       211   \n",
       "2  2012.01            LEKARNA  A01AA01       211   \n",
       "3  2012.01            LEKARNA  A01AA01       211   \n",
       "4  2012.01  VETERINARNI_LEKAR  A01AA01       211   \n",
       "\n",
       "                  Název přípravku           Doplněk názvu  \\\n",
       "0                     SEPTOMIXINE         STM PST 1X7.5GM   \n",
       "1  NATRIUM FLUORATUM SLOVAKOFARMA  POR TBL NOB 250X0.55MG   \n",
       "2  NATRIUM FLUORATUM SLOVAKOFARMA  POR TBL NOB 250X0.55MG   \n",
       "3  NATRIUM FLUORATUM SLOVAKOFARMA  POR TBL NOB 250X0.55MG   \n",
       "4  NATRIUM FLUORATUM SLOVAKOFARMA  POR TBL NOB 250X0.55MG   \n",
       "\n",
       "  Držitel registračního rozhodnutí Země Typ pohybu  Počet balení/M  \\\n",
       "0                              SPH    F          D              49   \n",
       "1                              ZEH   SK          D            2839   \n",
       "2                              ZEH   SK          D            2853   \n",
       "3                              ZEH   SK          V             -28   \n",
       "4                              ZEH   SK          D               4   \n",
       "\n",
       "   Cena za balení bez obch. přirážky a DPH  \\\n",
       "0                                   897.26   \n",
       "1                                      NaN   \n",
       "2                                    60.79   \n",
       "3                                    60.79   \n",
       "4                                    60.79   \n",
       "\n",
       "   Celkem finance za všechna balení bez obch. přirážky a DPH  \\\n",
       "0                                           43965.74           \n",
       "1                                                NaN           \n",
       "2                                          173433.87           \n",
       "3                                           -1702.12           \n",
       "4                                             243.16           \n",
       "\n",
       "   Počet denních definovaných dávek/ balení  \\\n",
       "0                                       NaN   \n",
       "1                                     125.0   \n",
       "2                                     125.0   \n",
       "3                                     125.0   \n",
       "4                                     125.0   \n",
       "\n",
       "   Počet denních definovaných dávek/balení celkem Způsob výdeje  \n",
       "0                                             NaN             R  \n",
       "1                                        354875.0             F  \n",
       "2                                        356625.0             F  \n",
       "3                                         -3500.0             F  \n",
       "4                                           500.0             F  "
      ]
     },
     "execution_count": 12,
     "metadata": {},
     "output_type": "execute_result"
    }
   ],
   "source": [
    "for i in range(1, len(our_files)):\n",
    "    our_files[i] = pd.concat([our_files[i-1], our_files[i]], ignore_index = True)\n",
    "year_2012 = our_files[i]\n",
    "year_2012.head()"
   ]
  },
  {
   "cell_type": "markdown",
   "metadata": {},
   "source": [
    "Zkontrolujeme, jestli počet řádků je stejný, jak v \"sum(number_of_rows)\", což je 72154 pro rok 2018"
   ]
  },
  {
   "cell_type": "code",
   "execution_count": 13,
   "metadata": {},
   "outputs": [
    {
     "data": {
      "text/plain": [
       "(278506, 15)"
      ]
     },
     "execution_count": 13,
     "metadata": {},
     "output_type": "execute_result"
    }
   ],
   "source": [
    "year_2012.shape"
   ]
  },
  {
   "cell_type": "code",
   "execution_count": 14,
   "metadata": {
    "scrolled": true
   },
   "outputs": [
    {
     "data": {
      "text/html": [
       "<div>\n",
       "<style scoped>\n",
       "    .dataframe tbody tr th:only-of-type {\n",
       "        vertical-align: middle;\n",
       "    }\n",
       "\n",
       "    .dataframe tbody tr th {\n",
       "        vertical-align: top;\n",
       "    }\n",
       "\n",
       "    .dataframe thead th {\n",
       "        text-align: right;\n",
       "    }\n",
       "</style>\n",
       "<table border=\"1\" class=\"dataframe\">\n",
       "  <thead>\n",
       "    <tr style=\"text-align: right;\">\n",
       "      <th></th>\n",
       "      <th>Období</th>\n",
       "      <th>Typ odběratele</th>\n",
       "      <th>ATC</th>\n",
       "      <th>Kód SÚKL</th>\n",
       "      <th>Název přípravku</th>\n",
       "      <th>Doplněk názvu</th>\n",
       "      <th>Držitel registračního rozhodnutí</th>\n",
       "      <th>Země</th>\n",
       "      <th>Typ pohybu</th>\n",
       "      <th>Počet balení/M</th>\n",
       "      <th>Cena za balení bez obch. přirážky a DPH</th>\n",
       "      <th>Celkem finance za všechna balení bez obch. přirážky a DPH</th>\n",
       "      <th>Počet denních definovaných dávek/ balení</th>\n",
       "      <th>Počet denních definovaných dávek/balení celkem</th>\n",
       "      <th>Způsob výdeje</th>\n",
       "    </tr>\n",
       "  </thead>\n",
       "  <tbody>\n",
       "    <tr>\n",
       "      <th>278501</th>\n",
       "      <td>2012.12</td>\n",
       "      <td>LEKARNA</td>\n",
       "      <td>V12</td>\n",
       "      <td>70693</td>\n",
       "      <td>VISCUM ALBUM</td>\n",
       "      <td>POR GRA 4GM 2CH-200CH</td>\n",
       "      <td>LBN</td>\n",
       "      <td>F</td>\n",
       "      <td>D</td>\n",
       "      <td>10</td>\n",
       "      <td>54.60</td>\n",
       "      <td>546.00</td>\n",
       "      <td>NaN</td>\n",
       "      <td>NaN</td>\n",
       "      <td>R</td>\n",
       "    </tr>\n",
       "    <tr>\n",
       "      <th>278502</th>\n",
       "      <td>2012.12</td>\n",
       "      <td>LEKARNA</td>\n",
       "      <td>V12</td>\n",
       "      <td>82617</td>\n",
       "      <td>VISCUM ALBUM</td>\n",
       "      <td>POR GRA 4GM 3K-10MK</td>\n",
       "      <td>LBN</td>\n",
       "      <td>F</td>\n",
       "      <td>D</td>\n",
       "      <td>1</td>\n",
       "      <td>52.44</td>\n",
       "      <td>52.44</td>\n",
       "      <td>NaN</td>\n",
       "      <td>NaN</td>\n",
       "      <td>R</td>\n",
       "    </tr>\n",
       "    <tr>\n",
       "      <th>278503</th>\n",
       "      <td>2012.12</td>\n",
       "      <td>DISTRIBUTOR_CR</td>\n",
       "      <td>V12</td>\n",
       "      <td>72175</td>\n",
       "      <td>ZINCUM METALLICUM</td>\n",
       "      <td>POR GRA 4GM CH3-CH200</td>\n",
       "      <td>LBN</td>\n",
       "      <td>F</td>\n",
       "      <td>D</td>\n",
       "      <td>279</td>\n",
       "      <td>NaN</td>\n",
       "      <td>NaN</td>\n",
       "      <td>NaN</td>\n",
       "      <td>NaN</td>\n",
       "      <td>R</td>\n",
       "    </tr>\n",
       "    <tr>\n",
       "      <th>278504</th>\n",
       "      <td>2012.12</td>\n",
       "      <td>LEKARNA</td>\n",
       "      <td>V12</td>\n",
       "      <td>72175</td>\n",
       "      <td>ZINCUM METALLICUM</td>\n",
       "      <td>POR GRA 4GM CH3-CH200</td>\n",
       "      <td>LBN</td>\n",
       "      <td>F</td>\n",
       "      <td>D</td>\n",
       "      <td>257</td>\n",
       "      <td>54.64</td>\n",
       "      <td>14042.48</td>\n",
       "      <td>NaN</td>\n",
       "      <td>NaN</td>\n",
       "      <td>R</td>\n",
       "    </tr>\n",
       "    <tr>\n",
       "      <th>278505</th>\n",
       "      <td>2012.12</td>\n",
       "      <td>LEKARNA</td>\n",
       "      <td>V12</td>\n",
       "      <td>72175</td>\n",
       "      <td>ZINCUM METALLICUM</td>\n",
       "      <td>POR GRA 4GM CH3-CH200</td>\n",
       "      <td>LBN</td>\n",
       "      <td>F</td>\n",
       "      <td>V</td>\n",
       "      <td>-5</td>\n",
       "      <td>54.64</td>\n",
       "      <td>-273.20</td>\n",
       "      <td>NaN</td>\n",
       "      <td>NaN</td>\n",
       "      <td>R</td>\n",
       "    </tr>\n",
       "  </tbody>\n",
       "</table>\n",
       "</div>"
      ],
      "text/plain": [
       "         Období  Typ odběratele  ATC  Kód SÚKL    Název přípravku  \\\n",
       "278501  2012.12         LEKARNA  V12     70693       VISCUM ALBUM   \n",
       "278502  2012.12         LEKARNA  V12     82617       VISCUM ALBUM   \n",
       "278503  2012.12  DISTRIBUTOR_CR  V12     72175  ZINCUM METALLICUM   \n",
       "278504  2012.12         LEKARNA  V12     72175  ZINCUM METALLICUM   \n",
       "278505  2012.12         LEKARNA  V12     72175  ZINCUM METALLICUM   \n",
       "\n",
       "                Doplněk názvu Držitel registračního rozhodnutí Země  \\\n",
       "278501  POR GRA 4GM 2CH-200CH                              LBN    F   \n",
       "278502    POR GRA 4GM 3K-10MK                              LBN    F   \n",
       "278503  POR GRA 4GM CH3-CH200                              LBN    F   \n",
       "278504  POR GRA 4GM CH3-CH200                              LBN    F   \n",
       "278505  POR GRA 4GM CH3-CH200                              LBN    F   \n",
       "\n",
       "       Typ pohybu  Počet balení/M  Cena za balení bez obch. přirážky a DPH  \\\n",
       "278501          D              10                                    54.60   \n",
       "278502          D               1                                    52.44   \n",
       "278503          D             279                                      NaN   \n",
       "278504          D             257                                    54.64   \n",
       "278505          V              -5                                    54.64   \n",
       "\n",
       "        Celkem finance za všechna balení bez obch. přirážky a DPH  \\\n",
       "278501                                             546.00           \n",
       "278502                                              52.44           \n",
       "278503                                                NaN           \n",
       "278504                                           14042.48           \n",
       "278505                                            -273.20           \n",
       "\n",
       "        Počet denních definovaných dávek/ balení  \\\n",
       "278501                                       NaN   \n",
       "278502                                       NaN   \n",
       "278503                                       NaN   \n",
       "278504                                       NaN   \n",
       "278505                                       NaN   \n",
       "\n",
       "        Počet denních definovaných dávek/balení celkem Způsob výdeje  \n",
       "278501                                             NaN             R  \n",
       "278502                                             NaN             R  \n",
       "278503                                             NaN             R  \n",
       "278504                                             NaN             R  \n",
       "278505                                             NaN             R  "
      ]
     },
     "execution_count": 14,
     "metadata": {},
     "output_type": "execute_result"
    }
   ],
   "source": [
    "year_2012.tail()"
   ]
  },
  {
   "cell_type": "markdown",
   "metadata": {},
   "source": [
    "##### Hura! Ted muzeme exportovat tuto slozku:"
   ]
  },
  {
   "cell_type": "code",
   "execution_count": 15,
   "metadata": {},
   "outputs": [],
   "source": [
    "year_2012.to_csv('years/year_2012.csv', index = False, encoding='utf-8')"
   ]
  },
  {
   "cell_type": "markdown",
   "metadata": {},
   "source": [
    "###### Pro rok 2011 pouzijeme stejny postup!"
   ]
  }
 ],
 "metadata": {
  "kernelspec": {
   "display_name": "Python 3",
   "language": "python",
   "name": "python3"
  },
  "language_info": {
   "codemirror_mode": {
    "name": "ipython",
    "version": 3
   },
   "file_extension": ".py",
   "mimetype": "text/x-python",
   "name": "python",
   "nbconvert_exporter": "python",
   "pygments_lexer": "ipython3",
   "version": "3.6.4"
  }
 },
 "nbformat": 4,
 "nbformat_minor": 2
}
