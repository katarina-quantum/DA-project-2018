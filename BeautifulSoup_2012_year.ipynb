{
 "cells": [
  {
   "cell_type": "markdown",
   "metadata": {},
   "source": [
    "##### Začneme tím, že na-import-ujeme knihovny:"
   ]
  },
  {
   "cell_type": "code",
   "execution_count": 1,
   "metadata": {},
   "outputs": [],
   "source": [
    "import pandas as pd\n",
    "import numpy as np\n",
    "from bs4 import BeautifulSoup\n",
    "import requests"
   ]
  },
  {
   "cell_type": "markdown",
   "metadata": {},
   "source": [
    "##### Začneme stahování od roku 2018 a postupně budeme přidávat starší soubory."
   ]
  },
  {
   "cell_type": "code",
   "execution_count": 2,
   "metadata": {},
   "outputs": [],
   "source": [
    "response = requests.get('http://www.sukl.cz/2012')"
   ]
  },
  {
   "cell_type": "code",
   "execution_count": 3,
   "metadata": {},
   "outputs": [],
   "source": [
    "soup = BeautifulSoup(response.text, \"lxml\")"
   ]
  },
  {
   "cell_type": "markdown",
   "metadata": {},
   "source": [
    "Odkazy v HTML se začínají písmenkem a mají atribut \"href\".  Zároveň při prvním pohledu na stránku http://www.sukl.cz/2018 vidíme, že názvy složek, které potřebujeme se začínají slovem \"Distribuce\":"
   ]
  },
  {
   "cell_type": "code",
   "execution_count": 4,
   "metadata": {},
   "outputs": [],
   "source": [
    "links = soup.find_all('a')"
   ]
  },
  {
   "cell_type": "code",
   "execution_count": 5,
   "metadata": {},
   "outputs": [
    {
     "name": "stdout",
     "output_type": "stream",
     "text": [
      "http://www.sukl.cz/file/74315_1_1\n",
      "http://www.sukl.cz/file/74314_1_1\n",
      "http://www.sukl.cz/file/74313_1_1\n",
      "http://www.sukl.cz/file/74312_1_1\n",
      "http://www.sukl.cz/file/74311_1_1\n",
      "http://www.sukl.cz/file/74310_1_1\n",
      "http://www.sukl.cz/file/74309_1_1\n",
      "http://www.sukl.cz/file/74308_1_1\n",
      "http://www.sukl.cz/file/74307_1_1\n",
      "http://www.sukl.cz/file/74306_1_1\n",
      "http://www.sukl.cz/file/74305_1_1\n",
      "http://www.sukl.cz/file/76216_1_1\n"
     ]
    }
   ],
   "source": [
    "for slovo in links:\n",
    "    \n",
    "    if slovo.text.startswith('DistribuceLP_'):\n",
    "        x ='http://www.sukl.cz' + slovo.attrs['href'] #Po několika pokusů jsme zjistily, že potřebujeme přidat 'http://www.sukl.cz'\n",
    "        print(x) #Vytiskneme každý odkaz, abychom mohly prověřit, jestli opravdu fungují"
   ]
  },
  {
   "cell_type": "markdown",
   "metadata": {},
   "source": [
    "##### Vytvoříme seznam a nahrajeme do toho naší odkazy:"
   ]
  },
  {
   "cell_type": "code",
   "execution_count": null,
   "metadata": {},
   "outputs": [
    {
     "name": "stdout",
     "output_type": "stream",
     "text": [
      "['http://www.sukl.cz/file/74315_1_1', 'http://www.sukl.cz/file/74314_1_1', 'http://www.sukl.cz/file/74313_1_1', 'http://www.sukl.cz/file/74312_1_1', 'http://www.sukl.cz/file/74311_1_1', 'http://www.sukl.cz/file/74310_1_1', 'http://www.sukl.cz/file/74309_1_1', 'http://www.sukl.cz/file/74308_1_1', 'http://www.sukl.cz/file/74307_1_1', 'http://www.sukl.cz/file/74306_1_1', 'http://www.sukl.cz/file/74305_1_1', 'http://www.sukl.cz/file/76216_1_1']\n"
     ]
    }
   ],
   "source": [
    "our_list = ['']\n",
    "i = 0\n",
    "for slovo in links:\n",
    "    if slovo.text.startswith('DistribuceLP_'):\n",
    "        x ='http://www.sukl.cz' + slovo.attrs['href']\n",
    "        if i == 0:\n",
    "            our_list[i] = x\n",
    "        else:\n",
    "            our_list.append(x)\n",
    "        i+=1\n",
    "print(our_list)"
   ]
  },
  {
   "cell_type": "markdown",
   "metadata": {},
   "source": [
    "##### Vytvoříme seznam \"our_files\", do kterého nahrajeme každý ze souboru s pomocí seznamu odkazů:"
   ]
  },
  {
   "cell_type": "code",
   "execution_count": null,
   "metadata": {},
   "outputs": [],
   "source": [
    "our_files = [ pd.read_excel(x, encoding='utf-8') for x in our_list ]"
   ]
  },
  {
   "cell_type": "code",
   "execution_count": null,
   "metadata": {},
   "outputs": [],
   "source": [
    "our_filesX = our_files"
   ]
  },
  {
   "cell_type": "markdown",
   "metadata": {},
   "source": [
    "##### Abychom mohly prověřit, jestli všechno je správně, vypišeme počet řádků v každém že souborů a pak součet:"
   ]
  },
  {
   "cell_type": "code",
   "execution_count": null,
   "metadata": {},
   "outputs": [],
   "source": [
    "number_of_rows =[0]*12 #budeme používat seznam obsahující 12 čísel (protože 12 měsíců)\n",
    "\n",
    "for i in range(0, len(our_files)):\n",
    "    number_of_rows[i] = our_files[i].shape[0]\n",
    "number_of_rows"
   ]
  },
  {
   "cell_type": "code",
   "execution_count": null,
   "metadata": {},
   "outputs": [],
   "source": [
    "sum(number_of_rows) "
   ]
  },
  {
   "cell_type": "markdown",
   "metadata": {},
   "source": [
    "### Vsimly jsme si, ze tabulky pro rok 2011 a 2012 nemaji prvni sloupec \"Obdobi\" a proto pridame ten sloupec ke kazde z tabulek. Abychom zachovaly stejné netradiční formát datumu, vyplnily ten sloupec jako “201x.MM”, kde x značí rok 1 (2011) nebo 2 (2012) a MM značí měsíc. "
   ]
  },
  {
   "cell_type": "markdown",
   "metadata": {},
   "source": [
    "Abychom zachovaly stejné netradiční formát datumu, přidaly jsme do tabulek sloupec a vyplnily ho jako “201x.MM”, kde x značí rok 2011 nebo 2012 a MM značí měsíc. Pro vyplnění období uvnitř cyklu jsme použily metodu “.format”, která automaticky doplňovala číslo měsíců. (Pozn.: Chtěly jsme prvně spojit tabulky a následně až řešit problém špatného formátu.)"
   ]
  },
  {
   "cell_type": "code",
   "execution_count": null,
   "metadata": {},
   "outputs": [],
   "source": [
    "for i in range(0, len(our_files)):\n",
    "    our_files[i].insert(loc=0, column='Období', value='2012.{:02d}'.format(i+1))"
   ]
  },
  {
   "cell_type": "markdown",
   "metadata": {},
   "source": [
    "##### Teď konečně spojíme složky. Víme, že mají stejnou strukturu (počet a názvy sloupců), proto nahrajeme soubory jeden za druhým. Budeme postupovat podle vzoru:"
   ]
  },
  {
   "cell_type": "markdown",
   "metadata": {},
   "source": [
    "year_201x = pd.concat([our_files[0], our_files[1], \"a tak dale\" ], ignore_index = True), kde x je 2012 anebo 2012"
   ]
  },
  {
   "cell_type": "code",
   "execution_count": null,
   "metadata": {},
   "outputs": [],
   "source": [
    "for i in range(1, len(our_files)):\n",
    "    our_files[i] = pd.concat([our_files[i-1], our_files[i]], ignore_index = True)\n",
    "year_2012 = our_files[i]\n",
    "year_2012.head()"
   ]
  },
  {
   "cell_type": "markdown",
   "metadata": {},
   "source": [
    "Zkontrolujeme, jestli počet řádků je stejný, jak v \"sum(number_of_rows)\", což je 72154 pro rok 2018"
   ]
  },
  {
   "cell_type": "code",
   "execution_count": null,
   "metadata": {},
   "outputs": [],
   "source": [
    "year_2012.shape"
   ]
  },
  {
   "cell_type": "code",
   "execution_count": null,
   "metadata": {
    "scrolled": true
   },
   "outputs": [],
   "source": [
    "year_2012.tail()"
   ]
  },
  {
   "cell_type": "markdown",
   "metadata": {},
   "source": [
    "##### Hura! Ted muzeme exportovat tuto slozku:"
   ]
  },
  {
   "cell_type": "code",
   "execution_count": null,
   "metadata": {},
   "outputs": [],
   "source": [
    "year_2012.to_csv('years/year_2012.csv', index = False, encoding='utf-8')"
   ]
  },
  {
   "cell_type": "markdown",
   "metadata": {},
   "source": [
    "###### Pro rok 2011 pouzijeme stejny postup!"
   ]
  }
 ],
 "metadata": {
  "kernelspec": {
   "display_name": "Python 3",
   "language": "python",
   "name": "python3"
  },
  "language_info": {
   "codemirror_mode": {
    "name": "ipython",
    "version": 3
   },
   "file_extension": ".py",
   "mimetype": "text/x-python",
   "name": "python",
   "nbconvert_exporter": "python",
   "pygments_lexer": "ipython3",
   "version": "3.6.4"
  }
 },
 "nbformat": 4,
 "nbformat_minor": 2
}
