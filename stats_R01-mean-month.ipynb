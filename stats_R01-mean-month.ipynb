{
 "cells": [
  {
   "cell_type": "code",
   "execution_count": 1,
   "metadata": {},
   "outputs": [],
   "source": [
    "import pandas as pd\n",
    "import numpy as np"
   ]
  },
  {
   "cell_type": "code",
   "execution_count": 2,
   "metadata": {
    "scrolled": true
   },
   "outputs": [
    {
     "data": {
      "text/html": [
       "<div>\n",
       "<style scoped>\n",
       "    .dataframe tbody tr th:only-of-type {\n",
       "        vertical-align: middle;\n",
       "    }\n",
       "\n",
       "    .dataframe tbody tr th {\n",
       "        vertical-align: top;\n",
       "    }\n",
       "\n",
       "    .dataframe thead th {\n",
       "        text-align: right;\n",
       "    }\n",
       "</style>\n",
       "<table border=\"1\" class=\"dataframe\">\n",
       "  <thead>\n",
       "    <tr style=\"text-align: right;\">\n",
       "      <th></th>\n",
       "      <th>Období</th>\n",
       "      <th>Typ odběratele</th>\n",
       "      <th>ATC7</th>\n",
       "      <th>Kód SÚKL</th>\n",
       "      <th>Název přípravku</th>\n",
       "      <th>Doplněk názvu</th>\n",
       "      <th>Držitel registračního rozhodnutí</th>\n",
       "      <th>Země</th>\n",
       "      <th>Typ pohybu</th>\n",
       "      <th>Počet balení/M</th>\n",
       "      <th>Cena za balení bez obch. přirážky a DPH</th>\n",
       "      <th>Celkem finance za všechna balení bez obch. přirážky a DPH</th>\n",
       "      <th>Počet definovaných denních dávek/balení</th>\n",
       "      <th>Počet denních definovaných dávek/balení celkem</th>\n",
       "      <th>Způsob výdeje</th>\n",
       "    </tr>\n",
       "  </thead>\n",
       "  <tbody>\n",
       "    <tr>\n",
       "      <th>0</th>\n",
       "      <td>2011-01-01</td>\n",
       "      <td>LEKAR</td>\n",
       "      <td>M01AE01</td>\n",
       "      <td>125526.0</td>\n",
       "      <td>APO-IBUPROFEN 400 MG</td>\n",
       "      <td>POR TBL FLM 100X400MG</td>\n",
       "      <td>ATX</td>\n",
       "      <td>NL</td>\n",
       "      <td>D</td>\n",
       "      <td>10.0</td>\n",
       "      <td>82.83</td>\n",
       "      <td>828.3</td>\n",
       "      <td>33.3333</td>\n",
       "      <td>333.0</td>\n",
       "      <td>F</td>\n",
       "    </tr>\n",
       "    <tr>\n",
       "      <th>1</th>\n",
       "      <td>2011-01-01</td>\n",
       "      <td>LEKARNA</td>\n",
       "      <td>M01AE01</td>\n",
       "      <td>125526.0</td>\n",
       "      <td>APO-IBUPROFEN 400 MG</td>\n",
       "      <td>POR TBL FLM 100X400MG</td>\n",
       "      <td>ATX</td>\n",
       "      <td>NL</td>\n",
       "      <td>D</td>\n",
       "      <td>71070.0</td>\n",
       "      <td>82.83</td>\n",
       "      <td>5886728.1</td>\n",
       "      <td>33.3333</td>\n",
       "      <td>2368998.0</td>\n",
       "      <td>F</td>\n",
       "    </tr>\n",
       "  </tbody>\n",
       "</table>\n",
       "</div>"
      ],
      "text/plain": [
       "       Období Typ odběratele     ATC7  Kód SÚKL       Název přípravku  \\\n",
       "0  2011-01-01          LEKAR  M01AE01  125526.0  APO-IBUPROFEN 400 MG   \n",
       "1  2011-01-01        LEKARNA  M01AE01  125526.0  APO-IBUPROFEN 400 MG   \n",
       "\n",
       "           Doplněk názvu Držitel registračního rozhodnutí Země Typ pohybu  \\\n",
       "0  POR TBL FLM 100X400MG                              ATX   NL          D   \n",
       "1  POR TBL FLM 100X400MG                              ATX   NL          D   \n",
       "\n",
       "   Počet balení/M  Cena za balení bez obch. přirážky a DPH  \\\n",
       "0            10.0                                    82.83   \n",
       "1         71070.0                                    82.83   \n",
       "\n",
       "   Celkem finance za všechna balení bez obch. přirážky a DPH  \\\n",
       "0                                              828.3           \n",
       "1                                          5886728.1           \n",
       "\n",
       "   Počet definovaných denních dávek/balení  \\\n",
       "0                                  33.3333   \n",
       "1                                  33.3333   \n",
       "\n",
       "   Počet denních definovaných dávek/balení celkem Způsob výdeje  \n",
       "0                                           333.0             F  \n",
       "1                                       2368998.0             F  "
      ]
     },
     "execution_count": 2,
     "metadata": {},
     "output_type": "execute_result"
    }
   ],
   "source": [
    "soubor = pd.read_csv('clean_data_years_filter.csv',  encoding='utf-8')\n",
    "soubor.head(2)"
   ]
  },
  {
   "cell_type": "markdown",
   "metadata": {},
   "source": [
    "###### \"clean_data_years_filter.csv\" obsahuje data, kde:"
   ]
  },
  {
   "cell_type": "markdown",
   "metadata": {},
   "source": [
    "###### \"Typ odběratele\":\n",
    "'LEKARNA', 'VETERINARNI_LEKAR', 'PRODEJCE_VLP','HYGIENICKA_STANICE', 'ZDRAVOTNICKE_ZARIZENI', 'LEKAR', 'OSOBA_POSKYTUJICI_ZDRAVOTNI_PECI'"
   ]
  },
  {
   "cell_type": "markdown",
   "metadata": {},
   "source": [
    "###### Abychom nic nepokazily, vytvorime novou tabulku \"soubor1\" a přejmenujeme poslední sloupec"
   ]
  },
  {
   "cell_type": "code",
   "execution_count": 3,
   "metadata": {},
   "outputs": [],
   "source": [
    "soubor1 = soubor.loc[:,['Období', 'ATC7', 'Počet denních definovaných dávek/balení celkem']]"
   ]
  },
  {
   "cell_type": "code",
   "execution_count": 4,
   "metadata": {},
   "outputs": [
    {
     "data": {
      "text/html": [
       "<div>\n",
       "<style scoped>\n",
       "    .dataframe tbody tr th:only-of-type {\n",
       "        vertical-align: middle;\n",
       "    }\n",
       "\n",
       "    .dataframe tbody tr th {\n",
       "        vertical-align: top;\n",
       "    }\n",
       "\n",
       "    .dataframe thead th {\n",
       "        text-align: right;\n",
       "    }\n",
       "</style>\n",
       "<table border=\"1\" class=\"dataframe\">\n",
       "  <thead>\n",
       "    <tr style=\"text-align: right;\">\n",
       "      <th></th>\n",
       "      <th>Období</th>\n",
       "      <th>ATC7</th>\n",
       "      <th>DDD_total</th>\n",
       "    </tr>\n",
       "  </thead>\n",
       "  <tbody>\n",
       "    <tr>\n",
       "      <th>0</th>\n",
       "      <td>2011-01-01</td>\n",
       "      <td>M01AE01</td>\n",
       "      <td>333.0</td>\n",
       "    </tr>\n",
       "    <tr>\n",
       "      <th>1</th>\n",
       "      <td>2011-01-01</td>\n",
       "      <td>M01AE01</td>\n",
       "      <td>2368998.0</td>\n",
       "    </tr>\n",
       "    <tr>\n",
       "      <th>2</th>\n",
       "      <td>2011-01-01</td>\n",
       "      <td>M01AE01</td>\n",
       "      <td>-45533.0</td>\n",
       "    </tr>\n",
       "    <tr>\n",
       "      <th>3</th>\n",
       "      <td>2011-01-01</td>\n",
       "      <td>M01AE01</td>\n",
       "      <td>600.0</td>\n",
       "    </tr>\n",
       "    <tr>\n",
       "      <th>4</th>\n",
       "      <td>2011-01-01</td>\n",
       "      <td>M01AE01</td>\n",
       "      <td>20.0</td>\n",
       "    </tr>\n",
       "  </tbody>\n",
       "</table>\n",
       "</div>"
      ],
      "text/plain": [
       "       Období     ATC7  DDD_total\n",
       "0  2011-01-01  M01AE01      333.0\n",
       "1  2011-01-01  M01AE01  2368998.0\n",
       "2  2011-01-01  M01AE01   -45533.0\n",
       "3  2011-01-01  M01AE01      600.0\n",
       "4  2011-01-01  M01AE01       20.0"
      ]
     },
     "execution_count": 4,
     "metadata": {},
     "output_type": "execute_result"
    }
   ],
   "source": [
    "soubor1 = soubor1.rename(index=str, columns={'Počet denních definovaných dávek/balení celkem': 'DDD_total'})\n",
    "soubor1.head()"
   ]
  },
  {
   "cell_type": "markdown",
   "metadata": {},
   "source": [
    "### Jako další krok bylo třeba seskupit všechny léky obsahující stejnou molekulu ATC. \n",
    "Stejné ATC totiž může být základem pro různé léky. Použily jsme metodu groupby, pomocí které jsme vytvořily součet napříč jednotlivými ATC za každý měsíc. Protože k tomuto výpočtu z původních patnácti sloupců v tabulce nám vystačí tři, jsme do syntaxe zapsaly jen “Období”, “ATC” a “DDD_total”. "
   ]
  },
  {
   "cell_type": "markdown",
   "metadata": {},
   "source": [
    "### Zkusime spojit jednotlive ATC do vyssi urovni molekuly. \n",
    "\n",
    "Proto napred socteme vsechny ATC, nazev kterych se zacina s R01:\n",
    "\n",
    "Jsou:  'R01', 'R01A', 'R01AA', 'R01AA02', 'R01AA03', 'R01AA04', 'R01AA05', 'R01AA06', 'R01AA07', 'R01AA08', 'R01AA09', 'R01AA10', 'R01AA11', 'R01AA12', 'R01AA13', 'R01AA14', 'R01AA15', 'R01AB', 'R01AB01', 'R01AB02', 'R01AB03', 'R01AB05', 'R01AB06', 'R01AB07', 'R01AB08', 'R01AD', 'R01AD01', 'R01AD02', 'R01AD03', 'R01AD04', 'R01AD05', 'R01AD06', 'R01AD07', 'R01AD08','R01AD09', 'R01AD11', 'R01AD12', 'R01AD13', 'R01AD52', 'R01AD53', 'R01AD57', 'R01AD58', 'R01AD60'\n",
    "\n",
    "\n",
    "\n",
    "\n",
    "\n",
    "\n"
   ]
  },
  {
   "cell_type": "code",
   "execution_count": 5,
   "metadata": {},
   "outputs": [],
   "source": [
    "soubor_R01 = soubor1[soubor1['ATC7'].str.startswith('R01')]"
   ]
  },
  {
   "cell_type": "code",
   "execution_count": 6,
   "metadata": {},
   "outputs": [
    {
     "data": {
      "text/html": [
       "<div>\n",
       "<style scoped>\n",
       "    .dataframe tbody tr th:only-of-type {\n",
       "        vertical-align: middle;\n",
       "    }\n",
       "\n",
       "    .dataframe tbody tr th {\n",
       "        vertical-align: top;\n",
       "    }\n",
       "\n",
       "    .dataframe thead th {\n",
       "        text-align: right;\n",
       "    }\n",
       "</style>\n",
       "<table border=\"1\" class=\"dataframe\">\n",
       "  <thead>\n",
       "    <tr style=\"text-align: right;\">\n",
       "      <th></th>\n",
       "      <th>Období</th>\n",
       "      <th>ATC7</th>\n",
       "      <th>DDD_total</th>\n",
       "    </tr>\n",
       "  </thead>\n",
       "  <tbody>\n",
       "    <tr>\n",
       "      <th>87490</th>\n",
       "      <td>2018-03-01</td>\n",
       "      <td>R01AD12</td>\n",
       "      <td>60.0</td>\n",
       "    </tr>\n",
       "    <tr>\n",
       "      <th>87491</th>\n",
       "      <td>2018-03-01</td>\n",
       "      <td>R01AD58</td>\n",
       "      <td>113400.0</td>\n",
       "    </tr>\n",
       "    <tr>\n",
       "      <th>87492</th>\n",
       "      <td>2018-03-01</td>\n",
       "      <td>R01AD58</td>\n",
       "      <td>-3240.0</td>\n",
       "    </tr>\n",
       "  </tbody>\n",
       "</table>\n",
       "</div>"
      ],
      "text/plain": [
       "           Období     ATC7  DDD_total\n",
       "87490  2018-03-01  R01AD12       60.0\n",
       "87491  2018-03-01  R01AD58   113400.0\n",
       "87492  2018-03-01  R01AD58    -3240.0"
      ]
     },
     "execution_count": 6,
     "metadata": {},
     "output_type": "execute_result"
    }
   ],
   "source": [
    "soubor_R01.tail(3)"
   ]
  },
  {
   "cell_type": "code",
   "execution_count": 7,
   "metadata": {
    "scrolled": true
   },
   "outputs": [
    {
     "data": {
      "text/html": [
       "<div>\n",
       "<style scoped>\n",
       "    .dataframe tbody tr th:only-of-type {\n",
       "        vertical-align: middle;\n",
       "    }\n",
       "\n",
       "    .dataframe tbody tr th {\n",
       "        vertical-align: top;\n",
       "    }\n",
       "\n",
       "    .dataframe thead th {\n",
       "        text-align: right;\n",
       "    }\n",
       "</style>\n",
       "<table border=\"1\" class=\"dataframe\">\n",
       "  <thead>\n",
       "    <tr style=\"text-align: right;\">\n",
       "      <th></th>\n",
       "      <th>Období</th>\n",
       "      <th>DDD_total</th>\n",
       "    </tr>\n",
       "    <tr>\n",
       "      <th>Období</th>\n",
       "      <th></th>\n",
       "      <th></th>\n",
       "    </tr>\n",
       "  </thead>\n",
       "  <tbody>\n",
       "    <tr>\n",
       "      <th>2017-11-01</th>\n",
       "      <td>2017-11-01</td>\n",
       "      <td>9.822653e+06</td>\n",
       "    </tr>\n",
       "    <tr>\n",
       "      <th>2017-12-01</th>\n",
       "      <td>2017-12-01</td>\n",
       "      <td>8.598804e+06</td>\n",
       "    </tr>\n",
       "    <tr>\n",
       "      <th>2018-01-01</th>\n",
       "      <td>2018-01-01</td>\n",
       "      <td>1.149549e+07</td>\n",
       "    </tr>\n",
       "    <tr>\n",
       "      <th>2018-02-01</th>\n",
       "      <td>2018-02-01</td>\n",
       "      <td>1.104067e+07</td>\n",
       "    </tr>\n",
       "    <tr>\n",
       "      <th>2018-03-01</th>\n",
       "      <td>2018-03-01</td>\n",
       "      <td>1.269087e+07</td>\n",
       "    </tr>\n",
       "  </tbody>\n",
       "</table>\n",
       "</div>"
      ],
      "text/plain": [
       "                Období     DDD_total\n",
       "Období                              \n",
       "2017-11-01  2017-11-01  9.822653e+06\n",
       "2017-12-01  2017-12-01  8.598804e+06\n",
       "2018-01-01  2018-01-01  1.149549e+07\n",
       "2018-02-01  2018-02-01  1.104067e+07\n",
       "2018-03-01  2018-03-01  1.269087e+07"
      ]
     },
     "execution_count": 7,
     "metadata": {},
     "output_type": "execute_result"
    }
   ],
   "source": [
    "leky_R01 = soubor_R01.groupby(['Období']).agg({'Období':'first', 'DDD_total':'sum'})\n",
    "leky_R01.tail()"
   ]
  },
  {
   "cell_type": "code",
   "execution_count": 8,
   "metadata": {},
   "outputs": [],
   "source": [
    "# Exportujeme\n",
    "#leky_R01.to_csv('leky/leky_R01.csv', encoding = 'utf-8')"
   ]
  },
  {
   "cell_type": "code",
   "execution_count": 9,
   "metadata": {},
   "outputs": [],
   "source": [
    "leky_R01['Období'] = pd.to_datetime(leky_R01['Období'])"
   ]
  },
  {
   "cell_type": "code",
   "execution_count": 10,
   "metadata": {},
   "outputs": [],
   "source": [
    "leky_R01['year'] = leky_R01['Období'].dt.year.astype(np.int)"
   ]
  },
  {
   "cell_type": "code",
   "execution_count": 11,
   "metadata": {},
   "outputs": [],
   "source": [
    "leky_R01['month'] = leky_R01['Období'].dt.month.astype(np.int)"
   ]
  },
  {
   "cell_type": "code",
   "execution_count": 12,
   "metadata": {},
   "outputs": [],
   "source": [
    "leky_R01['quater'] = leky_R01['Období'].dt.quarter.astype(np.int)\n",
    "#DatetimeIndex.quarter"
   ]
  },
  {
   "cell_type": "markdown",
   "metadata": {},
   "source": [
    "#### Pro statistický model jsme potřebovaly vytvořit “trend”. Náš nejstarší rok je označen nulou a každý další je o jednotku vyšší."
   ]
  },
  {
   "cell_type": "code",
   "execution_count": 13,
   "metadata": {},
   "outputs": [],
   "source": [
    "leky_R01['trend'] = leky_R01['year']-2011"
   ]
  },
  {
   "cell_type": "code",
   "execution_count": 14,
   "metadata": {
    "scrolled": true
   },
   "outputs": [
    {
     "data": {
      "text/html": [
       "<div>\n",
       "<style scoped>\n",
       "    .dataframe tbody tr th:only-of-type {\n",
       "        vertical-align: middle;\n",
       "    }\n",
       "\n",
       "    .dataframe tbody tr th {\n",
       "        vertical-align: top;\n",
       "    }\n",
       "\n",
       "    .dataframe thead th {\n",
       "        text-align: right;\n",
       "    }\n",
       "</style>\n",
       "<table border=\"1\" class=\"dataframe\">\n",
       "  <thead>\n",
       "    <tr style=\"text-align: right;\">\n",
       "      <th></th>\n",
       "      <th>Období</th>\n",
       "      <th>DDD_total</th>\n",
       "      <th>year</th>\n",
       "      <th>month</th>\n",
       "      <th>quater</th>\n",
       "      <th>trend</th>\n",
       "    </tr>\n",
       "    <tr>\n",
       "      <th>Období</th>\n",
       "      <th></th>\n",
       "      <th></th>\n",
       "      <th></th>\n",
       "      <th></th>\n",
       "      <th></th>\n",
       "      <th></th>\n",
       "    </tr>\n",
       "  </thead>\n",
       "  <tbody>\n",
       "    <tr>\n",
       "      <th>2018-01-01</th>\n",
       "      <td>2018-01-01</td>\n",
       "      <td>11495493.90</td>\n",
       "      <td>2018</td>\n",
       "      <td>1</td>\n",
       "      <td>1</td>\n",
       "      <td>7</td>\n",
       "    </tr>\n",
       "    <tr>\n",
       "      <th>2018-02-01</th>\n",
       "      <td>2018-02-01</td>\n",
       "      <td>11040668.75</td>\n",
       "      <td>2018</td>\n",
       "      <td>2</td>\n",
       "      <td>1</td>\n",
       "      <td>7</td>\n",
       "    </tr>\n",
       "    <tr>\n",
       "      <th>2018-03-01</th>\n",
       "      <td>2018-03-01</td>\n",
       "      <td>12690870.00</td>\n",
       "      <td>2018</td>\n",
       "      <td>3</td>\n",
       "      <td>1</td>\n",
       "      <td>7</td>\n",
       "    </tr>\n",
       "  </tbody>\n",
       "</table>\n",
       "</div>"
      ],
      "text/plain": [
       "               Období    DDD_total  year  month  quater  trend\n",
       "Období                                                        \n",
       "2018-01-01 2018-01-01  11495493.90  2018      1       1      7\n",
       "2018-02-01 2018-02-01  11040668.75  2018      2       1      7\n",
       "2018-03-01 2018-03-01  12690870.00  2018      3       1      7"
      ]
     },
     "execution_count": 14,
     "metadata": {},
     "output_type": "execute_result"
    }
   ],
   "source": [
    "leky_R01.tail(3)"
   ]
  },
  {
   "cell_type": "code",
   "execution_count": 15,
   "metadata": {},
   "outputs": [
    {
     "data": {
      "text/plain": [
       "[10437746.528125001,\n",
       " 10299233.521875,\n",
       " 10575735.85625,\n",
       " 7626116.0678571435,\n",
       " 7162737.603571429,\n",
       " 7285760.649999999,\n",
       " 4824915.628571428,\n",
       " 7507567.907142857,\n",
       " 11416996.282142857,\n",
       " 9688961.346428571,\n",
       " 9189636.910714285,\n",
       " 7932277.535714285]"
      ]
     },
     "execution_count": 15,
     "metadata": {},
     "output_type": "execute_result"
    }
   ],
   "source": [
    "months = [0]*13\n",
    "\n",
    "for i in range (1,13):\n",
    "    months[i] = leky_R01['DDD_total'][leky_R01['month'] == i].mean()\n",
    "months = months[1:13]\n",
    "months"
   ]
  },
  {
   "cell_type": "code",
   "execution_count": 16,
   "metadata": {},
   "outputs": [
    {
     "data": {
      "text/plain": [
       "[1775439.3749255966,\n",
       " 1636926.3686755951,\n",
       " 1913428.7030505948,\n",
       " 1036191.085342261,\n",
       " 1499569.5496279756,\n",
       " 1376546.503199405,\n",
       " 3837391.524627976,\n",
       " 1154739.2460565474,\n",
       " 2754689.1289434526,\n",
       " 1026654.1932291668,\n",
       " 527329.757514881,\n",
       " 730029.617485119]"
      ]
     },
     "execution_count": 16,
     "metadata": {},
     "output_type": "execute_result"
    }
   ],
   "source": [
    "average = sum(months) / float(len(months)) \n",
    "rozdil = [ abs(x-average) for x in months ]\n",
    "rozdil"
   ]
  },
  {
   "cell_type": "code",
   "execution_count": 17,
   "metadata": {},
   "outputs": [
    {
     "data": {
      "text/plain": [
       "11"
      ]
     },
     "execution_count": 17,
     "metadata": {},
     "output_type": "execute_result"
    }
   ],
   "source": [
    "rozdil.index(min(rozdil))+1"
   ]
  },
  {
   "cell_type": "code",
   "execution_count": 18,
   "metadata": {
    "scrolled": true
   },
   "outputs": [
    {
     "name": "stderr",
     "output_type": "stream",
     "text": [
      "C:\\Users\\Katerina\\Anaconda3\\lib\\site-packages\\statsmodels\\compat\\pandas.py:56: FutureWarning: The pandas.core.datetools module is deprecated and will be removed in a future version. Please use the pandas.tseries module instead.\n",
      "  from pandas.core import datetools\n"
     ]
    }
   ],
   "source": [
    "import statsmodels.api as sm\n",
    "import statsmodels.formula.api as smf"
   ]
  },
  {
   "cell_type": "markdown",
   "metadata": {},
   "source": [
    "### Statistický model\n",
    "Pro použití statistického modelu jsme potřebovaly vytvořit další sloupce pro rok, měsíc a kvartál pomocí metody knihovny pandas “.to_datetime”."
   ]
  },
  {
   "cell_type": "markdown",
   "metadata": {},
   "source": [
    "Program vnímá čísla měsíců (1–12) a kvartálů (1–4) jako hodnoty, což se nedá využít pro náš stats model. Aby program nevnímal číslo měsíců a kvartálů jako hodnotu, je třeba použít binární systém jedniček a nul.\n",
    "\n",
    "### Proto použijeme metodu “.get_dummies” na sloupce “month” a “quater”."
   ]
  },
  {
   "cell_type": "code",
   "execution_count": 19,
   "metadata": {},
   "outputs": [
    {
     "data": {
      "text/html": [
       "<div>\n",
       "<style scoped>\n",
       "    .dataframe tbody tr th:only-of-type {\n",
       "        vertical-align: middle;\n",
       "    }\n",
       "\n",
       "    .dataframe tbody tr th {\n",
       "        vertical-align: top;\n",
       "    }\n",
       "\n",
       "    .dataframe thead th {\n",
       "        text-align: right;\n",
       "    }\n",
       "</style>\n",
       "<table border=\"1\" class=\"dataframe\">\n",
       "  <thead>\n",
       "    <tr style=\"text-align: right;\">\n",
       "      <th></th>\n",
       "      <th>quater_1</th>\n",
       "      <th>quater_2</th>\n",
       "      <th>quater_3</th>\n",
       "      <th>quater_4</th>\n",
       "    </tr>\n",
       "    <tr>\n",
       "      <th>Období</th>\n",
       "      <th></th>\n",
       "      <th></th>\n",
       "      <th></th>\n",
       "      <th></th>\n",
       "    </tr>\n",
       "  </thead>\n",
       "  <tbody>\n",
       "    <tr>\n",
       "      <th>2011-01-01</th>\n",
       "      <td>1</td>\n",
       "      <td>0</td>\n",
       "      <td>0</td>\n",
       "      <td>0</td>\n",
       "    </tr>\n",
       "    <tr>\n",
       "      <th>2011-02-01</th>\n",
       "      <td>1</td>\n",
       "      <td>0</td>\n",
       "      <td>0</td>\n",
       "      <td>0</td>\n",
       "    </tr>\n",
       "    <tr>\n",
       "      <th>2011-03-01</th>\n",
       "      <td>1</td>\n",
       "      <td>0</td>\n",
       "      <td>0</td>\n",
       "      <td>0</td>\n",
       "    </tr>\n",
       "    <tr>\n",
       "      <th>2011-04-01</th>\n",
       "      <td>0</td>\n",
       "      <td>1</td>\n",
       "      <td>0</td>\n",
       "      <td>0</td>\n",
       "    </tr>\n",
       "    <tr>\n",
       "      <th>2011-05-01</th>\n",
       "      <td>0</td>\n",
       "      <td>1</td>\n",
       "      <td>0</td>\n",
       "      <td>0</td>\n",
       "    </tr>\n",
       "  </tbody>\n",
       "</table>\n",
       "</div>"
      ],
      "text/plain": [
       "            quater_1  quater_2  quater_3  quater_4\n",
       "Období                                            \n",
       "2011-01-01         1         0         0         0\n",
       "2011-02-01         1         0         0         0\n",
       "2011-03-01         1         0         0         0\n",
       "2011-04-01         0         1         0         0\n",
       "2011-05-01         0         1         0         0"
      ]
     },
     "execution_count": 19,
     "metadata": {},
     "output_type": "execute_result"
    }
   ],
   "source": [
    "Q01 = pd.get_dummies(leky_R01['quater'], prefix='quater')\n",
    "Q01.head()"
   ]
  },
  {
   "cell_type": "code",
   "execution_count": 20,
   "metadata": {},
   "outputs": [
    {
     "data": {
      "text/html": [
       "<div>\n",
       "<style scoped>\n",
       "    .dataframe tbody tr th:only-of-type {\n",
       "        vertical-align: middle;\n",
       "    }\n",
       "\n",
       "    .dataframe tbody tr th {\n",
       "        vertical-align: top;\n",
       "    }\n",
       "\n",
       "    .dataframe thead th {\n",
       "        text-align: right;\n",
       "    }\n",
       "</style>\n",
       "<table border=\"1\" class=\"dataframe\">\n",
       "  <thead>\n",
       "    <tr style=\"text-align: right;\">\n",
       "      <th></th>\n",
       "      <th>month_1</th>\n",
       "      <th>month_2</th>\n",
       "      <th>month_3</th>\n",
       "      <th>month_4</th>\n",
       "      <th>month_5</th>\n",
       "      <th>month_6</th>\n",
       "      <th>month_7</th>\n",
       "      <th>month_8</th>\n",
       "      <th>month_9</th>\n",
       "      <th>month_10</th>\n",
       "      <th>month_11</th>\n",
       "      <th>month_12</th>\n",
       "    </tr>\n",
       "    <tr>\n",
       "      <th>Období</th>\n",
       "      <th></th>\n",
       "      <th></th>\n",
       "      <th></th>\n",
       "      <th></th>\n",
       "      <th></th>\n",
       "      <th></th>\n",
       "      <th></th>\n",
       "      <th></th>\n",
       "      <th></th>\n",
       "      <th></th>\n",
       "      <th></th>\n",
       "      <th></th>\n",
       "    </tr>\n",
       "  </thead>\n",
       "  <tbody>\n",
       "    <tr>\n",
       "      <th>2011-01-01</th>\n",
       "      <td>1</td>\n",
       "      <td>0</td>\n",
       "      <td>0</td>\n",
       "      <td>0</td>\n",
       "      <td>0</td>\n",
       "      <td>0</td>\n",
       "      <td>0</td>\n",
       "      <td>0</td>\n",
       "      <td>0</td>\n",
       "      <td>0</td>\n",
       "      <td>0</td>\n",
       "      <td>0</td>\n",
       "    </tr>\n",
       "    <tr>\n",
       "      <th>2011-02-01</th>\n",
       "      <td>0</td>\n",
       "      <td>1</td>\n",
       "      <td>0</td>\n",
       "      <td>0</td>\n",
       "      <td>0</td>\n",
       "      <td>0</td>\n",
       "      <td>0</td>\n",
       "      <td>0</td>\n",
       "      <td>0</td>\n",
       "      <td>0</td>\n",
       "      <td>0</td>\n",
       "      <td>0</td>\n",
       "    </tr>\n",
       "    <tr>\n",
       "      <th>2011-03-01</th>\n",
       "      <td>0</td>\n",
       "      <td>0</td>\n",
       "      <td>1</td>\n",
       "      <td>0</td>\n",
       "      <td>0</td>\n",
       "      <td>0</td>\n",
       "      <td>0</td>\n",
       "      <td>0</td>\n",
       "      <td>0</td>\n",
       "      <td>0</td>\n",
       "      <td>0</td>\n",
       "      <td>0</td>\n",
       "    </tr>\n",
       "    <tr>\n",
       "      <th>2011-04-01</th>\n",
       "      <td>0</td>\n",
       "      <td>0</td>\n",
       "      <td>0</td>\n",
       "      <td>1</td>\n",
       "      <td>0</td>\n",
       "      <td>0</td>\n",
       "      <td>0</td>\n",
       "      <td>0</td>\n",
       "      <td>0</td>\n",
       "      <td>0</td>\n",
       "      <td>0</td>\n",
       "      <td>0</td>\n",
       "    </tr>\n",
       "    <tr>\n",
       "      <th>2011-05-01</th>\n",
       "      <td>0</td>\n",
       "      <td>0</td>\n",
       "      <td>0</td>\n",
       "      <td>0</td>\n",
       "      <td>1</td>\n",
       "      <td>0</td>\n",
       "      <td>0</td>\n",
       "      <td>0</td>\n",
       "      <td>0</td>\n",
       "      <td>0</td>\n",
       "      <td>0</td>\n",
       "      <td>0</td>\n",
       "    </tr>\n",
       "  </tbody>\n",
       "</table>\n",
       "</div>"
      ],
      "text/plain": [
       "            month_1  month_2  month_3  month_4  month_5  month_6  month_7  \\\n",
       "Období                                                                      \n",
       "2011-01-01        1        0        0        0        0        0        0   \n",
       "2011-02-01        0        1        0        0        0        0        0   \n",
       "2011-03-01        0        0        1        0        0        0        0   \n",
       "2011-04-01        0        0        0        1        0        0        0   \n",
       "2011-05-01        0        0        0        0        1        0        0   \n",
       "\n",
       "            month_8  month_9  month_10  month_11  month_12  \n",
       "Období                                                      \n",
       "2011-01-01        0        0         0         0         0  \n",
       "2011-02-01        0        0         0         0         0  \n",
       "2011-03-01        0        0         0         0         0  \n",
       "2011-04-01        0        0         0         0         0  \n",
       "2011-05-01        0        0         0         0         0  "
      ]
     },
     "execution_count": 20,
     "metadata": {},
     "output_type": "execute_result"
    }
   ],
   "source": [
    "M01 = pd.get_dummies(leky_R01['month'], prefix='month')\n",
    "M01.head()"
   ]
  },
  {
   "cell_type": "markdown",
   "metadata": {},
   "source": [
    "### Ted to spojime do jednoho dataframu \"model_xx\"\n",
    "https://pandas.pydata.org/pandas-docs/stable/merging.html"
   ]
  },
  {
   "cell_type": "code",
   "execution_count": 21,
   "metadata": {
    "scrolled": true
   },
   "outputs": [
    {
     "data": {
      "text/html": [
       "<div>\n",
       "<style scoped>\n",
       "    .dataframe tbody tr th:only-of-type {\n",
       "        vertical-align: middle;\n",
       "    }\n",
       "\n",
       "    .dataframe tbody tr th {\n",
       "        vertical-align: top;\n",
       "    }\n",
       "\n",
       "    .dataframe thead th {\n",
       "        text-align: right;\n",
       "    }\n",
       "</style>\n",
       "<table border=\"1\" class=\"dataframe\">\n",
       "  <thead>\n",
       "    <tr style=\"text-align: right;\">\n",
       "      <th></th>\n",
       "      <th>Období</th>\n",
       "      <th>DDD_total</th>\n",
       "      <th>year</th>\n",
       "      <th>month</th>\n",
       "      <th>quater</th>\n",
       "      <th>trend</th>\n",
       "      <th>month_1</th>\n",
       "      <th>month_2</th>\n",
       "      <th>month_3</th>\n",
       "      <th>month_4</th>\n",
       "      <th>...</th>\n",
       "      <th>month_7</th>\n",
       "      <th>month_8</th>\n",
       "      <th>month_9</th>\n",
       "      <th>month_10</th>\n",
       "      <th>month_11</th>\n",
       "      <th>month_12</th>\n",
       "      <th>quater_1</th>\n",
       "      <th>quater_2</th>\n",
       "      <th>quater_3</th>\n",
       "      <th>quater_4</th>\n",
       "    </tr>\n",
       "    <tr>\n",
       "      <th>Období</th>\n",
       "      <th></th>\n",
       "      <th></th>\n",
       "      <th></th>\n",
       "      <th></th>\n",
       "      <th></th>\n",
       "      <th></th>\n",
       "      <th></th>\n",
       "      <th></th>\n",
       "      <th></th>\n",
       "      <th></th>\n",
       "      <th></th>\n",
       "      <th></th>\n",
       "      <th></th>\n",
       "      <th></th>\n",
       "      <th></th>\n",
       "      <th></th>\n",
       "      <th></th>\n",
       "      <th></th>\n",
       "      <th></th>\n",
       "      <th></th>\n",
       "      <th></th>\n",
       "    </tr>\n",
       "  </thead>\n",
       "  <tbody>\n",
       "    <tr>\n",
       "      <th>2011-01-01</th>\n",
       "      <td>2011-01-01</td>\n",
       "      <td>11167573.0</td>\n",
       "      <td>2011</td>\n",
       "      <td>1</td>\n",
       "      <td>1</td>\n",
       "      <td>0</td>\n",
       "      <td>1</td>\n",
       "      <td>0</td>\n",
       "      <td>0</td>\n",
       "      <td>0</td>\n",
       "      <td>...</td>\n",
       "      <td>0</td>\n",
       "      <td>0</td>\n",
       "      <td>0</td>\n",
       "      <td>0</td>\n",
       "      <td>0</td>\n",
       "      <td>0</td>\n",
       "      <td>1</td>\n",
       "      <td>0</td>\n",
       "      <td>0</td>\n",
       "      <td>0</td>\n",
       "    </tr>\n",
       "    <tr>\n",
       "      <th>2011-02-01</th>\n",
       "      <td>2011-02-01</td>\n",
       "      <td>10160263.0</td>\n",
       "      <td>2011</td>\n",
       "      <td>2</td>\n",
       "      <td>1</td>\n",
       "      <td>0</td>\n",
       "      <td>0</td>\n",
       "      <td>1</td>\n",
       "      <td>0</td>\n",
       "      <td>0</td>\n",
       "      <td>...</td>\n",
       "      <td>0</td>\n",
       "      <td>0</td>\n",
       "      <td>0</td>\n",
       "      <td>0</td>\n",
       "      <td>0</td>\n",
       "      <td>0</td>\n",
       "      <td>1</td>\n",
       "      <td>0</td>\n",
       "      <td>0</td>\n",
       "      <td>0</td>\n",
       "    </tr>\n",
       "    <tr>\n",
       "      <th>2011-03-01</th>\n",
       "      <td>2011-03-01</td>\n",
       "      <td>9895279.0</td>\n",
       "      <td>2011</td>\n",
       "      <td>3</td>\n",
       "      <td>1</td>\n",
       "      <td>0</td>\n",
       "      <td>0</td>\n",
       "      <td>0</td>\n",
       "      <td>1</td>\n",
       "      <td>0</td>\n",
       "      <td>...</td>\n",
       "      <td>0</td>\n",
       "      <td>0</td>\n",
       "      <td>0</td>\n",
       "      <td>0</td>\n",
       "      <td>0</td>\n",
       "      <td>0</td>\n",
       "      <td>1</td>\n",
       "      <td>0</td>\n",
       "      <td>0</td>\n",
       "      <td>0</td>\n",
       "    </tr>\n",
       "  </tbody>\n",
       "</table>\n",
       "<p>3 rows × 22 columns</p>\n",
       "</div>"
      ],
      "text/plain": [
       "               Období   DDD_total  year  month  quater  trend  month_1  \\\n",
       "Období                                                                   \n",
       "2011-01-01 2011-01-01  11167573.0  2011      1       1      0        1   \n",
       "2011-02-01 2011-02-01  10160263.0  2011      2       1      0        0   \n",
       "2011-03-01 2011-03-01   9895279.0  2011      3       1      0        0   \n",
       "\n",
       "            month_2  month_3  month_4    ...     month_7  month_8  month_9  \\\n",
       "Období                                   ...                                 \n",
       "2011-01-01        0        0        0    ...           0        0        0   \n",
       "2011-02-01        1        0        0    ...           0        0        0   \n",
       "2011-03-01        0        1        0    ...           0        0        0   \n",
       "\n",
       "            month_10  month_11  month_12  quater_1  quater_2  quater_3  \\\n",
       "Období                                                                   \n",
       "2011-01-01         0         0         0         1         0         0   \n",
       "2011-02-01         0         0         0         1         0         0   \n",
       "2011-03-01         0         0         0         1         0         0   \n",
       "\n",
       "            quater_4  \n",
       "Období                \n",
       "2011-01-01         0  \n",
       "2011-02-01         0  \n",
       "2011-03-01         0  \n",
       "\n",
       "[3 rows x 22 columns]"
      ]
     },
     "execution_count": 21,
     "metadata": {},
     "output_type": "execute_result"
    }
   ],
   "source": [
    "model_R01 = pd.concat([leky_R01, M01, Q01], axis=1, join_axes=[leky_R01.index])\n",
    "model_R01.head(3)"
   ]
  },
  {
   "cell_type": "code",
   "execution_count": 22,
   "metadata": {},
   "outputs": [
    {
     "name": "stdout",
     "output_type": "stream",
     "text": [
      "                            OLS Regression Results                            \n",
      "==============================================================================\n",
      "Dep. Variable:              DDD_total   R-squared:                       0.318\n",
      "Model:                            OLS   Adj. R-squared:                  0.284\n",
      "Method:                 Least Squares   F-statistic:                     9.537\n",
      "Date:                Tue, 05 Jun 2018   Prob (F-statistic):           2.21e-06\n",
      "Time:                        16:13:59   Log-Likelihood:                -1377.8\n",
      "No. Observations:                  87   AIC:                             2766.\n",
      "Df Residuals:                      82   BIC:                             2778.\n",
      "Df Model:                           4                                         \n",
      "Covariance Type:            nonrobust                                         \n",
      "==============================================================================\n",
      "                 coef    std err          t      P>|t|      [0.025      0.975]\n",
      "------------------------------------------------------------------------------\n",
      "Intercept    8.43e+06   5.03e+05     16.760      0.000    7.43e+06    9.43e+06\n",
      "trend       1.691e+05   9.68e+04      1.747      0.084   -2.34e+04    3.62e+05\n",
      "quater_1    1.416e+06   5.64e+05      2.509      0.014    2.93e+05    2.54e+06\n",
      "quater_2   -1.579e+06   5.81e+05     -2.718      0.008   -2.73e+06   -4.23e+05\n",
      "quater_3    -1.02e+06   5.81e+05     -1.757      0.083   -2.18e+06    1.35e+05\n",
      "==============================================================================\n",
      "Omnibus:                        6.757   Durbin-Watson:                   1.997\n",
      "Prob(Omnibus):                  0.034   Jarque-Bera (JB):                6.384\n",
      "Skew:                           0.513   Prob(JB):                       0.0411\n",
      "Kurtosis:                       3.841   Cond. No.                         17.4\n",
      "==============================================================================\n",
      "\n",
      "Warnings:\n",
      "[1] Standard Errors assume that the covariance matrix of the errors is correctly specified.\n"
     ]
    }
   ],
   "source": [
    "results_R01 = smf.ols('DDD_total ~ trend + quater_1 + quater_2 + quater_3', data=model_R01).fit()\n",
    "print(results_R01.summary())"
   ]
  },
  {
   "cell_type": "code",
   "execution_count": 23,
   "metadata": {
    "scrolled": false
   },
   "outputs": [
    {
     "name": "stdout",
     "output_type": "stream",
     "text": [
      "                            OLS Regression Results                            \n",
      "==============================================================================\n",
      "Dep. Variable:              DDD_total   R-squared:                       0.709\n",
      "Model:                            OLS   Adj. R-squared:                  0.661\n",
      "Method:                 Least Squares   F-statistic:                     15.00\n",
      "Date:                Tue, 05 Jun 2018   Prob (F-statistic):           2.45e-15\n",
      "Time:                        16:13:59   Log-Likelihood:                -1340.8\n",
      "No. Observations:                  87   AIC:                             2708.\n",
      "Df Residuals:                      74   BIC:                             2740.\n",
      "Df Model:                          12                                         \n",
      "Covariance Type:            nonrobust                                         \n",
      "==============================================================================\n",
      "                 coef    std err          t      P>|t|      [0.025      0.975]\n",
      "------------------------------------------------------------------------------\n",
      "Intercept   8.682e+06   5.28e+05     16.431      0.000    7.63e+06    9.74e+06\n",
      "trend       1.691e+05   6.66e+04      2.540      0.013    3.65e+04    3.02e+05\n",
      "month_1     1.164e+06   6.71e+05      1.735      0.087   -1.73e+05     2.5e+06\n",
      "month_2     1.025e+06   6.71e+05      1.528      0.131   -3.11e+05    2.36e+06\n",
      "month_3     1.302e+06   6.71e+05      1.941      0.056   -3.48e+04    2.64e+06\n",
      "month_4    -1.564e+06   6.92e+05     -2.260      0.027   -2.94e+06   -1.85e+05\n",
      "month_5    -2.027e+06   6.92e+05     -2.930      0.005   -3.41e+06   -6.48e+05\n",
      "month_6    -1.904e+06   6.92e+05     -2.752      0.007   -3.28e+06   -5.25e+05\n",
      "month_7    -4.365e+06   6.92e+05     -6.309      0.000   -5.74e+06   -2.99e+06\n",
      "month_8    -1.682e+06   6.92e+05     -2.431      0.017   -3.06e+06   -3.04e+05\n",
      "month_9     2.227e+06   6.92e+05      3.219      0.002    8.49e+05    3.61e+06\n",
      "month_10    4.993e+05   6.92e+05      0.722      0.473   -8.79e+05    1.88e+06\n",
      "month_12   -1.257e+06   6.92e+05     -1.817      0.073   -2.64e+06    1.21e+05\n",
      "==============================================================================\n",
      "Omnibus:                        0.897   Durbin-Watson:                   2.305\n",
      "Prob(Omnibus):                  0.639   Jarque-Bera (JB):                0.541\n",
      "Skew:                           0.183   Prob(JB):                        0.763\n",
      "Kurtosis:                       3.127   Cond. No.                         49.0\n",
      "==============================================================================\n",
      "\n",
      "Warnings:\n",
      "[1] Standard Errors assume that the covariance matrix of the errors is correctly specified.\n"
     ]
    }
   ],
   "source": [
    "resultsR01 = smf.ols('DDD_total ~ trend + month_1 + month_2 + month_3 + month_4 + month_5 + month_6 + month_7 + month_8 + month_9 + month_10 + month_12', data=model_R01).fit()\n",
    "print(resultsR01.summary())"
   ]
  },
  {
   "cell_type": "code",
   "execution_count": 24,
   "metadata": {},
   "outputs": [
    {
     "name": "stdout",
     "output_type": "stream",
     "text": [
      "                            OLS Regression Results                            \n",
      "==============================================================================\n",
      "Dep. Variable:      np.log(DDD_total)   R-squared:                       0.739\n",
      "Model:                            OLS   Adj. R-squared:                  0.697\n",
      "Method:                 Least Squares   F-statistic:                     17.49\n",
      "Date:                Tue, 05 Jun 2018   Prob (F-statistic):           4.91e-17\n",
      "Time:                        16:13:59   Log-Likelihood:                 47.516\n",
      "No. Observations:                  87   AIC:                            -69.03\n",
      "Df Residuals:                      74   BIC:                            -36.98\n",
      "Df Model:                          12                                         \n",
      "Covariance Type:            nonrobust                                         \n",
      "==============================================================================\n",
      "                 coef    std err          t      P>|t|      [0.025      0.975]\n",
      "------------------------------------------------------------------------------\n",
      "Intercept     15.9627      0.062    257.318      0.000      15.839      16.086\n",
      "trend          0.0193      0.008      2.470      0.016       0.004       0.035\n",
      "month_1        0.1264      0.079      1.606      0.113      -0.030       0.283\n",
      "month_2        0.1148      0.079      1.457      0.149      -0.042       0.272\n",
      "month_3        0.1344      0.079      1.706      0.092      -0.023       0.291\n",
      "month_4       -0.1785      0.081     -2.197      0.031      -0.340      -0.017\n",
      "month_5       -0.2423      0.081     -2.983      0.004      -0.404      -0.080\n",
      "month_6       -0.2207      0.081     -2.717      0.008      -0.383      -0.059\n",
      "month_7       -0.6389      0.081     -7.866      0.000      -0.801      -0.477\n",
      "month_8       -0.2439      0.081     -3.002      0.004      -0.406      -0.082\n",
      "month_9        0.2207      0.081      2.718      0.008       0.059       0.383\n",
      "month_10       0.0558      0.081      0.687      0.494      -0.106       0.218\n",
      "month_12      -0.1407      0.081     -1.732      0.087      -0.303       0.021\n",
      "==============================================================================\n",
      "Omnibus:                        1.199   Durbin-Watson:                   2.324\n",
      "Prob(Omnibus):                  0.549   Jarque-Bera (JB):                0.654\n",
      "Skew:                           0.115   Prob(JB):                        0.721\n",
      "Kurtosis:                       3.357   Cond. No.                         49.0\n",
      "==============================================================================\n",
      "\n",
      "Warnings:\n",
      "[1] Standard Errors assume that the covariance matrix of the errors is correctly specified.\n"
     ]
    }
   ],
   "source": [
    "resultsR0001 = smf.ols('np.log(DDD_total) ~ trend + month_1 + month_2 + month_3 + month_4 + month_5 + month_6 + month_7 + month_8 + month_9 + month_10 + month_12', data=model_R01).fit()\n",
    "print(resultsR0001.summary())"
   ]
  },
  {
   "cell_type": "code",
   "execution_count": null,
   "metadata": {},
   "outputs": [],
   "source": [
    "resultsR0001.predict(Xnew) # predict out of sample\n"
   ]
  }
 ],
 "metadata": {
  "kernelspec": {
   "display_name": "Python 3",
   "language": "python",
   "name": "python3"
  },
  "language_info": {
   "codemirror_mode": {
    "name": "ipython",
    "version": 3
   },
   "file_extension": ".py",
   "mimetype": "text/x-python",
   "name": "python",
   "nbconvert_exporter": "python",
   "pygments_lexer": "ipython3",
   "version": "3.6.4"
  }
 },
 "nbformat": 4,
 "nbformat_minor": 2
}
