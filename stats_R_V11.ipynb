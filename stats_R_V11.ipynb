{
 "cells": [
  {
   "cell_type": "code",
   "execution_count": 1,
   "metadata": {},
   "outputs": [],
   "source": [
    "import pandas as pd\n",
    "import numpy as np"
   ]
  },
  {
   "cell_type": "code",
   "execution_count": 2,
   "metadata": {
    "scrolled": true
   },
   "outputs": [
    {
     "data": {
      "text/html": [
       "<div>\n",
       "<style scoped>\n",
       "    .dataframe tbody tr th:only-of-type {\n",
       "        vertical-align: middle;\n",
       "    }\n",
       "\n",
       "    .dataframe tbody tr th {\n",
       "        vertical-align: top;\n",
       "    }\n",
       "\n",
       "    .dataframe thead th {\n",
       "        text-align: right;\n",
       "    }\n",
       "</style>\n",
       "<table border=\"1\" class=\"dataframe\">\n",
       "  <thead>\n",
       "    <tr style=\"text-align: right;\">\n",
       "      <th></th>\n",
       "      <th>Období</th>\n",
       "      <th>Typ odběratele</th>\n",
       "      <th>ATC7</th>\n",
       "      <th>Kód SÚKL</th>\n",
       "      <th>Název přípravku</th>\n",
       "      <th>Doplněk názvu</th>\n",
       "      <th>Držitel registračního rozhodnutí</th>\n",
       "      <th>Země</th>\n",
       "      <th>Typ pohybu</th>\n",
       "      <th>Počet balení/M</th>\n",
       "      <th>Cena za balení bez obch. přirážky a DPH</th>\n",
       "      <th>Celkem finance za všechna balení bez obch. přirážky a DPH</th>\n",
       "      <th>Počet definovaných denních dávek/balení</th>\n",
       "      <th>Počet denních definovaných dávek/balení celkem</th>\n",
       "      <th>Způsob výdeje</th>\n",
       "    </tr>\n",
       "  </thead>\n",
       "  <tbody>\n",
       "    <tr>\n",
       "      <th>0</th>\n",
       "      <td>2011-01-01</td>\n",
       "      <td>LEKAR</td>\n",
       "      <td>M01AE01</td>\n",
       "      <td>125526.0</td>\n",
       "      <td>APO-IBUPROFEN 400 MG</td>\n",
       "      <td>POR TBL FLM 100X400MG</td>\n",
       "      <td>ATX</td>\n",
       "      <td>NL</td>\n",
       "      <td>D</td>\n",
       "      <td>10.0</td>\n",
       "      <td>82.83</td>\n",
       "      <td>828.3</td>\n",
       "      <td>33.3333</td>\n",
       "      <td>333.0</td>\n",
       "      <td>F</td>\n",
       "    </tr>\n",
       "    <tr>\n",
       "      <th>1</th>\n",
       "      <td>2011-01-01</td>\n",
       "      <td>LEKARNA</td>\n",
       "      <td>M01AE01</td>\n",
       "      <td>125526.0</td>\n",
       "      <td>APO-IBUPROFEN 400 MG</td>\n",
       "      <td>POR TBL FLM 100X400MG</td>\n",
       "      <td>ATX</td>\n",
       "      <td>NL</td>\n",
       "      <td>D</td>\n",
       "      <td>71070.0</td>\n",
       "      <td>82.83</td>\n",
       "      <td>5886728.1</td>\n",
       "      <td>33.3333</td>\n",
       "      <td>2368998.0</td>\n",
       "      <td>F</td>\n",
       "    </tr>\n",
       "  </tbody>\n",
       "</table>\n",
       "</div>"
      ],
      "text/plain": [
       "       Období Typ odběratele     ATC7  Kód SÚKL       Název přípravku  \\\n",
       "0  2011-01-01          LEKAR  M01AE01  125526.0  APO-IBUPROFEN 400 MG   \n",
       "1  2011-01-01        LEKARNA  M01AE01  125526.0  APO-IBUPROFEN 400 MG   \n",
       "\n",
       "           Doplněk názvu Držitel registračního rozhodnutí Země Typ pohybu  \\\n",
       "0  POR TBL FLM 100X400MG                              ATX   NL          D   \n",
       "1  POR TBL FLM 100X400MG                              ATX   NL          D   \n",
       "\n",
       "   Počet balení/M  Cena za balení bez obch. přirážky a DPH  \\\n",
       "0            10.0                                    82.83   \n",
       "1         71070.0                                    82.83   \n",
       "\n",
       "   Celkem finance za všechna balení bez obch. přirážky a DPH  \\\n",
       "0                                              828.3           \n",
       "1                                          5886728.1           \n",
       "\n",
       "   Počet definovaných denních dávek/balení  \\\n",
       "0                                  33.3333   \n",
       "1                                  33.3333   \n",
       "\n",
       "   Počet denních definovaných dávek/balení celkem Způsob výdeje  \n",
       "0                                           333.0             F  \n",
       "1                                       2368998.0             F  "
      ]
     },
     "execution_count": 2,
     "metadata": {},
     "output_type": "execute_result"
    }
   ],
   "source": [
    "soubor = pd.read_csv('clean_data_years_filter.csv',  encoding='utf-8')\n",
    "soubor.head(2)"
   ]
  },
  {
   "cell_type": "markdown",
   "metadata": {},
   "source": [
    "###### \"clean_data_years_filter.csv\" obsahuje data, kde:"
   ]
  },
  {
   "cell_type": "markdown",
   "metadata": {},
   "source": [
    "###### \"Typ odběratele\":\n",
    "'LEKARNA', 'VETERINARNI_LEKAR', 'PRODEJCE_VLP','HYGIENICKA_STANICE', 'ZDRAVOTNICKE_ZARIZENI', 'LEKAR', 'OSOBA_POSKYTUJICI_ZDRAVOTNI_PECI'"
   ]
  },
  {
   "cell_type": "markdown",
   "metadata": {},
   "source": [
    "###### Abychom nic nepokazily, vytvorime novou tabulku \"soubor1\" a přejmenujeme poslední sloupec"
   ]
  },
  {
   "cell_type": "code",
   "execution_count": 3,
   "metadata": {},
   "outputs": [],
   "source": [
    "soubor1 = soubor.loc[:,['Období', 'ATC7', 'Počet denních definovaných dávek/balení celkem']]"
   ]
  },
  {
   "cell_type": "code",
   "execution_count": 4,
   "metadata": {},
   "outputs": [
    {
     "data": {
      "text/html": [
       "<div>\n",
       "<style scoped>\n",
       "    .dataframe tbody tr th:only-of-type {\n",
       "        vertical-align: middle;\n",
       "    }\n",
       "\n",
       "    .dataframe tbody tr th {\n",
       "        vertical-align: top;\n",
       "    }\n",
       "\n",
       "    .dataframe thead th {\n",
       "        text-align: right;\n",
       "    }\n",
       "</style>\n",
       "<table border=\"1\" class=\"dataframe\">\n",
       "  <thead>\n",
       "    <tr style=\"text-align: right;\">\n",
       "      <th></th>\n",
       "      <th>Období</th>\n",
       "      <th>ATC7</th>\n",
       "      <th>DDD_total</th>\n",
       "    </tr>\n",
       "  </thead>\n",
       "  <tbody>\n",
       "    <tr>\n",
       "      <th>0</th>\n",
       "      <td>2011-01-01</td>\n",
       "      <td>M01AE01</td>\n",
       "      <td>333.0</td>\n",
       "    </tr>\n",
       "    <tr>\n",
       "      <th>1</th>\n",
       "      <td>2011-01-01</td>\n",
       "      <td>M01AE01</td>\n",
       "      <td>2368998.0</td>\n",
       "    </tr>\n",
       "    <tr>\n",
       "      <th>2</th>\n",
       "      <td>2011-01-01</td>\n",
       "      <td>M01AE01</td>\n",
       "      <td>-45533.0</td>\n",
       "    </tr>\n",
       "    <tr>\n",
       "      <th>3</th>\n",
       "      <td>2011-01-01</td>\n",
       "      <td>M01AE01</td>\n",
       "      <td>600.0</td>\n",
       "    </tr>\n",
       "    <tr>\n",
       "      <th>4</th>\n",
       "      <td>2011-01-01</td>\n",
       "      <td>M01AE01</td>\n",
       "      <td>20.0</td>\n",
       "    </tr>\n",
       "  </tbody>\n",
       "</table>\n",
       "</div>"
      ],
      "text/plain": [
       "       Období     ATC7  DDD_total\n",
       "0  2011-01-01  M01AE01      333.0\n",
       "1  2011-01-01  M01AE01  2368998.0\n",
       "2  2011-01-01  M01AE01   -45533.0\n",
       "3  2011-01-01  M01AE01      600.0\n",
       "4  2011-01-01  M01AE01       20.0"
      ]
     },
     "execution_count": 4,
     "metadata": {},
     "output_type": "execute_result"
    }
   ],
   "source": [
    "soubor1 = soubor1.rename(index=str, columns={'Počet denních definovaných dávek/balení celkem': 'DDD_total'})\n",
    "soubor1.head()"
   ]
  },
  {
   "cell_type": "markdown",
   "metadata": {},
   "source": [
    "### Jako další krok bylo třeba seskupit všechny léky obsahující stejnou molekulu ATC. \n",
    "Stejné ATC totiž může být základem pro různé léky. Použily jsme metodu groupby, pomocí které jsme vytvořily součet napříč jednotlivými ATC za každý měsíc. Protože k tomuto výpočtu z původních patnácti sloupců v tabulce nám vystačí tři, jsme do syntaxe zapsaly jen “Období”, “ATC” a “DDD_total”. "
   ]
  },
  {
   "cell_type": "markdown",
   "metadata": {},
   "source": [
    "### Zkusime spojit jednotlive ATC do vyssi urovni molekuly. \n",
    "\n",
    "Proto napred socteme vsechny ATC, nazev kterych se zacina s R"
   ]
  },
  {
   "cell_type": "code",
   "execution_count": 10,
   "metadata": {},
   "outputs": [],
   "source": [
    "soubor_R = soubor1[soubor1['ATC7'] == 'R']"
   ]
  },
  {
   "cell_type": "code",
   "execution_count": 11,
   "metadata": {},
   "outputs": [
    {
     "data": {
      "text/html": [
       "<div>\n",
       "<style scoped>\n",
       "    .dataframe tbody tr th:only-of-type {\n",
       "        vertical-align: middle;\n",
       "    }\n",
       "\n",
       "    .dataframe tbody tr th {\n",
       "        vertical-align: top;\n",
       "    }\n",
       "\n",
       "    .dataframe thead th {\n",
       "        text-align: right;\n",
       "    }\n",
       "</style>\n",
       "<table border=\"1\" class=\"dataframe\">\n",
       "  <thead>\n",
       "    <tr style=\"text-align: right;\">\n",
       "      <th></th>\n",
       "      <th>Období</th>\n",
       "      <th>ATC7</th>\n",
       "      <th>DDD_total</th>\n",
       "    </tr>\n",
       "  </thead>\n",
       "  <tbody>\n",
       "  </tbody>\n",
       "</table>\n",
       "</div>"
      ],
      "text/plain": [
       "Empty DataFrame\n",
       "Columns: [Období, ATC7, DDD_total]\n",
       "Index: []"
      ]
     },
     "execution_count": 11,
     "metadata": {},
     "output_type": "execute_result"
    }
   ],
   "source": [
    "soubor_R.head()"
   ]
  },
  {
   "cell_type": "code",
   "execution_count": 8,
   "metadata": {},
   "outputs": [],
   "source": [
    "soubor_V11 = soubor1[soubor1['ATC7'] == 'V11']"
   ]
  },
  {
   "cell_type": "code",
   "execution_count": 9,
   "metadata": {},
   "outputs": [
    {
     "data": {
      "text/html": [
       "<div>\n",
       "<style scoped>\n",
       "    .dataframe tbody tr th:only-of-type {\n",
       "        vertical-align: middle;\n",
       "    }\n",
       "\n",
       "    .dataframe tbody tr th {\n",
       "        vertical-align: top;\n",
       "    }\n",
       "\n",
       "    .dataframe thead th {\n",
       "        text-align: right;\n",
       "    }\n",
       "</style>\n",
       "<table border=\"1\" class=\"dataframe\">\n",
       "  <thead>\n",
       "    <tr style=\"text-align: right;\">\n",
       "      <th></th>\n",
       "      <th>Období</th>\n",
       "      <th>ATC7</th>\n",
       "      <th>DDD_total</th>\n",
       "    </tr>\n",
       "  </thead>\n",
       "  <tbody>\n",
       "    <tr>\n",
       "      <th>87955</th>\n",
       "      <td>2018-03-01</td>\n",
       "      <td>V11</td>\n",
       "      <td>NaN</td>\n",
       "    </tr>\n",
       "    <tr>\n",
       "      <th>87956</th>\n",
       "      <td>2018-03-01</td>\n",
       "      <td>V11</td>\n",
       "      <td>NaN</td>\n",
       "    </tr>\n",
       "    <tr>\n",
       "      <th>87957</th>\n",
       "      <td>2018-03-01</td>\n",
       "      <td>V11</td>\n",
       "      <td>NaN</td>\n",
       "    </tr>\n",
       "  </tbody>\n",
       "</table>\n",
       "</div>"
      ],
      "text/plain": [
       "           Období ATC7  DDD_total\n",
       "87955  2018-03-01  V11        NaN\n",
       "87956  2018-03-01  V11        NaN\n",
       "87957  2018-03-01  V11        NaN"
      ]
     },
     "execution_count": 9,
     "metadata": {},
     "output_type": "execute_result"
    }
   ],
   "source": [
    "soubor_V11.tail(3)"
   ]
  },
  {
   "cell_type": "code",
   "execution_count": 13,
   "metadata": {},
   "outputs": [
    {
     "data": {
      "text/plain": [
       "(20253, 3)"
      ]
     },
     "execution_count": 13,
     "metadata": {},
     "output_type": "execute_result"
    }
   ],
   "source": [
    "soubor_V11.shape"
   ]
  },
  {
   "cell_type": "code",
   "execution_count": 12,
   "metadata": {},
   "outputs": [
    {
     "data": {
      "text/plain": [
       "(20253,)"
      ]
     },
     "execution_count": 12,
     "metadata": {},
     "output_type": "execute_result"
    }
   ],
   "source": [
    "soubor_V11['DDD_total'].isnull().shape"
   ]
  }
 ],
 "metadata": {
  "kernelspec": {
   "display_name": "Python 3",
   "language": "python",
   "name": "python3"
  },
  "language_info": {
   "codemirror_mode": {
    "name": "ipython",
    "version": 3
   },
   "file_extension": ".py",
   "mimetype": "text/x-python",
   "name": "python",
   "nbconvert_exporter": "python",
   "pygments_lexer": "ipython3",
   "version": "3.6.4"
  }
 },
 "nbformat": 4,
 "nbformat_minor": 2
}
